{
  "nbformat": 4,
  "nbformat_minor": 0,
  "metadata": {
    "colab": {
      "name": "文字認識　MNIST kaggle",
      "provenance": [],
      "collapsed_sections": [],
      "authorship_tag": "ABX9TyOXxwNKltMgUoBWcerE74YA",
      "include_colab_link": true
    },
    "kernelspec": {
      "name": "python3",
      "display_name": "Python 3"
    },
    "accelerator": "GPU"
  },
  "cells": [
    {
      "cell_type": "markdown",
      "metadata": {
        "id": "view-in-github",
        "colab_type": "text"
      },
      "source": [
        "<a href=\"https://colab.research.google.com/github/furusawa-ryoji/MNIST/blob/develop/%E6%96%87%E5%AD%97%E8%AA%8D%E8%AD%98%E3%80%80MNIST_kaggle.ipynb\" target=\"_parent\"><img src=\"https://colab.research.google.com/assets/colab-badge.svg\" alt=\"Open In Colab\"/></a>"
      ]
    },
    {
      "cell_type": "markdown",
      "metadata": {
        "id": "vjdJaicQqmS3",
        "colab_type": "text"
      },
      "source": [
        "# kaggleの評価\n",
        "データセットは1枚の画像のピクセルが784(28*28)列で表現されている(0,1で白黒判定かどうかはまだ調べていないがおそらくそう)\n",
        "\n",
        "提出方法はIdとテストデータを予測した手書き文字の2列のCSVファイル\n",
        "\n",
        "評価方法はどれだけ予想した手書き文字が合っているかで判定(97%正答なら0.97と表示)\n",
        "一番いいのは1.00"
      ]
    },
    {
      "cell_type": "code",
      "metadata": {
        "id": "E4LhyGFVvGcJ",
        "colab_type": "code",
        "colab": {
          "base_uri": "https://localhost:8080/",
          "height": 85
        },
        "outputId": "74523192-9e91-4e09-a576-d876b5fe34d7"
      },
      "source": [
        "# ZIPファイル解凍\n",
        "!unzip digit*"
      ],
      "execution_count": 1,
      "outputs": [
        {
          "output_type": "stream",
          "text": [
            "Archive:  digit-recognizer.zip\n",
            "  inflating: sample_submission.csv   \n",
            "  inflating: test.csv                \n",
            "  inflating: train.csv               \n"
          ],
          "name": "stdout"
        }
      ]
    },
    {
      "cell_type": "code",
      "metadata": {
        "id": "ySvKYqff3obK",
        "colab_type": "code",
        "colab": {
          "base_uri": "https://localhost:8080/",
          "height": 51
        },
        "outputId": "5dc65e62-db4f-4270-bd01-a8c4be1f6da2"
      },
      "source": [
        "import pandas as pd\n",
        "import numpy as np\n",
        "\n",
        "# データの読み込み\n",
        "train_df = pd.read_csv('train.csv')\n",
        "test_df = pd.read_csv('test.csv')\n",
        "print(train_df.shape)\n",
        "print(test_df.shape)"
      ],
      "execution_count": 24,
      "outputs": [
        {
          "output_type": "stream",
          "text": [
            "(42000, 785)\n",
            "(28000, 784)\n"
          ],
          "name": "stdout"
        }
      ]
    },
    {
      "cell_type": "code",
      "metadata": {
        "id": "FY83NCAjBPaC",
        "colab_type": "code",
        "colab": {
          "base_uri": "https://localhost:8080/",
          "height": 255
        },
        "outputId": "9513e64d-4f07-4d14-b6f8-2466c7da4706"
      },
      "source": [
        "# データの確認\n",
        "train_df.info"
      ],
      "execution_count": 25,
      "outputs": [
        {
          "output_type": "execute_result",
          "data": {
            "text/plain": [
              "<bound method DataFrame.info of        label  pixel0  pixel1  pixel2  ...  pixel780  pixel781  pixel782  pixel783\n",
              "0          1       0       0       0  ...         0         0         0         0\n",
              "1          0       0       0       0  ...         0         0         0         0\n",
              "2          1       0       0       0  ...         0         0         0         0\n",
              "3          4       0       0       0  ...         0         0         0         0\n",
              "4          0       0       0       0  ...         0         0         0         0\n",
              "...      ...     ...     ...     ...  ...       ...       ...       ...       ...\n",
              "41995      0       0       0       0  ...         0         0         0         0\n",
              "41996      1       0       0       0  ...         0         0         0         0\n",
              "41997      7       0       0       0  ...         0         0         0         0\n",
              "41998      6       0       0       0  ...         0         0         0         0\n",
              "41999      9       0       0       0  ...         0         0         0         0\n",
              "\n",
              "[42000 rows x 785 columns]>"
            ]
          },
          "metadata": {
            "tags": []
          },
          "execution_count": 25
        }
      ]
    },
    {
      "cell_type": "code",
      "metadata": {
        "id": "jH_Iq6OQBgLa",
        "colab_type": "code",
        "colab": {
          "base_uri": "https://localhost:8080/",
          "height": 255
        },
        "outputId": "98a72d5f-8b71-4f4f-ee8b-510157b2f203"
      },
      "source": [
        "# データフレームを配列に出来ているか確認\n",
        "train_data = np.array(train_df)\n",
        "test = np.array(test_df)\n",
        "print(train_data)\n",
        "print(test)"
      ],
      "execution_count": 26,
      "outputs": [
        {
          "output_type": "stream",
          "text": [
            "[[1 0 0 ... 0 0 0]\n",
            " [0 0 0 ... 0 0 0]\n",
            " [1 0 0 ... 0 0 0]\n",
            " ...\n",
            " [7 0 0 ... 0 0 0]\n",
            " [6 0 0 ... 0 0 0]\n",
            " [9 0 0 ... 0 0 0]]\n",
            "[[0 0 0 ... 0 0 0]\n",
            " [0 0 0 ... 0 0 0]\n",
            " [0 0 0 ... 0 0 0]\n",
            " ...\n",
            " [0 0 0 ... 0 0 0]\n",
            " [0 0 0 ... 0 0 0]\n",
            " [0 0 0 ... 0 0 0]]\n"
          ],
          "name": "stdout"
        }
      ]
    },
    {
      "cell_type": "code",
      "metadata": {
        "id": "1LiJx_nUCl99",
        "colab_type": "code",
        "colab": {
          "base_uri": "https://localhost:8080/",
          "height": 136
        },
        "outputId": "4e0287c0-f765-4011-a0a9-f9070b77c15a"
      },
      "source": [
        "# ラベルと目的変数の定義\n",
        "label = train_data[:, 0]\n",
        "train = train_data[:,1:]\n",
        "print(train)"
      ],
      "execution_count": 27,
      "outputs": [
        {
          "output_type": "stream",
          "text": [
            "[[0 0 0 ... 0 0 0]\n",
            " [0 0 0 ... 0 0 0]\n",
            " [0 0 0 ... 0 0 0]\n",
            " ...\n",
            " [0 0 0 ... 0 0 0]\n",
            " [0 0 0 ... 0 0 0]\n",
            " [0 0 0 ... 0 0 0]]\n"
          ],
          "name": "stdout"
        }
      ]
    },
    {
      "cell_type": "code",
      "metadata": {
        "id": "7pb6o0wbazqj",
        "colab_type": "code",
        "colab": {}
      },
      "source": [
        "# 画像は1行→28*28にreshapeする必要がある\n",
        "train = train.reshape(len(train), 28, 28, 1)\n",
        "test = test.reshape(len(test), 28, 28, 1)\n",
        "X_train = train\n",
        "X_test = test\n",
        "# print(train)\n",
        "# print(test)\n",
        "# print(train.shape)\n",
        "# print(test.shape)"
      ],
      "execution_count": 28,
      "outputs": []
    },
    {
      "cell_type": "code",
      "metadata": {
        "id": "C5qWYUxvCyTS",
        "colab_type": "code",
        "colab": {}
      },
      "source": [
        "from sklearn.model_selection import KFold\n",
        "from sklearn.model_selection import train_test_split\n",
        "\n",
        "# クロスバリデーション(トレーニングデータを5つに分割)\n",
        "kf = KFold(n_splits=5, shuffle=True)\n",
        "\n",
        "# 多クラス分類のときにクラスのラベルをそのまま推論させない\n",
        "# One-Hot表現に変換し、各クラスに分類される確率を出す。\n",
        "# 0～9の数字のラベルに分類する？\n",
        "from keras.utils import to_categorical\n",
        "y_train = to_categorical(label, 10)\n",
        "\n",
        "for train_index, eval_index in kf.split(X_train):\n",
        "    X_tra, X_eval = X_train[train_index], X_train[eval_index]\n",
        "    y_tra, y_eval = y_train[train_index], y_train[eval_index]\n",
        "\n",
        "# データを正規化\n",
        "x_tra = X_tra / 255\n",
        "x_eval = X_eval / 255"
      ],
      "execution_count": 29,
      "outputs": []
    },
    {
      "cell_type": "code",
      "metadata": {
        "id": "1aQwlxquhrl5",
        "colab_type": "code",
        "colab": {
          "base_uri": "https://localhost:8080/",
          "height": 153
        },
        "outputId": "636deda7-1872-45fb-ddd8-8144e1a6aece"
      },
      "source": [
        "print(y_train)\n",
        "print(y_train.shape)"
      ],
      "execution_count": 30,
      "outputs": [
        {
          "output_type": "stream",
          "text": [
            "[[0. 1. 0. ... 0. 0. 0.]\n",
            " [1. 0. 0. ... 0. 0. 0.]\n",
            " [0. 1. 0. ... 0. 0. 0.]\n",
            " ...\n",
            " [0. 0. 0. ... 1. 0. 0.]\n",
            " [0. 0. 0. ... 0. 0. 0.]\n",
            " [0. 0. 0. ... 0. 0. 1.]]\n",
            "(42000, 10)\n"
          ],
          "name": "stdout"
        }
      ]
    },
    {
      "cell_type": "code",
      "metadata": {
        "id": "FrYqQTbXE2eH",
        "colab_type": "code",
        "colab": {}
      },
      "source": [
        "import matplotlib.pyplot as plt\n",
        "%matplotlib inline\n",
        "# 画像の表示:imshow(行)→28*28にすればいいのではないか？\n",
        "# plt.imshow(train[300])"
      ],
      "execution_count": 31,
      "outputs": []
    },
    {
      "cell_type": "code",
      "metadata": {
        "id": "Gnwh2KbxFG9s",
        "colab_type": "code",
        "colab": {}
      },
      "source": [
        "from keras.models import Sequential\n",
        "from keras.layers import Dense, Dropout, Flatten\n",
        "from keras.layers import Conv2D, MaxPooling2D\n",
        "from keras.optimizers import SGD\n",
        "from keras.datasets import mnist\n",
        "from keras import backend as K\n",
        "from keras.preprocessing.image import ImageDataGenerator"
      ],
      "execution_count": 32,
      "outputs": []
    },
    {
      "cell_type": "code",
      "metadata": {
        "id": "oAGAiqOHIQ_a",
        "colab_type": "code",
        "colab": {
          "base_uri": "https://localhost:8080/",
          "height": 425
        },
        "outputId": "2e321c9d-07ec-4157-9bb6-12f8180ad140"
      },
      "source": [
        "# モデルを作成：精度を上げるためにはここが一番重要\n",
        "model = Sequential()\n",
        "model.add(Conv2D(32, kernel_size=(3, 3),\n",
        "                 activation='relu',\n",
        "                 input_shape=(28, 28, 1)))\n",
        "model.add(MaxPooling2D(pool_size=(2, 2)))\n",
        "\n",
        "model.add(Conv2D(64, (3, 3), activation='relu'))\n",
        "model.add(MaxPooling2D(pool_size=(2, 2)))\n",
        "model.add(Dropout(0.25))\n",
        "\n",
        "model.add(Flatten())\n",
        "model.add(Dense(512, activation='relu'))\n",
        "model.add(Dense(10, activation='softmax'))\n",
        "\n",
        "# 学習のためのモデルを設定\n",
        "model.compile(loss='categorical_crossentropy',\n",
        "              optimizer=SGD(lr=0.0001),\n",
        "              metrics=['accuracy'])\n",
        "model.summary()"
      ],
      "execution_count": 33,
      "outputs": [
        {
          "output_type": "stream",
          "text": [
            "Model: \"sequential_1\"\n",
            "_________________________________________________________________\n",
            "Layer (type)                 Output Shape              Param #   \n",
            "=================================================================\n",
            "conv2d_2 (Conv2D)            (None, 26, 26, 32)        320       \n",
            "_________________________________________________________________\n",
            "max_pooling2d_2 (MaxPooling2 (None, 13, 13, 32)        0         \n",
            "_________________________________________________________________\n",
            "conv2d_3 (Conv2D)            (None, 11, 11, 64)        18496     \n",
            "_________________________________________________________________\n",
            "max_pooling2d_3 (MaxPooling2 (None, 5, 5, 64)          0         \n",
            "_________________________________________________________________\n",
            "dropout_1 (Dropout)          (None, 5, 5, 64)          0         \n",
            "_________________________________________________________________\n",
            "flatten_1 (Flatten)          (None, 1600)              0         \n",
            "_________________________________________________________________\n",
            "dense_2 (Dense)              (None, 512)               819712    \n",
            "_________________________________________________________________\n",
            "dense_3 (Dense)              (None, 10)                5130      \n",
            "=================================================================\n",
            "Total params: 843,658\n",
            "Trainable params: 843,658\n",
            "Non-trainable params: 0\n",
            "_________________________________________________________________\n"
          ],
          "name": "stdout"
        }
      ]
    },
    {
      "cell_type": "code",
      "metadata": {
        "id": "FGx_vz4ez6PX",
        "colab_type": "code",
        "colab": {
          "base_uri": "https://localhost:8080/",
          "height": 1000
        },
        "outputId": "84c7fffb-d01c-4ae8-bc1b-c47e486a9e43"
      },
      "source": [
        "# 学習\n",
        "result = model.fit(x_tra, y_tra,\n",
        "           epochs=100,\n",
        "          validation_data=(x_eval, y_eval)\n",
        "           )\n",
        "\n",
        "print('')\n",
        "# 精度を検証\n",
        "model.evaluate(x_eval, y_eval)\n",
        "\n",
        "print('')\n",
        "# 学習状況のログを表示\n",
        "history = result.history\n",
        "# vars(model.history)['history']"
      ],
      "execution_count": 34,
      "outputs": [
        {
          "output_type": "stream",
          "text": [
            "Epoch 1/100\n",
            "1050/1050 [==============================] - 4s 3ms/step - loss: 2.3149 - accuracy: 0.0897 - val_loss: 2.3019 - val_accuracy: 0.0989\n",
            "Epoch 2/100\n",
            "1050/1050 [==============================] - 3s 3ms/step - loss: 2.2974 - accuracy: 0.1108 - val_loss: 2.2840 - val_accuracy: 0.1275\n",
            "Epoch 3/100\n",
            "1050/1050 [==============================] - 3s 3ms/step - loss: 2.2802 - accuracy: 0.1364 - val_loss: 2.2662 - val_accuracy: 0.1577\n",
            "Epoch 4/100\n",
            "1050/1050 [==============================] - 3s 3ms/step - loss: 2.2633 - accuracy: 0.1676 - val_loss: 2.2475 - val_accuracy: 0.2104\n",
            "Epoch 5/100\n",
            "1050/1050 [==============================] - 3s 3ms/step - loss: 2.2449 - accuracy: 0.2065 - val_loss: 2.2270 - val_accuracy: 0.2892\n",
            "Epoch 6/100\n",
            "1050/1050 [==============================] - 3s 3ms/step - loss: 2.2250 - accuracy: 0.2539 - val_loss: 2.2036 - val_accuracy: 0.3688\n",
            "Epoch 7/100\n",
            "1050/1050 [==============================] - 3s 3ms/step - loss: 2.2022 - accuracy: 0.3101 - val_loss: 2.1762 - val_accuracy: 0.4565\n",
            "Epoch 8/100\n",
            "1050/1050 [==============================] - 3s 3ms/step - loss: 2.1741 - accuracy: 0.3715 - val_loss: 2.1431 - val_accuracy: 0.5426\n",
            "Epoch 9/100\n",
            "1050/1050 [==============================] - 3s 3ms/step - loss: 2.1419 - accuracy: 0.4315 - val_loss: 2.1028 - val_accuracy: 0.6029\n",
            "Epoch 10/100\n",
            "1050/1050 [==============================] - 3s 3ms/step - loss: 2.1013 - accuracy: 0.4831 - val_loss: 2.0526 - val_accuracy: 0.6421\n",
            "Epoch 11/100\n",
            "1050/1050 [==============================] - 3s 3ms/step - loss: 2.0483 - accuracy: 0.5249 - val_loss: 1.9896 - val_accuracy: 0.6704\n",
            "Epoch 12/100\n",
            "1050/1050 [==============================] - 3s 3ms/step - loss: 1.9846 - accuracy: 0.5590 - val_loss: 1.9109 - val_accuracy: 0.6925\n",
            "Epoch 13/100\n",
            "1050/1050 [==============================] - 3s 3ms/step - loss: 1.9039 - accuracy: 0.5865 - val_loss: 1.8131 - val_accuracy: 0.7093\n",
            "Epoch 14/100\n",
            "1050/1050 [==============================] - 3s 3ms/step - loss: 1.8058 - accuracy: 0.6058 - val_loss: 1.6951 - val_accuracy: 0.7233\n",
            "Epoch 15/100\n",
            "1050/1050 [==============================] - 3s 3ms/step - loss: 1.6870 - accuracy: 0.6311 - val_loss: 1.5592 - val_accuracy: 0.7344\n",
            "Epoch 16/100\n",
            "1050/1050 [==============================] - 3s 3ms/step - loss: 1.5559 - accuracy: 0.6486 - val_loss: 1.4119 - val_accuracy: 0.7505\n",
            "Epoch 17/100\n",
            "1050/1050 [==============================] - 3s 3ms/step - loss: 1.4103 - accuracy: 0.6747 - val_loss: 1.2624 - val_accuracy: 0.7665\n",
            "Epoch 18/100\n",
            "1050/1050 [==============================] - 3s 3ms/step - loss: 1.2770 - accuracy: 0.6929 - val_loss: 1.1245 - val_accuracy: 0.7817\n",
            "Epoch 19/100\n",
            "1050/1050 [==============================] - 3s 3ms/step - loss: 1.1584 - accuracy: 0.7048 - val_loss: 1.0035 - val_accuracy: 0.7963\n",
            "Epoch 20/100\n",
            "1050/1050 [==============================] - 3s 3ms/step - loss: 1.0499 - accuracy: 0.7220 - val_loss: 0.9030 - val_accuracy: 0.8068\n",
            "Epoch 21/100\n",
            "1050/1050 [==============================] - 3s 3ms/step - loss: 0.9627 - accuracy: 0.7379 - val_loss: 0.8222 - val_accuracy: 0.8161\n",
            "Epoch 22/100\n",
            "1050/1050 [==============================] - 3s 3ms/step - loss: 0.8978 - accuracy: 0.7471 - val_loss: 0.7561 - val_accuracy: 0.8235\n",
            "Epoch 23/100\n",
            "1050/1050 [==============================] - 3s 3ms/step - loss: 0.8333 - accuracy: 0.7601 - val_loss: 0.7026 - val_accuracy: 0.8286\n",
            "Epoch 24/100\n",
            "1050/1050 [==============================] - 3s 3ms/step - loss: 0.7876 - accuracy: 0.7705 - val_loss: 0.6596 - val_accuracy: 0.8335\n",
            "Epoch 25/100\n",
            "1050/1050 [==============================] - 3s 3ms/step - loss: 0.7532 - accuracy: 0.7760 - val_loss: 0.6245 - val_accuracy: 0.8379\n",
            "Epoch 26/100\n",
            "1050/1050 [==============================] - 3s 3ms/step - loss: 0.7182 - accuracy: 0.7838 - val_loss: 0.5930 - val_accuracy: 0.8440\n",
            "Epoch 27/100\n",
            "1050/1050 [==============================] - 3s 3ms/step - loss: 0.6889 - accuracy: 0.7899 - val_loss: 0.5662 - val_accuracy: 0.8461\n",
            "Epoch 28/100\n",
            "1050/1050 [==============================] - 3s 3ms/step - loss: 0.6659 - accuracy: 0.7954 - val_loss: 0.5444 - val_accuracy: 0.8505\n",
            "Epoch 29/100\n",
            "1050/1050 [==============================] - 3s 3ms/step - loss: 0.6447 - accuracy: 0.8024 - val_loss: 0.5248 - val_accuracy: 0.8558\n",
            "Epoch 30/100\n",
            "1050/1050 [==============================] - 3s 3ms/step - loss: 0.6276 - accuracy: 0.8059 - val_loss: 0.5085 - val_accuracy: 0.8586\n",
            "Epoch 31/100\n",
            "1050/1050 [==============================] - 3s 3ms/step - loss: 0.6096 - accuracy: 0.8142 - val_loss: 0.4938 - val_accuracy: 0.8638\n",
            "Epoch 32/100\n",
            "1050/1050 [==============================] - 3s 3ms/step - loss: 0.5928 - accuracy: 0.8154 - val_loss: 0.4801 - val_accuracy: 0.8662\n",
            "Epoch 33/100\n",
            "1050/1050 [==============================] - 3s 3ms/step - loss: 0.5762 - accuracy: 0.8188 - val_loss: 0.4673 - val_accuracy: 0.8686\n",
            "Epoch 34/100\n",
            "1050/1050 [==============================] - 3s 3ms/step - loss: 0.5670 - accuracy: 0.8215 - val_loss: 0.4556 - val_accuracy: 0.8730\n",
            "Epoch 35/100\n",
            "1050/1050 [==============================] - 3s 3ms/step - loss: 0.5526 - accuracy: 0.8285 - val_loss: 0.4448 - val_accuracy: 0.8737\n",
            "Epoch 36/100\n",
            "1050/1050 [==============================] - 3s 3ms/step - loss: 0.5444 - accuracy: 0.8295 - val_loss: 0.4359 - val_accuracy: 0.8763\n",
            "Epoch 37/100\n",
            "1050/1050 [==============================] - 3s 3ms/step - loss: 0.5333 - accuracy: 0.8346 - val_loss: 0.4284 - val_accuracy: 0.8776\n",
            "Epoch 38/100\n",
            "1050/1050 [==============================] - 3s 3ms/step - loss: 0.5202 - accuracy: 0.8371 - val_loss: 0.4217 - val_accuracy: 0.8798\n",
            "Epoch 39/100\n",
            "1050/1050 [==============================] - 3s 3ms/step - loss: 0.5157 - accuracy: 0.8387 - val_loss: 0.4123 - val_accuracy: 0.8820\n",
            "Epoch 40/100\n",
            "1050/1050 [==============================] - 3s 3ms/step - loss: 0.5068 - accuracy: 0.8427 - val_loss: 0.4053 - val_accuracy: 0.8844\n",
            "Epoch 41/100\n",
            "1050/1050 [==============================] - 3s 3ms/step - loss: 0.4969 - accuracy: 0.8457 - val_loss: 0.3999 - val_accuracy: 0.8855\n",
            "Epoch 42/100\n",
            "1050/1050 [==============================] - 3s 3ms/step - loss: 0.4872 - accuracy: 0.8496 - val_loss: 0.3927 - val_accuracy: 0.8882\n",
            "Epoch 43/100\n",
            "1050/1050 [==============================] - 3s 3ms/step - loss: 0.4814 - accuracy: 0.8480 - val_loss: 0.3876 - val_accuracy: 0.8883\n",
            "Epoch 44/100\n",
            "1050/1050 [==============================] - 3s 3ms/step - loss: 0.4739 - accuracy: 0.8522 - val_loss: 0.3824 - val_accuracy: 0.8898\n",
            "Epoch 45/100\n",
            "1050/1050 [==============================] - 3s 3ms/step - loss: 0.4681 - accuracy: 0.8534 - val_loss: 0.3775 - val_accuracy: 0.8920\n",
            "Epoch 46/100\n",
            "1050/1050 [==============================] - 3s 3ms/step - loss: 0.4636 - accuracy: 0.8563 - val_loss: 0.3703 - val_accuracy: 0.8930\n",
            "Epoch 47/100\n",
            "1050/1050 [==============================] - 3s 3ms/step - loss: 0.4549 - accuracy: 0.8584 - val_loss: 0.3676 - val_accuracy: 0.8939\n",
            "Epoch 48/100\n",
            "1050/1050 [==============================] - 4s 4ms/step - loss: 0.4524 - accuracy: 0.8602 - val_loss: 0.3628 - val_accuracy: 0.8951\n",
            "Epoch 49/100\n",
            "1050/1050 [==============================] - 4s 3ms/step - loss: 0.4482 - accuracy: 0.8627 - val_loss: 0.3575 - val_accuracy: 0.8969\n",
            "Epoch 50/100\n",
            "1050/1050 [==============================] - 4s 3ms/step - loss: 0.4418 - accuracy: 0.8626 - val_loss: 0.3515 - val_accuracy: 0.8994\n",
            "Epoch 51/100\n",
            "1050/1050 [==============================] - 3s 3ms/step - loss: 0.4317 - accuracy: 0.8661 - val_loss: 0.3480 - val_accuracy: 0.8993\n",
            "Epoch 52/100\n",
            "1050/1050 [==============================] - 3s 3ms/step - loss: 0.4274 - accuracy: 0.8673 - val_loss: 0.3440 - val_accuracy: 0.9013\n",
            "Epoch 53/100\n",
            "1050/1050 [==============================] - 3s 3ms/step - loss: 0.4214 - accuracy: 0.8700 - val_loss: 0.3420 - val_accuracy: 0.9021\n",
            "Epoch 54/100\n",
            "1050/1050 [==============================] - 3s 3ms/step - loss: 0.4215 - accuracy: 0.8698 - val_loss: 0.3363 - val_accuracy: 0.9033\n",
            "Epoch 55/100\n",
            "1050/1050 [==============================] - 3s 3ms/step - loss: 0.4149 - accuracy: 0.8726 - val_loss: 0.3335 - val_accuracy: 0.9051\n",
            "Epoch 56/100\n",
            "1050/1050 [==============================] - 3s 3ms/step - loss: 0.4034 - accuracy: 0.8763 - val_loss: 0.3302 - val_accuracy: 0.9040\n",
            "Epoch 57/100\n",
            "1050/1050 [==============================] - 3s 3ms/step - loss: 0.4070 - accuracy: 0.8726 - val_loss: 0.3268 - val_accuracy: 0.9075\n",
            "Epoch 58/100\n",
            "1050/1050 [==============================] - 3s 3ms/step - loss: 0.4004 - accuracy: 0.8751 - val_loss: 0.3226 - val_accuracy: 0.9080\n",
            "Epoch 59/100\n",
            "1050/1050 [==============================] - 3s 3ms/step - loss: 0.3929 - accuracy: 0.8786 - val_loss: 0.3201 - val_accuracy: 0.9083\n",
            "Epoch 60/100\n",
            "1050/1050 [==============================] - 3s 3ms/step - loss: 0.3930 - accuracy: 0.8757 - val_loss: 0.3159 - val_accuracy: 0.9094\n",
            "Epoch 61/100\n",
            "1050/1050 [==============================] - 3s 3ms/step - loss: 0.3884 - accuracy: 0.8813 - val_loss: 0.3133 - val_accuracy: 0.9105\n",
            "Epoch 62/100\n",
            "1050/1050 [==============================] - 3s 3ms/step - loss: 0.3846 - accuracy: 0.8821 - val_loss: 0.3118 - val_accuracy: 0.9102\n",
            "Epoch 63/100\n",
            "1050/1050 [==============================] - 3s 3ms/step - loss: 0.3816 - accuracy: 0.8811 - val_loss: 0.3099 - val_accuracy: 0.9100\n",
            "Epoch 64/100\n",
            "1050/1050 [==============================] - 3s 3ms/step - loss: 0.3732 - accuracy: 0.8848 - val_loss: 0.3065 - val_accuracy: 0.9123\n",
            "Epoch 65/100\n",
            "1050/1050 [==============================] - 3s 3ms/step - loss: 0.3699 - accuracy: 0.8881 - val_loss: 0.3020 - val_accuracy: 0.9129\n",
            "Epoch 66/100\n",
            "1050/1050 [==============================] - 3s 3ms/step - loss: 0.3697 - accuracy: 0.8843 - val_loss: 0.3000 - val_accuracy: 0.9131\n",
            "Epoch 67/100\n",
            "1050/1050 [==============================] - 3s 3ms/step - loss: 0.3627 - accuracy: 0.8886 - val_loss: 0.2964 - val_accuracy: 0.9149\n",
            "Epoch 68/100\n",
            "1050/1050 [==============================] - 3s 3ms/step - loss: 0.3609 - accuracy: 0.8908 - val_loss: 0.2937 - val_accuracy: 0.9146\n",
            "Epoch 69/100\n",
            "1050/1050 [==============================] - 3s 3ms/step - loss: 0.3549 - accuracy: 0.8924 - val_loss: 0.2916 - val_accuracy: 0.9143\n",
            "Epoch 70/100\n",
            "1050/1050 [==============================] - 3s 3ms/step - loss: 0.3547 - accuracy: 0.8920 - val_loss: 0.2908 - val_accuracy: 0.9150\n",
            "Epoch 71/100\n",
            "1050/1050 [==============================] - 3s 3ms/step - loss: 0.3496 - accuracy: 0.8926 - val_loss: 0.2866 - val_accuracy: 0.9160\n",
            "Epoch 72/100\n",
            "1050/1050 [==============================] - 3s 3ms/step - loss: 0.3467 - accuracy: 0.8943 - val_loss: 0.2847 - val_accuracy: 0.9170\n",
            "Epoch 73/100\n",
            "1050/1050 [==============================] - 3s 3ms/step - loss: 0.3411 - accuracy: 0.8945 - val_loss: 0.2819 - val_accuracy: 0.9182\n",
            "Epoch 74/100\n",
            "1050/1050 [==============================] - 3s 3ms/step - loss: 0.3428 - accuracy: 0.8940 - val_loss: 0.2792 - val_accuracy: 0.9186\n",
            "Epoch 75/100\n",
            "1050/1050 [==============================] - 3s 3ms/step - loss: 0.3383 - accuracy: 0.8949 - val_loss: 0.2770 - val_accuracy: 0.9186\n",
            "Epoch 76/100\n",
            "1050/1050 [==============================] - 3s 3ms/step - loss: 0.3342 - accuracy: 0.8978 - val_loss: 0.2745 - val_accuracy: 0.9187\n",
            "Epoch 77/100\n",
            "1050/1050 [==============================] - 3s 3ms/step - loss: 0.3276 - accuracy: 0.8990 - val_loss: 0.2727 - val_accuracy: 0.9193\n",
            "Epoch 78/100\n",
            "1050/1050 [==============================] - 3s 3ms/step - loss: 0.3258 - accuracy: 0.8998 - val_loss: 0.2713 - val_accuracy: 0.9200\n",
            "Epoch 79/100\n",
            "1050/1050 [==============================] - 3s 3ms/step - loss: 0.3281 - accuracy: 0.9002 - val_loss: 0.2690 - val_accuracy: 0.9201\n",
            "Epoch 80/100\n",
            "1050/1050 [==============================] - 3s 3ms/step - loss: 0.3235 - accuracy: 0.8999 - val_loss: 0.2656 - val_accuracy: 0.9220\n",
            "Epoch 81/100\n",
            "1050/1050 [==============================] - 3s 3ms/step - loss: 0.3192 - accuracy: 0.9025 - val_loss: 0.2636 - val_accuracy: 0.9227\n",
            "Epoch 82/100\n",
            "1050/1050 [==============================] - 3s 3ms/step - loss: 0.3167 - accuracy: 0.9024 - val_loss: 0.2629 - val_accuracy: 0.9221\n",
            "Epoch 83/100\n",
            "1050/1050 [==============================] - 3s 3ms/step - loss: 0.3163 - accuracy: 0.9047 - val_loss: 0.2605 - val_accuracy: 0.9238\n",
            "Epoch 84/100\n",
            "1050/1050 [==============================] - 3s 3ms/step - loss: 0.3109 - accuracy: 0.9048 - val_loss: 0.2578 - val_accuracy: 0.9237\n",
            "Epoch 85/100\n",
            "1050/1050 [==============================] - 3s 3ms/step - loss: 0.3080 - accuracy: 0.9038 - val_loss: 0.2565 - val_accuracy: 0.9252\n",
            "Epoch 86/100\n",
            "1050/1050 [==============================] - 3s 3ms/step - loss: 0.3110 - accuracy: 0.9064 - val_loss: 0.2547 - val_accuracy: 0.9262\n",
            "Epoch 87/100\n",
            "1050/1050 [==============================] - 3s 3ms/step - loss: 0.3077 - accuracy: 0.9059 - val_loss: 0.2537 - val_accuracy: 0.9258\n",
            "Epoch 88/100\n",
            "1050/1050 [==============================] - 3s 3ms/step - loss: 0.3013 - accuracy: 0.9078 - val_loss: 0.2514 - val_accuracy: 0.9258\n",
            "Epoch 89/100\n",
            "1050/1050 [==============================] - 3s 3ms/step - loss: 0.3002 - accuracy: 0.9083 - val_loss: 0.2493 - val_accuracy: 0.9275\n",
            "Epoch 90/100\n",
            "1050/1050 [==============================] - 3s 3ms/step - loss: 0.2982 - accuracy: 0.9088 - val_loss: 0.2479 - val_accuracy: 0.9277\n",
            "Epoch 91/100\n",
            "1050/1050 [==============================] - 3s 3ms/step - loss: 0.2964 - accuracy: 0.9094 - val_loss: 0.2452 - val_accuracy: 0.9295\n",
            "Epoch 92/100\n",
            "1050/1050 [==============================] - 3s 3ms/step - loss: 0.2959 - accuracy: 0.9099 - val_loss: 0.2456 - val_accuracy: 0.9286\n",
            "Epoch 93/100\n",
            "1050/1050 [==============================] - 3s 3ms/step - loss: 0.2918 - accuracy: 0.9126 - val_loss: 0.2422 - val_accuracy: 0.9304\n",
            "Epoch 94/100\n",
            "1050/1050 [==============================] - 3s 3ms/step - loss: 0.2892 - accuracy: 0.9101 - val_loss: 0.2415 - val_accuracy: 0.9293\n",
            "Epoch 95/100\n",
            "1050/1050 [==============================] - 3s 3ms/step - loss: 0.2864 - accuracy: 0.9118 - val_loss: 0.2384 - val_accuracy: 0.9301\n",
            "Epoch 96/100\n",
            "1050/1050 [==============================] - 3s 3ms/step - loss: 0.2838 - accuracy: 0.9139 - val_loss: 0.2382 - val_accuracy: 0.9295\n",
            "Epoch 97/100\n",
            "1050/1050 [==============================] - 3s 3ms/step - loss: 0.2843 - accuracy: 0.9141 - val_loss: 0.2362 - val_accuracy: 0.9301\n",
            "Epoch 98/100\n",
            "1050/1050 [==============================] - 3s 3ms/step - loss: 0.2804 - accuracy: 0.9155 - val_loss: 0.2337 - val_accuracy: 0.9314\n",
            "Epoch 99/100\n",
            "1050/1050 [==============================] - 3s 3ms/step - loss: 0.2790 - accuracy: 0.9146 - val_loss: 0.2328 - val_accuracy: 0.9313\n",
            "Epoch 100/100\n",
            "1050/1050 [==============================] - 3s 3ms/step - loss: 0.2783 - accuracy: 0.9156 - val_loss: 0.2305 - val_accuracy: 0.9323\n",
            "\n",
            "263/263 [==============================] - 1s 2ms/step - loss: 0.2305 - accuracy: 0.9323\n",
            "\n"
          ],
          "name": "stdout"
        }
      ]
    },
    {
      "cell_type": "code",
      "metadata": {
        "id": "cnazXPgGRX7k",
        "colab_type": "code",
        "colab": {
          "base_uri": "https://localhost:8080/",
          "height": 34
        },
        "outputId": "851587be-c777-4575-e36d-d0b2b5eec1d0"
      },
      "source": [
        "print(history.keys())"
      ],
      "execution_count": 35,
      "outputs": [
        {
          "output_type": "stream",
          "text": [
            "dict_keys(['loss', 'accuracy', 'val_loss', 'val_accuracy'])\n"
          ],
          "name": "stdout"
        }
      ]
    },
    {
      "cell_type": "code",
      "metadata": {
        "id": "YLAevu4e1vsX",
        "colab_type": "code",
        "colab": {
          "base_uri": "https://localhost:8080/",
          "height": 279
        },
        "outputId": "016db6ce-c605-4091-d25e-d856fba141a4"
      },
      "source": [
        "import matplotlib.pyplot as plt\n",
        "%matplotlib inline\n",
        "\n",
        "# 学習曲線を表示する→どうやって表示させるんだっけ？historyをインスタンス化して列名取得じゃダメなの？\n",
        "fig = plt.figure()\n",
        "ax1 = fig.add_subplot(121)\n",
        "ax1.plot(history['loss'], label='loss')\n",
        "ax1.plot(history['val_loss'], label='val_loss')\n",
        "ax1.set_xlabel('epoch')\n",
        "ax1.set_ylabel('loss')\n",
        "ax1.legend()\n",
        "ax1.grid()\n",
        "\n",
        "ax2 = fig.add_subplot(122)\n",
        "ax2.plot(history['accuracy'], label='accuracy')\n",
        "ax2.plot(history['val_accuracy'], label='val_accuracy')\n",
        "ax2.set_xlabel('epoch')\n",
        "ax2.set_ylabel('accuracy')\n",
        "ax2.legend()\n",
        "ax2.grid()"
      ],
      "execution_count": 36,
      "outputs": [
        {
          "output_type": "display_data",
          "data": {
            "image/png": "[encoded data removed]",
            "text/plain": [
              "<Figure size 432x288 with 2 Axes>"
            ]
          },
          "metadata": {
            "tags": [],
            "needs_background": "light"
          }
        }
      ]
    },
    {
      "cell_type": "code",
      "metadata": {
        "id": "k2uzlaXb2dUR",
        "colab_type": "code",
        "colab": {
          "base_uri": "https://localhost:8080/",
          "height": 238
        },
        "outputId": "e1c18f0f-d10f-428c-c97e-1404d62dc846"
      },
      "source": [
        "# テストデータの予測\n",
        "results = model.predict(test)\n",
        "# カテゴリー分類されたテストデータの最大値のインデックス(右から順に数えて何番目かを返す)\n",
        "results = np.argmax(results,axis = 1)\n",
        "# npの配列のままなので、データフレームの形に直して名前を付ける\n",
        "results = pd.Series(results, name=\"Label\")\n",
        "# 一応できているか確認\n",
        "print(results)\n",
        "print(results.shape)\n",
        "\n",
        "submission = pd.concat([pd.Series(range(1,28001),name = \"ImageId\"),results],axis = 1)\n",
        "submission.to_csv(\"CNN_submission.csv\",index=False)"
      ],
      "execution_count": 43,
      "outputs": [
        {
          "output_type": "stream",
          "text": [
            "0        2\n",
            "1        0\n",
            "2        9\n",
            "3        9\n",
            "4        3\n",
            "        ..\n",
            "27995    9\n",
            "27996    7\n",
            "27997    3\n",
            "27998    9\n",
            "27999    2\n",
            "Name: Label, Length: 28000, dtype: int64\n",
            "(28000,)\n"
          ],
          "name": "stdout"
        }
      ]
    },
    {
      "cell_type": "code",
      "metadata": {
        "id": "fXJtBVjwRjJ1",
        "colab_type": "code",
        "colab": {
          "base_uri": "https://localhost:8080/",
          "height": 272
        },
        "outputId": "d1b7c049-a911-4133-f3a1-2086d1b561b5"
      },
      "source": [
        "sub_df = pd.read_csv('CNN_submission.csv')\n",
        "print(sub_df.shape)\n",
        "print(sub_df)"
      ],
      "execution_count": 45,
      "outputs": [
        {
          "output_type": "stream",
          "text": [
            "(28000, 2)\n",
            "       ImageId  Label\n",
            "0            1      2\n",
            "1            2      0\n",
            "2            3      9\n",
            "3            4      9\n",
            "4            5      3\n",
            "...        ...    ...\n",
            "27995    27996      9\n",
            "27996    27997      7\n",
            "27997    27998      3\n",
            "27998    27999      9\n",
            "27999    28000      2\n",
            "\n",
            "[28000 rows x 2 columns]\n"
          ],
          "name": "stdout"
        }
      ]
    },
    {
      "cell_type": "code",
      "metadata": {
        "id": "tL8J1vNonz8U",
        "colab_type": "code",
        "colab": {}
      },
      "source": [
        "# # CREATE MORE IMAGES VIA DATA AUGMENTATION\n",
        "# datagen = ImageDataGenerator(\n",
        "#         # rotation_range: 整数．画像をランダムに回転する回転範囲．\n",
        "#         rotation_range=10,  \n",
        "#         # zoom_range: 浮動小数点数または[lower，upper]．ランダムにズームする範囲．浮動小数点数が与えられた場合，[lower, upper] = [1-zoom_range, 1+zoom_range]\n",
        "#         zoom_range = 0.10,  \n",
        "#         # width_shift_range: 浮動小数点数（横幅に対する割合）．ランダムに水平シフトする範囲．\n",
        "#         width_shift_range=0.1, \n",
        "#         # height_shift_range: 浮動小数点数（縦幅に対する割合）．ランダムに垂直シフトする範囲．\n",
        "#         height_shift_range=0.1)"
      ],
      "execution_count": null,
      "outputs": []
    }
  ]
}