{
  "nbformat": 4,
  "nbformat_minor": 0,
  "metadata": {
    "colab": {
      "name": "文字認識　MNIST　EfficientNet転移学習",
      "provenance": [],
      "collapsed_sections": [],
      "authorship_tag": "ABX9TyPayoBZZtEeLF2SRhoPTP/C",
      "include_colab_link": true
    },
    "kernelspec": {
      "name": "python3",
      "display_name": "Python 3"
    },
    "accelerator": "GPU"
  },
  "cells": [
    {
      "cell_type": "markdown",
      "metadata": {
        "id": "view-in-github",
        "colab_type": "text"
      },
      "source": [
        "<a href=\"https://colab.research.google.com/github/furusawa-ryoji/MNIST/blob/develop/%E6%96%87%E5%AD%97%E8%AA%8D%E8%AD%98%E3%80%80MNIST%E3%80%80EfficientNet%E8%BB%A2%E7%A7%BB%E5%AD%A6%E7%BF%92.ipynb\" target=\"_parent\"><img src=\"https://colab.research.google.com/assets/colab-badge.svg\" alt=\"Open In Colab\"/></a>"
      ]
    },
    {
      "cell_type": "markdown",
      "metadata": {
        "id": "vjdJaicQqmS3",
        "colab_type": "text"
      },
      "source": [
        "# kaggleの評価\n",
        "データセットは1枚の画像のピクセルが784(28*28)列で表現されている(0,1で白黒判定かどうかはまだ調べていないがおそらくそう)\n",
        "\n",
        "提出方法はIdとテストデータを予測した手書き文字の2列のCSVファイル\n",
        "\n",
        "評価方法はどれだけ予想した手書き文字が合っているかで判定(97%正答なら0.97と表示)\n",
        "一番いいのは1.00"
      ]
    },
    {
      "cell_type": "code",
      "metadata": {
        "id": "E4LhyGFVvGcJ",
        "colab_type": "code",
        "colab": {
          "base_uri": "https://localhost:8080/",
          "height": 89
        },
        "outputId": "55138b00-a097-498a-cfff-b1af3dccee18"
      },
      "source": [
        "# ZIPファイル解凍\n",
        "!unzip digit*"
      ],
      "execution_count": 1,
      "outputs": [
        {
          "output_type": "stream",
          "text": [
            "Archive:  digit-recognizer.zip\n",
            "  inflating: sample_submission.csv   \n",
            "  inflating: test.csv                \n",
            "  inflating: train.csv               \n"
          ],
          "name": "stdout"
        }
      ]
    },
    {
      "cell_type": "code",
      "metadata": {
        "id": "ySvKYqff3obK",
        "colab_type": "code",
        "colab": {
          "base_uri": "https://localhost:8080/",
          "height": 53
        },
        "outputId": "fd80b449-2ea0-4094-d072-8af7d6c2d6dd"
      },
      "source": [
        "import pandas as pd\n",
        "import numpy as np\n",
        "\n",
        "# データの読み込み\n",
        "train_df = pd.read_csv('train.csv')\n",
        "test_df = pd.read_csv('test.csv')\n",
        "print(train_df.shape)\n",
        "print(test_df.shape)"
      ],
      "execution_count": 2,
      "outputs": [
        {
          "output_type": "stream",
          "text": [
            "(42000, 785)\n",
            "(28000, 784)\n"
          ],
          "name": "stdout"
        }
      ]
    },
    {
      "cell_type": "code",
      "metadata": {
        "id": "FY83NCAjBPaC",
        "colab_type": "code",
        "colab": {
          "base_uri": "https://localhost:8080/",
          "height": 269
        },
        "outputId": "82d1661b-569f-478d-977e-1a16fa76392e"
      },
      "source": [
        "# データの確認\n",
        "train_df.info"
      ],
      "execution_count": 3,
      "outputs": [
        {
          "output_type": "execute_result",
          "data": {
            "text/plain": [
              "<bound method DataFrame.info of        label  pixel0  pixel1  pixel2  ...  pixel780  pixel781  pixel782  pixel783\n",
              "0          1       0       0       0  ...         0         0         0         0\n",
              "1          0       0       0       0  ...         0         0         0         0\n",
              "2          1       0       0       0  ...         0         0         0         0\n",
              "3          4       0       0       0  ...         0         0         0         0\n",
              "4          0       0       0       0  ...         0         0         0         0\n",
              "...      ...     ...     ...     ...  ...       ...       ...       ...       ...\n",
              "41995      0       0       0       0  ...         0         0         0         0\n",
              "41996      1       0       0       0  ...         0         0         0         0\n",
              "41997      7       0       0       0  ...         0         0         0         0\n",
              "41998      6       0       0       0  ...         0         0         0         0\n",
              "41999      9       0       0       0  ...         0         0         0         0\n",
              "\n",
              "[42000 rows x 785 columns]>"
            ]
          },
          "metadata": {
            "tags": []
          },
          "execution_count": 3
        }
      ]
    },
    {
      "cell_type": "code",
      "metadata": {
        "id": "jH_Iq6OQBgLa",
        "colab_type": "code",
        "colab": {
          "base_uri": "https://localhost:8080/",
          "height": 269
        },
        "outputId": "55587aa4-c85d-4dae-9232-e446c32ba849"
      },
      "source": [
        "# データフレームを配列に出来ているか確認\n",
        "train_data = np.array(train_df)\n",
        "test = np.array(test_df)\n",
        "print(train_data)\n",
        "print(test)"
      ],
      "execution_count": 4,
      "outputs": [
        {
          "output_type": "stream",
          "text": [
            "[[1 0 0 ... 0 0 0]\n",
            " [0 0 0 ... 0 0 0]\n",
            " [1 0 0 ... 0 0 0]\n",
            " ...\n",
            " [7 0 0 ... 0 0 0]\n",
            " [6 0 0 ... 0 0 0]\n",
            " [9 0 0 ... 0 0 0]]\n",
            "[[0 0 0 ... 0 0 0]\n",
            " [0 0 0 ... 0 0 0]\n",
            " [0 0 0 ... 0 0 0]\n",
            " ...\n",
            " [0 0 0 ... 0 0 0]\n",
            " [0 0 0 ... 0 0 0]\n",
            " [0 0 0 ... 0 0 0]]\n"
          ],
          "name": "stdout"
        }
      ]
    },
    {
      "cell_type": "code",
      "metadata": {
        "id": "1LiJx_nUCl99",
        "colab_type": "code",
        "colab": {
          "base_uri": "https://localhost:8080/",
          "height": 143
        },
        "outputId": "9c9036f9-ecc2-4d72-d608-b784b256e53b"
      },
      "source": [
        "# ラベルと目的変数の定義\n",
        "label = train_data[:, 0]\n",
        "train = train_data[:,1:]\n",
        "del train_data\n",
        "print(train)"
      ],
      "execution_count": 5,
      "outputs": [
        {
          "output_type": "stream",
          "text": [
            "[[0 0 0 ... 0 0 0]\n",
            " [0 0 0 ... 0 0 0]\n",
            " [0 0 0 ... 0 0 0]\n",
            " ...\n",
            " [0 0 0 ... 0 0 0]\n",
            " [0 0 0 ... 0 0 0]\n",
            " [0 0 0 ... 0 0 0]]\n"
          ],
          "name": "stdout"
        }
      ]
    },
    {
      "cell_type": "code",
      "metadata": {
        "id": "Jm0wpyg-tYWH",
        "colab_type": "code",
        "colab": {
          "base_uri": "https://localhost:8080/",
          "height": 283
        },
        "outputId": "883dd552-7598-4718-80c9-9c570b7fa358"
      },
      "source": [
        "import matplotlib.pyplot as plt\n",
        "%matplotlib inline\n",
        "plt.imshow(train[0].reshape(28,28))"
      ],
      "execution_count": 6,
      "outputs": [
        {
          "output_type": "execute_result",
          "data": {
            "text/plain": [
              "<matplotlib.image.AxesImage at 0x7f0535fab710>"
            ]
          },
          "metadata": {
            "tags": []
          },
          "execution_count": 6
        },
        {
          "output_type": "display_data",
          "data": {
            "image/png": "[encoded data removed]",
            "text/plain": [
              "<Figure size 432x288 with 1 Axes>"
            ]
          },
          "metadata": {
            "tags": [],
            "needs_background": "light"
          }
        }
      ]
    },
    {
      "cell_type": "code",
      "metadata": {
        "id": "7pb6o0wbazqj",
        "colab_type": "code",
        "colab": {
          "base_uri": "https://localhost:8080/",
          "height": 53
        },
        "outputId": "1b8fa8ff-92df-4bb1-c73a-49f5c34e7316"
      },
      "source": [
        "# 画像は1行→28*28*1(3次元)にreshapeする必要がある\n",
        "train = train.reshape(-1, 28, 28, 1).astype('float32')\n",
        "test = test.reshape(-1, 28, 28, 1).astype('float32')\n",
        "# print(train)\n",
        "# print(test)\n",
        "print(train.shape)\n",
        "print(test.shape)"
      ],
      "execution_count": 7,
      "outputs": [
        {
          "output_type": "stream",
          "text": [
            "(42000, 28, 28, 1)\n",
            "(28000, 28, 28, 1)\n"
          ],
          "name": "stdout"
        }
      ]
    },
    {
      "cell_type": "code",
      "metadata": {
        "id": "vWVHSS2YaMHk",
        "colab_type": "code",
        "colab": {
          "base_uri": "https://localhost:8080/",
          "height": 53
        },
        "outputId": "d8ccc189-61b8-46de-d538-eae71445df18"
      },
      "source": [
        "# 画像を32x32x3に拡大させる\n",
        "import cv2\n",
        "# データのサイズを 28x28x3 -> 32x32x3 に\n",
        "x_train = []\n",
        "SIZE = 32\n",
        "for t_data in train:\n",
        "  dst = np.dstack((t_data, t_data, t_data))\n",
        "  dst = cv2.resize(dst,(SIZE, SIZE),interpolation=cv2.INTER_CUBIC)\n",
        "  x_train.append(dst)\n",
        "\n",
        "x_test = []\n",
        "for t_data in test:\n",
        "  dst = np.dstack((t_data, t_data, t_data))\n",
        "  dst = cv2.resize(dst,(SIZE, SIZE), interpolation=cv2.INTER_CUBIC)\n",
        "  x_test.append(dst)\n",
        "x_train = np.array(x_train)\n",
        "x_test = np.array(x_test)\n",
        "\n",
        "print(x_train.shape)\n",
        "print(x_test.shape)"
      ],
      "execution_count": 8,
      "outputs": [
        {
          "output_type": "stream",
          "text": [
            "(42000, 32, 32, 3)\n",
            "(28000, 32, 32, 3)\n"
          ],
          "name": "stdout"
        }
      ]
    },
    {
      "cell_type": "code",
      "metadata": {
        "id": "3Sr1LufkuJoQ",
        "colab_type": "code",
        "colab": {
          "base_uri": "https://localhost:8080/",
          "height": 1000
        },
        "outputId": "1992b733-a05c-463a-d5e9-3065037ca958"
      },
      "source": [
        "plt.imshow(x_train[0])\n",
        "x_train[0, 15:20]"
      ],
      "execution_count": 9,
      "outputs": [
        {
          "output_type": "stream",
          "text": [
            "Clipping input data to the valid range for imshow with RGB data ([0..1] for floats or [0..255] for integers).\n"
          ],
          "name": "stderr"
        },
        {
          "output_type": "execute_result",
          "data": {
            "text/plain": [
              "array([[[ 0.0000000e+00,  0.0000000e+00,  0.0000000e+00],\n",
              "        [ 0.0000000e+00,  0.0000000e+00,  0.0000000e+00],\n",
              "        [ 0.0000000e+00,  0.0000000e+00,  0.0000000e+00],\n",
              "        [ 0.0000000e+00,  0.0000000e+00,  0.0000000e+00],\n",
              "        [ 0.0000000e+00,  0.0000000e+00,  0.0000000e+00],\n",
              "        [ 0.0000000e+00,  0.0000000e+00,  0.0000000e+00],\n",
              "        [ 0.0000000e+00,  0.0000000e+00,  0.0000000e+00],\n",
              "        [ 0.0000000e+00,  0.0000000e+00,  0.0000000e+00],\n",
              "        [ 0.0000000e+00,  0.0000000e+00,  0.0000000e+00],\n",
              "        [ 0.0000000e+00,  0.0000000e+00,  0.0000000e+00],\n",
              "        [ 0.0000000e+00,  0.0000000e+00,  0.0000000e+00],\n",
              "        [-6.0959235e-02, -6.0959235e-02, -6.0959235e-02],\n",
              "        [-2.6247492e+00, -2.6247492e+00, -2.6247492e+00],\n",
              "        [ 5.9173271e-02,  5.9173271e-02,  5.9173271e-02],\n",
              "        [ 7.5352318e+01,  7.5352318e+01,  7.5352318e+01],\n",
              "        [ 2.6379492e+02,  2.6379492e+02,  2.6379492e+02],\n",
              "        [ 2.5395224e+02,  2.5395224e+02,  2.5395224e+02],\n",
              "        [ 2.7500458e+02,  2.7500458e+02,  2.7500458e+02],\n",
              "        [ 7.6652100e+01,  7.6652100e+01,  7.6652100e+01],\n",
              "        [-2.0857231e+01, -2.0857231e+01, -2.0857231e+01],\n",
              "        [-2.5990152e+00, -2.5990152e+00, -2.5990152e+00],\n",
              "        [ 3.6967966e-01,  3.6967966e-01,  3.6967966e-01],\n",
              "        [ 0.0000000e+00,  0.0000000e+00,  0.0000000e+00],\n",
              "        [ 0.0000000e+00,  0.0000000e+00,  0.0000000e+00],\n",
              "        [ 0.0000000e+00,  0.0000000e+00,  0.0000000e+00],\n",
              "        [ 0.0000000e+00,  0.0000000e+00,  0.0000000e+00],\n",
              "        [ 0.0000000e+00,  0.0000000e+00,  0.0000000e+00],\n",
              "        [ 0.0000000e+00,  0.0000000e+00,  0.0000000e+00],\n",
              "        [ 0.0000000e+00,  0.0000000e+00,  0.0000000e+00],\n",
              "        [ 0.0000000e+00,  0.0000000e+00,  0.0000000e+00],\n",
              "        [ 0.0000000e+00,  0.0000000e+00,  0.0000000e+00],\n",
              "        [ 0.0000000e+00,  0.0000000e+00,  0.0000000e+00]],\n",
              "\n",
              "       [[ 0.0000000e+00,  0.0000000e+00,  0.0000000e+00],\n",
              "        [ 0.0000000e+00,  0.0000000e+00,  0.0000000e+00],\n",
              "        [ 0.0000000e+00,  0.0000000e+00,  0.0000000e+00],\n",
              "        [ 0.0000000e+00,  0.0000000e+00,  0.0000000e+00],\n",
              "        [ 0.0000000e+00,  0.0000000e+00,  0.0000000e+00],\n",
              "        [ 0.0000000e+00,  0.0000000e+00,  0.0000000e+00],\n",
              "        [ 0.0000000e+00,  0.0000000e+00,  0.0000000e+00],\n",
              "        [ 0.0000000e+00,  0.0000000e+00,  0.0000000e+00],\n",
              "        [ 0.0000000e+00,  0.0000000e+00,  0.0000000e+00],\n",
              "        [ 0.0000000e+00,  0.0000000e+00,  0.0000000e+00],\n",
              "        [ 0.0000000e+00,  0.0000000e+00,  0.0000000e+00],\n",
              "        [-1.3402160e+00, -1.3402160e+00, -1.3402160e+00],\n",
              "        [-9.1715860e+00, -9.1715860e+00, -9.1715860e+00],\n",
              "        [ 6.4667061e+01,  6.4667061e+01,  6.4667061e+01],\n",
              "        [ 2.2171954e+02,  2.2171954e+02,  2.2171954e+02],\n",
              "        [ 2.5678110e+02,  2.5678110e+02,  2.5678110e+02],\n",
              "        [ 2.5835571e+02,  2.5835571e+02,  2.5835571e+02],\n",
              "        [ 2.3522899e+02,  2.3522899e+02,  2.3522899e+02],\n",
              "        [ 6.4322929e+01,  6.4322929e+01,  6.4322929e+01],\n",
              "        [-1.3443401e+01, -1.3443401e+01, -1.3443401e+01],\n",
              "        [-8.7285495e-01, -8.7285495e-01, -8.7285495e-01],\n",
              "        [ 2.4645310e-02,  2.4645310e-02,  2.4645310e-02],\n",
              "        [ 0.0000000e+00,  0.0000000e+00,  0.0000000e+00],\n",
              "        [ 0.0000000e+00,  0.0000000e+00,  0.0000000e+00],\n",
              "        [ 0.0000000e+00,  0.0000000e+00,  0.0000000e+00],\n",
              "        [ 0.0000000e+00,  0.0000000e+00,  0.0000000e+00],\n",
              "        [ 0.0000000e+00,  0.0000000e+00,  0.0000000e+00],\n",
              "        [ 0.0000000e+00,  0.0000000e+00,  0.0000000e+00],\n",
              "        [ 0.0000000e+00,  0.0000000e+00,  0.0000000e+00],\n",
              "        [ 0.0000000e+00,  0.0000000e+00,  0.0000000e+00],\n",
              "        [ 0.0000000e+00,  0.0000000e+00,  0.0000000e+00],\n",
              "        [ 0.0000000e+00,  0.0000000e+00,  0.0000000e+00]],\n",
              "\n",
              "       [[ 0.0000000e+00,  0.0000000e+00,  0.0000000e+00],\n",
              "        [ 0.0000000e+00,  0.0000000e+00,  0.0000000e+00],\n",
              "        [ 0.0000000e+00,  0.0000000e+00,  0.0000000e+00],\n",
              "        [ 0.0000000e+00,  0.0000000e+00,  0.0000000e+00],\n",
              "        [ 0.0000000e+00,  0.0000000e+00,  0.0000000e+00],\n",
              "        [ 0.0000000e+00,  0.0000000e+00,  0.0000000e+00],\n",
              "        [ 0.0000000e+00,  0.0000000e+00,  0.0000000e+00],\n",
              "        [ 0.0000000e+00,  0.0000000e+00,  0.0000000e+00],\n",
              "        [ 0.0000000e+00,  0.0000000e+00,  0.0000000e+00],\n",
              "        [ 0.0000000e+00,  0.0000000e+00,  0.0000000e+00],\n",
              "        [ 2.0568185e-01,  2.0568185e-01,  2.0568185e-01],\n",
              "        [-1.5885201e+01, -1.5885201e+01, -1.5885201e+01],\n",
              "        [ 5.0594978e+01,  5.0594978e+01,  5.0594978e+01],\n",
              "        [ 1.8817532e+02,  1.8817532e+02,  1.8817532e+02],\n",
              "        [ 2.6071521e+02,  2.6071521e+02,  2.6071521e+02],\n",
              "        [ 2.5248857e+02,  2.5248857e+02,  2.5248857e+02],\n",
              "        [ 2.2587836e+02,  2.2587836e+02,  2.2587836e+02],\n",
              "        [ 6.9622299e+01,  6.9622299e+01,  6.9622299e+01],\n",
              "        [ 2.8488965e+00,  2.8488965e+00,  2.8488965e+00],\n",
              "        [-2.5261497e+00, -2.5261497e+00, -2.5261497e+00],\n",
              "        [-1.0562043e-01, -1.0562043e-01, -1.0562043e-01],\n",
              "        [ 0.0000000e+00,  0.0000000e+00,  0.0000000e+00],\n",
              "        [ 0.0000000e+00,  0.0000000e+00,  0.0000000e+00],\n",
              "        [ 0.0000000e+00,  0.0000000e+00,  0.0000000e+00],\n",
              "        [ 0.0000000e+00,  0.0000000e+00,  0.0000000e+00],\n",
              "        [ 0.0000000e+00,  0.0000000e+00,  0.0000000e+00],\n",
              "        [ 0.0000000e+00,  0.0000000e+00,  0.0000000e+00],\n",
              "        [ 0.0000000e+00,  0.0000000e+00,  0.0000000e+00],\n",
              "        [ 0.0000000e+00,  0.0000000e+00,  0.0000000e+00],\n",
              "        [ 0.0000000e+00,  0.0000000e+00,  0.0000000e+00],\n",
              "        [ 0.0000000e+00,  0.0000000e+00,  0.0000000e+00],\n",
              "        [ 0.0000000e+00,  0.0000000e+00,  0.0000000e+00]],\n",
              "\n",
              "       [[ 0.0000000e+00,  0.0000000e+00,  0.0000000e+00],\n",
              "        [ 0.0000000e+00,  0.0000000e+00,  0.0000000e+00],\n",
              "        [ 0.0000000e+00,  0.0000000e+00,  0.0000000e+00],\n",
              "        [ 0.0000000e+00,  0.0000000e+00,  0.0000000e+00],\n",
              "        [ 0.0000000e+00,  0.0000000e+00,  0.0000000e+00],\n",
              "        [ 0.0000000e+00,  0.0000000e+00,  0.0000000e+00],\n",
              "        [ 0.0000000e+00,  0.0000000e+00,  0.0000000e+00],\n",
              "        [ 0.0000000e+00,  0.0000000e+00,  0.0000000e+00],\n",
              "        [ 0.0000000e+00,  0.0000000e+00,  0.0000000e+00],\n",
              "        [ 2.2625002e-01,  2.2625002e-01,  2.2625002e-01],\n",
              "        [-1.5007472e+00, -1.5007472e+00, -1.5007472e+00],\n",
              "        [-2.4460978e+01, -2.4460978e+01, -2.4460978e+01],\n",
              "        [ 7.5952095e+01,  7.5952095e+01,  7.5952095e+01],\n",
              "        [ 2.3422224e+02,  2.3422224e+02,  2.3422224e+02],\n",
              "        [ 2.6687323e+02,  2.6687323e+02,  2.6687323e+02],\n",
              "        [ 2.5989627e+02,  2.5989627e+02,  2.5989627e+02],\n",
              "        [ 1.2917738e+02,  1.2917738e+02,  1.2917738e+02],\n",
              "        [ 8.8685932e+00,  8.8685932e+00,  8.8685932e+00],\n",
              "        [-8.7535410e+00, -8.7535410e+00, -8.7535410e+00],\n",
              "        [ 4.3140227e-01,  4.3140227e-01,  4.3140227e-01],\n",
              "        [ 3.6594551e-02,  3.6594551e-02,  3.6594551e-02],\n",
              "        [ 0.0000000e+00,  0.0000000e+00,  0.0000000e+00],\n",
              "        [ 0.0000000e+00,  0.0000000e+00,  0.0000000e+00],\n",
              "        [ 0.0000000e+00,  0.0000000e+00,  0.0000000e+00],\n",
              "        [ 0.0000000e+00,  0.0000000e+00,  0.0000000e+00],\n",
              "        [ 0.0000000e+00,  0.0000000e+00,  0.0000000e+00],\n",
              "        [ 0.0000000e+00,  0.0000000e+00,  0.0000000e+00],\n",
              "        [ 0.0000000e+00,  0.0000000e+00,  0.0000000e+00],\n",
              "        [ 0.0000000e+00,  0.0000000e+00,  0.0000000e+00],\n",
              "        [ 0.0000000e+00,  0.0000000e+00,  0.0000000e+00],\n",
              "        [ 0.0000000e+00,  0.0000000e+00,  0.0000000e+00],\n",
              "        [ 0.0000000e+00,  0.0000000e+00,  0.0000000e+00]],\n",
              "\n",
              "       [[ 0.0000000e+00,  0.0000000e+00,  0.0000000e+00],\n",
              "        [ 0.0000000e+00,  0.0000000e+00,  0.0000000e+00],\n",
              "        [ 0.0000000e+00,  0.0000000e+00,  0.0000000e+00],\n",
              "        [ 0.0000000e+00,  0.0000000e+00,  0.0000000e+00],\n",
              "        [ 0.0000000e+00,  0.0000000e+00,  0.0000000e+00],\n",
              "        [ 0.0000000e+00,  0.0000000e+00,  0.0000000e+00],\n",
              "        [ 0.0000000e+00,  0.0000000e+00,  0.0000000e+00],\n",
              "        [ 0.0000000e+00,  0.0000000e+00,  0.0000000e+00],\n",
              "        [ 0.0000000e+00,  0.0000000e+00,  0.0000000e+00],\n",
              "        [-3.8384312e-01, -3.8384312e-01, -3.8384312e-01],\n",
              "        [-8.8747044e+00, -8.8747044e+00, -8.8747044e+00],\n",
              "        [ 5.2367249e+01,  5.2367249e+01,  5.2367249e+01],\n",
              "        [ 1.7328415e+02,  1.7328415e+02,  1.7328415e+02],\n",
              "        [ 2.5808743e+02,  2.5808743e+02,  2.5808743e+02],\n",
              "        [ 2.4505760e+02,  2.4505760e+02,  2.4505760e+02],\n",
              "        [ 1.5817920e+02,  1.5817920e+02,  1.5817920e+02],\n",
              "        [ 3.0960026e+01,  3.0960026e+01,  3.0960026e+01],\n",
              "        [ 1.1023593e-01,  1.1023593e-01,  1.1023593e-01],\n",
              "        [-1.3506298e+00, -1.3506298e+00, -1.3506298e+00],\n",
              "        [ 4.5643385e-02,  4.5643385e-02,  4.5643385e-02],\n",
              "        [ 0.0000000e+00,  0.0000000e+00,  0.0000000e+00],\n",
              "        [ 0.0000000e+00,  0.0000000e+00,  0.0000000e+00],\n",
              "        [ 0.0000000e+00,  0.0000000e+00,  0.0000000e+00],\n",
              "        [ 0.0000000e+00,  0.0000000e+00,  0.0000000e+00],\n",
              "        [ 0.0000000e+00,  0.0000000e+00,  0.0000000e+00],\n",
              "        [ 0.0000000e+00,  0.0000000e+00,  0.0000000e+00],\n",
              "        [ 0.0000000e+00,  0.0000000e+00,  0.0000000e+00],\n",
              "        [ 0.0000000e+00,  0.0000000e+00,  0.0000000e+00],\n",
              "        [ 0.0000000e+00,  0.0000000e+00,  0.0000000e+00],\n",
              "        [ 0.0000000e+00,  0.0000000e+00,  0.0000000e+00],\n",
              "        [ 0.0000000e+00,  0.0000000e+00,  0.0000000e+00],\n",
              "        [ 0.0000000e+00,  0.0000000e+00,  0.0000000e+00]]], dtype=float32)"
            ]
          },
          "metadata": {
            "tags": []
          },
          "execution_count": 9
        },
        {
          "output_type": "display_data",
          "data": {
            "image/png": "[encoded data removed]",
            "text/plain": [
              "<Figure size 432x288 with 1 Axes>"
            ]
          },
          "metadata": {
            "tags": [],
            "needs_background": "light"
          }
        }
      ]
    },
    {
      "cell_type": "code",
      "metadata": {
        "id": "C5qWYUxvCyTS",
        "colab_type": "code",
        "colab": {}
      },
      "source": [
        "from sklearn.model_selection import KFold\n",
        "from sklearn.model_selection import train_test_split\n",
        "\n",
        "# クロスバリデーション(トレーニングデータを5つに分割)\n",
        "kf = KFold(n_splits=5, shuffle=True)\n",
        "\n",
        "# 多クラス分類のときにクラスのラベルをそのまま推論させない\n",
        "# One-Hot表現に変換し、各クラスに分類される確率を出す。\n",
        "# 0～9の数字のラベルに分類する？\n",
        "from keras.utils import to_categorical\n",
        "y_train = to_categorical(label, 10)\n",
        "\n",
        "for train_index, eval_index in kf.split(x_train):\n",
        "    X_tra, X_eval = x_train[train_index], x_train[eval_index]\n",
        "    y_tra, y_eval = y_train[train_index], y_train[eval_index]\n",
        "\n",
        "# データを正規化\n",
        "x_tra = X_tra / 255\n",
        "x_eval = X_eval / 255"
      ],
      "execution_count": 10,
      "outputs": []
    },
    {
      "cell_type": "code",
      "metadata": {
        "id": "UkECkMDS4Fcf",
        "colab_type": "code",
        "colab": {
          "base_uri": "https://localhost:8080/",
          "height": 35
        },
        "outputId": "e0199fea-fc36-4693-9dc7-9e541bed9ceb"
      },
      "source": [
        "x_tra.shape"
      ],
      "execution_count": 11,
      "outputs": [
        {
          "output_type": "execute_result",
          "data": {
            "text/plain": [
              "(33600, 32, 32, 3)"
            ]
          },
          "metadata": {
            "tags": []
          },
          "execution_count": 11
        }
      ]
    },
    {
      "cell_type": "code",
      "metadata": {
        "id": "1aQwlxquhrl5",
        "colab_type": "code",
        "colab": {
          "base_uri": "https://localhost:8080/",
          "height": 161
        },
        "outputId": "cde6a20c-d961-4c5b-f02e-b6122a699a95"
      },
      "source": [
        "print(y_train)\n",
        "print(y_train.shape)"
      ],
      "execution_count": 12,
      "outputs": [
        {
          "output_type": "stream",
          "text": [
            "[[0. 1. 0. ... 0. 0. 0.]\n",
            " [1. 0. 0. ... 0. 0. 0.]\n",
            " [0. 1. 0. ... 0. 0. 0.]\n",
            " ...\n",
            " [0. 0. 0. ... 1. 0. 0.]\n",
            " [0. 0. 0. ... 0. 0. 0.]\n",
            " [0. 0. 0. ... 0. 0. 1.]]\n",
            "(42000, 10)\n"
          ],
          "name": "stdout"
        }
      ]
    },
    {
      "cell_type": "code",
      "metadata": {
        "id": "Gnwh2KbxFG9s",
        "colab_type": "code",
        "colab": {}
      },
      "source": [
        "# 必要なライブラリをインポート\n",
        "from keras.models import Sequential\n",
        "from keras.layers import Dense, Dropout, Flatten\n",
        "from keras.layers import Conv2D, MaxPooling2D\n",
        "from keras.optimizers import SGD\n",
        "from keras.datasets import mnist\n",
        "from keras import backend as K\n",
        "from keras.preprocessing.image import ImageDataGenerator\n",
        "from keras.callbacks import LearningRateScheduler\n",
        "from tensorflow.keras.applications import EfficientNetB3\n",
        "from tensorflow.keras.applications import EfficientNetB5\n",
        "from tensorflow.keras.applications import EfficientNetB7"
      ],
      "execution_count": 13,
      "outputs": []
    },
    {
      "cell_type": "code",
      "metadata": {
        "id": "GOJIcZ6_V-Nv",
        "colab_type": "code",
        "colab": {}
      },
      "source": [
        "# # 3つのアンサンブルを作成する\n",
        "# NETS = 3\n",
        "# NET = NETS -1\n",
        "# model = [0] *NETS\n",
        "# for j in range(NET):\n",
        "#     # モデルを作成：精度を上げるためにはここが一番重要\n",
        "#     # アンサンブルで同じモデルを複数作成\n",
        "#     model[j] = Sequential()\n",
        "#     model[j].add(Conv2D(32, kernel_size=(3, 3),\n",
        "#                     activation='relu',\n",
        "#                     input_shape=(SIZE, SIZE, 3)))\n",
        "#     model[j].add(MaxPooling2D(pool_size=(2, 2)))\n",
        "\n",
        "#     model[j].add(Conv2D(64, (3, 3), activation='relu'))\n",
        "#     model[j].add(MaxPooling2D(pool_size=(2, 2)))\n",
        "#     model[j].add(Dropout(0.25))\n",
        "\n",
        "#     model[j].add(Flatten())\n",
        "#     model[j].add(Dense(512, activation='relu'))\n",
        "#     model[j].add(Dense(10, activation='softmax'))\n",
        "\n",
        "#     # 学習のためのモデルを設定\n",
        "#     model[j].compile(loss='categorical_crossentropy',\n",
        "#                   optimizer=SGD(lr=0.002),\n",
        "#                   metrics=['accuracy'])\n",
        "\n",
        "# model[0].summary()"
      ],
      "execution_count": 14,
      "outputs": []
    },
    {
      "cell_type": "code",
      "metadata": {
        "id": "xWyFDT9r8ms-",
        "colab_type": "code",
        "colab": {
          "base_uri": "https://localhost:8080/",
          "height": 449
        },
        "outputId": "cba15f2e-a3d4-4223-d332-dcb0f20e9a68"
      },
      "source": [
        "# 転移学習でEfficientNetB3,B5,B7のモデルを作成\n",
        "base_model_B3 = EfficientNetB3(\n",
        "    include_top=False,\n",
        "    weights=\"imagenet\",\n",
        "    input_shape=(SIZE, SIZE, 3),\n",
        "    classes=10\n",
        ")\n",
        "\n",
        "base_model_B5 = EfficientNetB5(\n",
        "    include_top=False,\n",
        "    weights=\"imagenet\",\n",
        "    input_shape=(SIZE, SIZE, 3),\n",
        "    classes=10\n",
        ")\n",
        "\n",
        "base_model_B7 = EfficientNetB7(\n",
        "    include_top=False,\n",
        "    weights=\"imagenet\",\n",
        "    input_shape=(SIZE, SIZE, 3),\n",
        "    classes=10\n",
        ")\n",
        "\n",
        "NETS = 9\n",
        "NET = NETS - 1\n",
        "model = [0] *NETS\n",
        "for j in range(NET):\n",
        "  if 0 <= j <= 2:\n",
        "    model[j] = Sequential()\n",
        "    model[j].add(base_model_B3)\n",
        "    model[j].add(Dropout(0.25))\n",
        "\n",
        "    model[j].add(Flatten())\n",
        "    model[j].add(Dense(512, activation='relu'))\n",
        "    model[j].add(Dense(10, activation='softmax'))\n",
        "\n",
        "    # 学習のためのモデルを設定\n",
        "    model[j].compile(loss='categorical_crossentropy',\n",
        "                  optimizer=SGD(lr=0.002),\n",
        "                  metrics=['accuracy'])\n",
        "    \n",
        "  if 3 <= j <= 5:\n",
        "    model[j] = Sequential()\n",
        "    model[j].add(base_model_B5)\n",
        "    model[j].add(Dropout(0.25))\n",
        "\n",
        "    model[j].add(Flatten())\n",
        "    model[j].add(Dense(512, activation='relu'))\n",
        "    model[j].add(Dense(10, activation='softmax'))\n",
        "\n",
        "    # 学習のためのモデルを設定\n",
        "    model[j].compile(loss='categorical_crossentropy',\n",
        "                  optimizer=SGD(lr=0.002),\n",
        "                  metrics=['accuracy'])\n",
        "    \n",
        "  if j >= 6 :\n",
        "    model[j] = Sequential()\n",
        "    model[j].add(base_model_B7)\n",
        "    model[j].add(Dropout(0.25))\n",
        "\n",
        "    model[j].add(Flatten())\n",
        "    model[j].add(Dense(512, activation='relu'))\n",
        "    model[j].add(Dense(10, activation='softmax'))\n",
        "\n",
        "    # 学習のためのモデルを設定\n",
        "    model[j].compile(loss='categorical_crossentropy',\n",
        "                  optimizer=SGD(lr=0.002),\n",
        "                  metrics=['accuracy'])\n",
        "\n",
        "model[0].summary()"
      ],
      "execution_count": 15,
      "outputs": [
        {
          "output_type": "stream",
          "text": [
            "Downloading data from https://storage.googleapis.com/keras-applications/efficientnetb3_notop.h5\n",
            "43941888/43941136 [==============================] - 0s 0us/step\n",
            "Downloading data from https://storage.googleapis.com/keras-applications/efficientnetb5_notop.h5\n",
            "115269632/115263384 [==============================] - 3s 0us/step\n",
            "Downloading data from https://storage.googleapis.com/keras-applications/efficientnetb7_notop.h5\n",
            "258080768/258076736 [==============================] - 3s 0us/step\n",
            "Model: \"sequential\"\n",
            "_________________________________________________________________\n",
            "Layer (type)                 Output Shape              Param #   \n",
            "=================================================================\n",
            "efficientnetb3 (Functional)  (None, 1, 1, 1536)        10783535  \n",
            "_________________________________________________________________\n",
            "dropout (Dropout)            (None, 1, 1, 1536)        0         \n",
            "_________________________________________________________________\n",
            "flatten (Flatten)            (None, 1536)              0         \n",
            "_________________________________________________________________\n",
            "dense (Dense)                (None, 512)               786944    \n",
            "_________________________________________________________________\n",
            "dense_1 (Dense)              (None, 10)                5130      \n",
            "=================================================================\n",
            "Total params: 11,575,609\n",
            "Trainable params: 11,488,306\n",
            "Non-trainable params: 87,303\n",
            "_________________________________________________________________\n"
          ],
          "name": "stdout"
        }
      ]
    },
    {
      "cell_type": "code",
      "metadata": {
        "id": "RI5wu9tctG2a",
        "colab_type": "code",
        "colab": {}
      },
      "source": [
        "# データ拡張により画像をさらに作成\n",
        "datagen = ImageDataGenerator(\n",
        "        # rotation_range: 整数．画像をランダムに回転する回転範囲．\n",
        "        rotation_range=10,  \n",
        "        # zoom_range: 浮動小数点数または[lower，upper]．ランダムにズームする範囲．浮動小数点数が与えられた場合，[lower, upper] = [1-zoom_range, 1+zoom_range]\n",
        "        zoom_range = 0.10,  \n",
        "        # width_shift_range: 浮動小数点数（横幅に対する割合）．ランダムに水平シフトする範囲．\n",
        "        width_shift_range=0.1, \n",
        "        # height_shift_range: 浮動小数点数（縦幅に対する割合）．ランダムに垂直シフトする範囲．\n",
        "        height_shift_range=0.1)"
      ],
      "execution_count": 16,
      "outputs": []
    },
    {
      "cell_type": "code",
      "metadata": {
        "id": "IzwekmpktMkS",
        "colab_type": "code",
        "colab": {}
      },
      "source": [
        "# 画像データをImageDataGeneratorに食わせることで画像の水増し\n",
        "datagen.fit(x_tra)"
      ],
      "execution_count": 17,
      "outputs": []
    },
    {
      "cell_type": "code",
      "metadata": {
        "id": "KwDuVLL2fncC",
        "colab_type": "code",
        "colab": {}
      },
      "source": [
        "# 学習率減衰：学習率を返す関数を用意する\n",
        "def lr_schedul(epoch):\n",
        "    x = 0.002\n",
        "    if epoch >= 7:\n",
        "        x = 0.001\n",
        "    if epoch >= 10:\n",
        "        x = 0.0005\n",
        "    return x\n",
        "\n",
        "lr_decay = LearningRateScheduler(\n",
        "    lr_schedul,\n",
        "    # verbose=1で、更新メッセージ表示。0の場合は表示しない\n",
        "    verbose=1,\n",
        ")"
      ],
      "execution_count": 18,
      "outputs": []
    },
    {
      "cell_type": "code",
      "metadata": {
        "id": "FGx_vz4ez6PX",
        "colab_type": "code",
        "colab": {
          "base_uri": "https://localhost:8080/",
          "height": 541
        },
        "outputId": "b6e0501e-c352-420b-f5f2-22c608a6bd03"
      },
      "source": [
        "# 学習\n",
        "result = [0] * NETS\n",
        "for j in range(NETS):\n",
        "  result[j] = model[j].fit_generator(datagen.flow(x_tra, y_tra),\n",
        "            epochs=10,\n",
        "            validation_data=(x_eval, y_eval),\n",
        "            callbacks=[lr_decay]\n",
        "            )\n",
        "  # 精度を検証\n",
        "  model[j].evaluate(x_eval, y_eval)\n",
        "  print('')\n",
        "\n",
        "# 学習状況のログを表示\n",
        "history = result[0].history\n",
        "print(history.keys())"
      ],
      "execution_count": 19,
      "outputs": [
        {
          "output_type": "stream",
          "text": [
            "WARNING:tensorflow:From <ipython-input-19-9ce1c19e8216>:7: Model.fit_generator (from tensorflow.python.keras.engine.training) is deprecated and will be removed in a future version.\n",
            "Instructions for updating:\n",
            "Please use Model.fit, which supports generators.\n",
            "\n",
            "Epoch 00001: LearningRateScheduler reducing learning rate to 0.002.\n",
            "Epoch 1/10\n",
            " 592/1050 [===============>..............] - ETA: 25s - loss: 2.0943 - accuracy: 0.2678"
          ],
          "name": "stdout"
        },
        {
          "output_type": "error",
          "ename": "KeyboardInterrupt",
          "evalue": "ignored",
          "traceback": [
            "\u001b[0;31m---------------------------------------------------------------------------\u001b[0m",
            "\u001b[0;31mKeyboardInterrupt\u001b[0m                         Traceback (most recent call last)",
            "\u001b[0;32m<ipython-input-19-9ce1c19e8216>\u001b[0m in \u001b[0;36m<module>\u001b[0;34m()\u001b[0m\n\u001b[1;32m      5\u001b[0m             \u001b[0mepochs\u001b[0m\u001b[0;34m=\u001b[0m\u001b[0;36m10\u001b[0m\u001b[0;34m,\u001b[0m\u001b[0;34m\u001b[0m\u001b[0;34m\u001b[0m\u001b[0m\n\u001b[1;32m      6\u001b[0m             \u001b[0mvalidation_data\u001b[0m\u001b[0;34m=\u001b[0m\u001b[0;34m(\u001b[0m\u001b[0mx_eval\u001b[0m\u001b[0;34m,\u001b[0m \u001b[0my_eval\u001b[0m\u001b[0;34m)\u001b[0m\u001b[0;34m,\u001b[0m\u001b[0;34m\u001b[0m\u001b[0;34m\u001b[0m\u001b[0m\n\u001b[0;32m----> 7\u001b[0;31m             \u001b[0mcallbacks\u001b[0m\u001b[0;34m=\u001b[0m\u001b[0;34m[\u001b[0m\u001b[0mlr_decay\u001b[0m\u001b[0;34m]\u001b[0m\u001b[0;34m\u001b[0m\u001b[0;34m\u001b[0m\u001b[0m\n\u001b[0m\u001b[1;32m      8\u001b[0m             )\n\u001b[1;32m      9\u001b[0m   \u001b[0;31m# 精度を検証\u001b[0m\u001b[0;34m\u001b[0m\u001b[0;34m\u001b[0m\u001b[0;34m\u001b[0m\u001b[0m\n",
            "\u001b[0;32m/usr/local/lib/python3.6/dist-packages/tensorflow/python/util/deprecation.py\u001b[0m in \u001b[0;36mnew_func\u001b[0;34m(*args, **kwargs)\u001b[0m\n\u001b[1;32m    322\u001b[0m               \u001b[0;34m'in a future version'\u001b[0m \u001b[0;32mif\u001b[0m \u001b[0mdate\u001b[0m \u001b[0;32mis\u001b[0m \u001b[0;32mNone\u001b[0m \u001b[0;32melse\u001b[0m \u001b[0;34m(\u001b[0m\u001b[0;34m'after %s'\u001b[0m \u001b[0;34m%\u001b[0m \u001b[0mdate\u001b[0m\u001b[0;34m)\u001b[0m\u001b[0;34m,\u001b[0m\u001b[0;34m\u001b[0m\u001b[0;34m\u001b[0m\u001b[0m\n\u001b[1;32m    323\u001b[0m               instructions)\n\u001b[0;32m--> 324\u001b[0;31m       \u001b[0;32mreturn\u001b[0m \u001b[0mfunc\u001b[0m\u001b[0;34m(\u001b[0m\u001b[0;34m*\u001b[0m\u001b[0margs\u001b[0m\u001b[0;34m,\u001b[0m \u001b[0;34m**\u001b[0m\u001b[0mkwargs\u001b[0m\u001b[0;34m)\u001b[0m\u001b[0;34m\u001b[0m\u001b[0;34m\u001b[0m\u001b[0m\n\u001b[0m\u001b[1;32m    325\u001b[0m     return tf_decorator.make_decorator(\n\u001b[1;32m    326\u001b[0m         \u001b[0mfunc\u001b[0m\u001b[0;34m,\u001b[0m \u001b[0mnew_func\u001b[0m\u001b[0;34m,\u001b[0m \u001b[0;34m'deprecated'\u001b[0m\u001b[0;34m,\u001b[0m\u001b[0;34m\u001b[0m\u001b[0;34m\u001b[0m\u001b[0m\n",
            "\u001b[0;32m/usr/local/lib/python3.6/dist-packages/tensorflow/python/keras/engine/training.py\u001b[0m in \u001b[0;36mfit_generator\u001b[0;34m(self, generator, steps_per_epoch, epochs, verbose, callbacks, validation_data, validation_steps, validation_freq, class_weight, max_queue_size, workers, use_multiprocessing, shuffle, initial_epoch)\u001b[0m\n\u001b[1;32m   1827\u001b[0m         \u001b[0muse_multiprocessing\u001b[0m\u001b[0;34m=\u001b[0m\u001b[0muse_multiprocessing\u001b[0m\u001b[0;34m,\u001b[0m\u001b[0;34m\u001b[0m\u001b[0;34m\u001b[0m\u001b[0m\n\u001b[1;32m   1828\u001b[0m         \u001b[0mshuffle\u001b[0m\u001b[0;34m=\u001b[0m\u001b[0mshuffle\u001b[0m\u001b[0;34m,\u001b[0m\u001b[0;34m\u001b[0m\u001b[0;34m\u001b[0m\u001b[0m\n\u001b[0;32m-> 1829\u001b[0;31m         initial_epoch=initial_epoch)\n\u001b[0m\u001b[1;32m   1830\u001b[0m \u001b[0;34m\u001b[0m\u001b[0m\n\u001b[1;32m   1831\u001b[0m   @deprecation.deprecated(\n",
            "\u001b[0;32m/usr/local/lib/python3.6/dist-packages/tensorflow/python/keras/engine/training.py\u001b[0m in \u001b[0;36m_method_wrapper\u001b[0;34m(self, *args, **kwargs)\u001b[0m\n\u001b[1;32m    106\u001b[0m   \u001b[0;32mdef\u001b[0m \u001b[0m_method_wrapper\u001b[0m\u001b[0;34m(\u001b[0m\u001b[0mself\u001b[0m\u001b[0;34m,\u001b[0m \u001b[0;34m*\u001b[0m\u001b[0margs\u001b[0m\u001b[0;34m,\u001b[0m \u001b[0;34m**\u001b[0m\u001b[0mkwargs\u001b[0m\u001b[0;34m)\u001b[0m\u001b[0;34m:\u001b[0m\u001b[0;34m\u001b[0m\u001b[0;34m\u001b[0m\u001b[0m\n\u001b[1;32m    107\u001b[0m     \u001b[0;32mif\u001b[0m \u001b[0;32mnot\u001b[0m \u001b[0mself\u001b[0m\u001b[0;34m.\u001b[0m\u001b[0m_in_multi_worker_mode\u001b[0m\u001b[0;34m(\u001b[0m\u001b[0;34m)\u001b[0m\u001b[0;34m:\u001b[0m  \u001b[0;31m# pylint: disable=protected-access\u001b[0m\u001b[0;34m\u001b[0m\u001b[0;34m\u001b[0m\u001b[0m\n\u001b[0;32m--> 108\u001b[0;31m       \u001b[0;32mreturn\u001b[0m \u001b[0mmethod\u001b[0m\u001b[0;34m(\u001b[0m\u001b[0mself\u001b[0m\u001b[0;34m,\u001b[0m \u001b[0;34m*\u001b[0m\u001b[0margs\u001b[0m\u001b[0;34m,\u001b[0m \u001b[0;34m**\u001b[0m\u001b[0mkwargs\u001b[0m\u001b[0;34m)\u001b[0m\u001b[0;34m\u001b[0m\u001b[0;34m\u001b[0m\u001b[0m\n\u001b[0m\u001b[1;32m    109\u001b[0m \u001b[0;34m\u001b[0m\u001b[0m\n\u001b[1;32m    110\u001b[0m     \u001b[0;31m# Running inside `run_distribute_coordinator` already.\u001b[0m\u001b[0;34m\u001b[0m\u001b[0;34m\u001b[0m\u001b[0;34m\u001b[0m\u001b[0m\n",
            "\u001b[0;32m/usr/local/lib/python3.6/dist-packages/tensorflow/python/keras/engine/training.py\u001b[0m in \u001b[0;36mfit\u001b[0;34m(self, x, y, batch_size, epochs, verbose, callbacks, validation_split, validation_data, shuffle, class_weight, sample_weight, initial_epoch, steps_per_epoch, validation_steps, validation_batch_size, validation_freq, max_queue_size, workers, use_multiprocessing)\u001b[0m\n\u001b[1;32m   1096\u001b[0m                 batch_size=batch_size):\n\u001b[1;32m   1097\u001b[0m               \u001b[0mcallbacks\u001b[0m\u001b[0;34m.\u001b[0m\u001b[0mon_train_batch_begin\u001b[0m\u001b[0;34m(\u001b[0m\u001b[0mstep\u001b[0m\u001b[0;34m)\u001b[0m\u001b[0;34m\u001b[0m\u001b[0;34m\u001b[0m\u001b[0m\n\u001b[0;32m-> 1098\u001b[0;31m               \u001b[0mtmp_logs\u001b[0m \u001b[0;34m=\u001b[0m \u001b[0mtrain_function\u001b[0m\u001b[0;34m(\u001b[0m\u001b[0miterator\u001b[0m\u001b[0;34m)\u001b[0m\u001b[0;34m\u001b[0m\u001b[0;34m\u001b[0m\u001b[0m\n\u001b[0m\u001b[1;32m   1099\u001b[0m               \u001b[0;32mif\u001b[0m \u001b[0mdata_handler\u001b[0m\u001b[0;34m.\u001b[0m\u001b[0mshould_sync\u001b[0m\u001b[0;34m:\u001b[0m\u001b[0;34m\u001b[0m\u001b[0;34m\u001b[0m\u001b[0m\n\u001b[1;32m   1100\u001b[0m                 \u001b[0mcontext\u001b[0m\u001b[0;34m.\u001b[0m\u001b[0masync_wait\u001b[0m\u001b[0;34m(\u001b[0m\u001b[0;34m)\u001b[0m\u001b[0;34m\u001b[0m\u001b[0;34m\u001b[0m\u001b[0m\n",
            "\u001b[0;32m/usr/local/lib/python3.6/dist-packages/tensorflow/python/eager/def_function.py\u001b[0m in \u001b[0;36m__call__\u001b[0;34m(self, *args, **kwds)\u001b[0m\n\u001b[1;32m    778\u001b[0m       \u001b[0;32melse\u001b[0m\u001b[0;34m:\u001b[0m\u001b[0;34m\u001b[0m\u001b[0;34m\u001b[0m\u001b[0m\n\u001b[1;32m    779\u001b[0m         \u001b[0mcompiler\u001b[0m \u001b[0;34m=\u001b[0m \u001b[0;34m\"nonXla\"\u001b[0m\u001b[0;34m\u001b[0m\u001b[0;34m\u001b[0m\u001b[0m\n\u001b[0;32m--> 780\u001b[0;31m         \u001b[0mresult\u001b[0m \u001b[0;34m=\u001b[0m \u001b[0mself\u001b[0m\u001b[0;34m.\u001b[0m\u001b[0m_call\u001b[0m\u001b[0;34m(\u001b[0m\u001b[0;34m*\u001b[0m\u001b[0margs\u001b[0m\u001b[0;34m,\u001b[0m \u001b[0;34m**\u001b[0m\u001b[0mkwds\u001b[0m\u001b[0;34m)\u001b[0m\u001b[0;34m\u001b[0m\u001b[0;34m\u001b[0m\u001b[0m\n\u001b[0m\u001b[1;32m    781\u001b[0m \u001b[0;34m\u001b[0m\u001b[0m\n\u001b[1;32m    782\u001b[0m       \u001b[0mnew_tracing_count\u001b[0m \u001b[0;34m=\u001b[0m \u001b[0mself\u001b[0m\u001b[0;34m.\u001b[0m\u001b[0m_get_tracing_count\u001b[0m\u001b[0;34m(\u001b[0m\u001b[0;34m)\u001b[0m\u001b[0;34m\u001b[0m\u001b[0;34m\u001b[0m\u001b[0m\n",
            "\u001b[0;32m/usr/local/lib/python3.6/dist-packages/tensorflow/python/eager/def_function.py\u001b[0m in \u001b[0;36m_call\u001b[0;34m(self, *args, **kwds)\u001b[0m\n\u001b[1;32m    805\u001b[0m       \u001b[0;31m# In this case we have created variables on the first call, so we run the\u001b[0m\u001b[0;34m\u001b[0m\u001b[0;34m\u001b[0m\u001b[0;34m\u001b[0m\u001b[0m\n\u001b[1;32m    806\u001b[0m       \u001b[0;31m# defunned version which is guaranteed to never create variables.\u001b[0m\u001b[0;34m\u001b[0m\u001b[0;34m\u001b[0m\u001b[0;34m\u001b[0m\u001b[0m\n\u001b[0;32m--> 807\u001b[0;31m       \u001b[0;32mreturn\u001b[0m \u001b[0mself\u001b[0m\u001b[0;34m.\u001b[0m\u001b[0m_stateless_fn\u001b[0m\u001b[0;34m(\u001b[0m\u001b[0;34m*\u001b[0m\u001b[0margs\u001b[0m\u001b[0;34m,\u001b[0m \u001b[0;34m**\u001b[0m\u001b[0mkwds\u001b[0m\u001b[0;34m)\u001b[0m  \u001b[0;31m# pylint: disable=not-callable\u001b[0m\u001b[0;34m\u001b[0m\u001b[0;34m\u001b[0m\u001b[0m\n\u001b[0m\u001b[1;32m    808\u001b[0m     \u001b[0;32melif\u001b[0m \u001b[0mself\u001b[0m\u001b[0;34m.\u001b[0m\u001b[0m_stateful_fn\u001b[0m \u001b[0;32mis\u001b[0m \u001b[0;32mnot\u001b[0m \u001b[0;32mNone\u001b[0m\u001b[0;34m:\u001b[0m\u001b[0;34m\u001b[0m\u001b[0;34m\u001b[0m\u001b[0m\n\u001b[1;32m    809\u001b[0m       \u001b[0;31m# Release the lock early so that multiple threads can perform the call\u001b[0m\u001b[0;34m\u001b[0m\u001b[0;34m\u001b[0m\u001b[0;34m\u001b[0m\u001b[0m\n",
            "\u001b[0;32m/usr/local/lib/python3.6/dist-packages/tensorflow/python/eager/function.py\u001b[0m in \u001b[0;36m__call__\u001b[0;34m(self, *args, **kwargs)\u001b[0m\n\u001b[1;32m   2827\u001b[0m     \u001b[0;32mwith\u001b[0m \u001b[0mself\u001b[0m\u001b[0;34m.\u001b[0m\u001b[0m_lock\u001b[0m\u001b[0;34m:\u001b[0m\u001b[0;34m\u001b[0m\u001b[0;34m\u001b[0m\u001b[0m\n\u001b[1;32m   2828\u001b[0m       \u001b[0mgraph_function\u001b[0m\u001b[0;34m,\u001b[0m \u001b[0margs\u001b[0m\u001b[0;34m,\u001b[0m \u001b[0mkwargs\u001b[0m \u001b[0;34m=\u001b[0m \u001b[0mself\u001b[0m\u001b[0;34m.\u001b[0m\u001b[0m_maybe_define_function\u001b[0m\u001b[0;34m(\u001b[0m\u001b[0margs\u001b[0m\u001b[0;34m,\u001b[0m \u001b[0mkwargs\u001b[0m\u001b[0;34m)\u001b[0m\u001b[0;34m\u001b[0m\u001b[0;34m\u001b[0m\u001b[0m\n\u001b[0;32m-> 2829\u001b[0;31m     \u001b[0;32mreturn\u001b[0m \u001b[0mgraph_function\u001b[0m\u001b[0;34m.\u001b[0m\u001b[0m_filtered_call\u001b[0m\u001b[0;34m(\u001b[0m\u001b[0margs\u001b[0m\u001b[0;34m,\u001b[0m \u001b[0mkwargs\u001b[0m\u001b[0;34m)\u001b[0m  \u001b[0;31m# pylint: disable=protected-access\u001b[0m\u001b[0;34m\u001b[0m\u001b[0;34m\u001b[0m\u001b[0m\n\u001b[0m\u001b[1;32m   2830\u001b[0m \u001b[0;34m\u001b[0m\u001b[0m\n\u001b[1;32m   2831\u001b[0m   \u001b[0;34m@\u001b[0m\u001b[0mproperty\u001b[0m\u001b[0;34m\u001b[0m\u001b[0;34m\u001b[0m\u001b[0m\n",
            "\u001b[0;32m/usr/local/lib/python3.6/dist-packages/tensorflow/python/eager/function.py\u001b[0m in \u001b[0;36m_filtered_call\u001b[0;34m(self, args, kwargs, cancellation_manager)\u001b[0m\n\u001b[1;32m   1846\u001b[0m                            resource_variable_ops.BaseResourceVariable))],\n\u001b[1;32m   1847\u001b[0m         \u001b[0mcaptured_inputs\u001b[0m\u001b[0;34m=\u001b[0m\u001b[0mself\u001b[0m\u001b[0;34m.\u001b[0m\u001b[0mcaptured_inputs\u001b[0m\u001b[0;34m,\u001b[0m\u001b[0;34m\u001b[0m\u001b[0;34m\u001b[0m\u001b[0m\n\u001b[0;32m-> 1848\u001b[0;31m         cancellation_manager=cancellation_manager)\n\u001b[0m\u001b[1;32m   1849\u001b[0m \u001b[0;34m\u001b[0m\u001b[0m\n\u001b[1;32m   1850\u001b[0m   \u001b[0;32mdef\u001b[0m \u001b[0m_call_flat\u001b[0m\u001b[0;34m(\u001b[0m\u001b[0mself\u001b[0m\u001b[0;34m,\u001b[0m \u001b[0margs\u001b[0m\u001b[0;34m,\u001b[0m \u001b[0mcaptured_inputs\u001b[0m\u001b[0;34m,\u001b[0m \u001b[0mcancellation_manager\u001b[0m\u001b[0;34m=\u001b[0m\u001b[0;32mNone\u001b[0m\u001b[0;34m)\u001b[0m\u001b[0;34m:\u001b[0m\u001b[0;34m\u001b[0m\u001b[0;34m\u001b[0m\u001b[0m\n",
            "\u001b[0;32m/usr/local/lib/python3.6/dist-packages/tensorflow/python/eager/function.py\u001b[0m in \u001b[0;36m_call_flat\u001b[0;34m(self, args, captured_inputs, cancellation_manager)\u001b[0m\n\u001b[1;32m   1922\u001b[0m       \u001b[0;31m# No tape is watching; skip to running the function.\u001b[0m\u001b[0;34m\u001b[0m\u001b[0;34m\u001b[0m\u001b[0;34m\u001b[0m\u001b[0m\n\u001b[1;32m   1923\u001b[0m       return self._build_call_outputs(self._inference_function.call(\n\u001b[0;32m-> 1924\u001b[0;31m           ctx, args, cancellation_manager=cancellation_manager))\n\u001b[0m\u001b[1;32m   1925\u001b[0m     forward_backward = self._select_forward_and_backward_functions(\n\u001b[1;32m   1926\u001b[0m         \u001b[0margs\u001b[0m\u001b[0;34m,\u001b[0m\u001b[0;34m\u001b[0m\u001b[0;34m\u001b[0m\u001b[0m\n",
            "\u001b[0;32m/usr/local/lib/python3.6/dist-packages/tensorflow/python/eager/function.py\u001b[0m in \u001b[0;36mcall\u001b[0;34m(self, ctx, args, cancellation_manager)\u001b[0m\n\u001b[1;32m    548\u001b[0m               \u001b[0minputs\u001b[0m\u001b[0;34m=\u001b[0m\u001b[0margs\u001b[0m\u001b[0;34m,\u001b[0m\u001b[0;34m\u001b[0m\u001b[0;34m\u001b[0m\u001b[0m\n\u001b[1;32m    549\u001b[0m               \u001b[0mattrs\u001b[0m\u001b[0;34m=\u001b[0m\u001b[0mattrs\u001b[0m\u001b[0;34m,\u001b[0m\u001b[0;34m\u001b[0m\u001b[0;34m\u001b[0m\u001b[0m\n\u001b[0;32m--> 550\u001b[0;31m               ctx=ctx)\n\u001b[0m\u001b[1;32m    551\u001b[0m         \u001b[0;32melse\u001b[0m\u001b[0;34m:\u001b[0m\u001b[0;34m\u001b[0m\u001b[0;34m\u001b[0m\u001b[0m\n\u001b[1;32m    552\u001b[0m           outputs = execute.execute_with_cancellation(\n",
            "\u001b[0;32m/usr/local/lib/python3.6/dist-packages/tensorflow/python/eager/execute.py\u001b[0m in \u001b[0;36mquick_execute\u001b[0;34m(op_name, num_outputs, inputs, attrs, ctx, name)\u001b[0m\n\u001b[1;32m     58\u001b[0m     \u001b[0mctx\u001b[0m\u001b[0;34m.\u001b[0m\u001b[0mensure_initialized\u001b[0m\u001b[0;34m(\u001b[0m\u001b[0;34m)\u001b[0m\u001b[0;34m\u001b[0m\u001b[0;34m\u001b[0m\u001b[0m\n\u001b[1;32m     59\u001b[0m     tensors = pywrap_tfe.TFE_Py_Execute(ctx._handle, device_name, op_name,\n\u001b[0;32m---> 60\u001b[0;31m                                         inputs, attrs, num_outputs)\n\u001b[0m\u001b[1;32m     61\u001b[0m   \u001b[0;32mexcept\u001b[0m \u001b[0mcore\u001b[0m\u001b[0;34m.\u001b[0m\u001b[0m_NotOkStatusException\u001b[0m \u001b[0;32mas\u001b[0m \u001b[0me\u001b[0m\u001b[0;34m:\u001b[0m\u001b[0;34m\u001b[0m\u001b[0;34m\u001b[0m\u001b[0m\n\u001b[1;32m     62\u001b[0m     \u001b[0;32mif\u001b[0m \u001b[0mname\u001b[0m \u001b[0;32mis\u001b[0m \u001b[0;32mnot\u001b[0m \u001b[0;32mNone\u001b[0m\u001b[0;34m:\u001b[0m\u001b[0;34m\u001b[0m\u001b[0;34m\u001b[0m\u001b[0m\n",
            "\u001b[0;31mKeyboardInterrupt\u001b[0m: "
          ]
        }
      ]
    },
    {
      "cell_type": "code",
      "metadata": {
        "id": "YLAevu4e1vsX",
        "colab_type": "code",
        "colab": {
          "base_uri": "https://localhost:8080/",
          "height": 279
        },
        "outputId": "d2b92218-fa9b-48ae-c718-5739ce7093d9"
      },
      "source": [
        "import matplotlib.pyplot as plt\n",
        "%matplotlib inline\n",
        "\n",
        "# 学習曲線を表示する→どうやって表示させるんだっけ？historyをインスタンス化して列名取得じゃダメなの？\n",
        "fig = plt.figure()\n",
        "ax1 = fig.add_subplot(121)\n",
        "ax1.plot(history['loss'], label='loss')\n",
        "ax1.plot(history['val_loss'], label='val_loss')\n",
        "ax1.set_xlabel('epoch')\n",
        "ax1.set_ylabel('loss')\n",
        "ax1.legend()\n",
        "ax1.grid()\n",
        "\n",
        "ax2 = fig.add_subplot(122)\n",
        "ax2.plot(history['accuracy'], label='accuracy')\n",
        "ax2.plot(history['val_accuracy'], label='val_accuracy')\n",
        "ax2.set_xlabel('epoch')\n",
        "ax2.set_ylabel('accuracy')\n",
        "ax2.legend()\n",
        "ax2.grid()"
      ],
      "execution_count": null,
      "outputs": [
        {
          "output_type": "display_data",
          "data": {
            "image/png": "[encoded data removed]",
            "text/plain": [
              "<Figure size 432x288 with 2 Axes>"
            ]
          },
          "metadata": {
            "tags": [],
            "needs_background": "light"
          }
        }
      ]
    },
    {
      "cell_type": "code",
      "metadata": {
        "id": "UdSC_lzRQAjw",
        "colab_type": "code",
        "colab": {
          "base_uri": "https://localhost:8080/",
          "height": 35
        },
        "outputId": "20221678-176a-42ef-d154-f975b65e88cf"
      },
      "source": [
        "# model[0].predict(test)\n",
        "test.shape"
      ],
      "execution_count": null,
      "outputs": [
        {
          "output_type": "execute_result",
          "data": {
            "text/plain": [
              "(28000, 28, 28, 1)"
            ]
          },
          "metadata": {
            "tags": []
          },
          "execution_count": 24
        }
      ]
    },
    {
      "cell_type": "code",
      "metadata": {
        "id": "0V0eTSFYRc4o",
        "colab_type": "code",
        "colab": {
          "base_uri": "https://localhost:8080/",
          "height": 35
        },
        "outputId": "575d2888-8806-4789-c1ef-8cac38234310"
      },
      "source": [
        "x_test.shape"
      ],
      "execution_count": null,
      "outputs": [
        {
          "output_type": "execute_result",
          "data": {
            "text/plain": [
              "(28000, 32, 32, 3)"
            ]
          },
          "metadata": {
            "tags": []
          },
          "execution_count": 25
        }
      ]
    },
    {
      "cell_type": "code",
      "metadata": {
        "id": "k2uzlaXb2dUR",
        "colab_type": "code",
        "colab": {
          "base_uri": "https://localhost:8080/",
          "height": 251
        },
        "outputId": "d480675d-1a5a-4dcb-b3f0-b5275211ec34"
      },
      "source": [
        "# テストデータの予測\n",
        "results = np.zeros((test.shape[0],10)) \n",
        "for j in range(NETS):\n",
        "    results = results + model[j].predict(x_test)\n",
        "# カテゴリー分類されたテストデータの最大値のインデックス(右から順に数えて何番目かを返す)\n",
        "results = np.argmax(results,axis = 1)\n",
        "# npの配列のままなので、データフレームの形に直して名前を付ける\n",
        "results = pd.Series(results, name=\"Label\")\n",
        "# 一応できているか確認\n",
        "print(results)\n",
        "print(results.shape)\n",
        "\n",
        "submission = pd.concat([pd.Series(range(1,28001),name = \"ImageId\"),results],axis = 1)\n",
        "submission.to_csv(\"CNN_submission.csv\",index=False)"
      ],
      "execution_count": null,
      "outputs": [
        {
          "output_type": "stream",
          "text": [
            "0        2\n",
            "1        0\n",
            "2        9\n",
            "3        9\n",
            "4        3\n",
            "        ..\n",
            "27995    9\n",
            "27996    7\n",
            "27997    3\n",
            "27998    9\n",
            "27999    2\n",
            "Name: Label, Length: 28000, dtype: int64\n",
            "(28000,)\n"
          ],
          "name": "stdout"
        }
      ]
    },
    {
      "cell_type": "code",
      "metadata": {
        "id": "fXJtBVjwRjJ1",
        "colab_type": "code",
        "colab": {
          "base_uri": "https://localhost:8080/",
          "height": 287
        },
        "outputId": "c0a715a2-234f-4ba2-9d6b-e0e1ff5eb6e7"
      },
      "source": [
        "sub_df = pd.read_csv('CNN_submission.csv')\n",
        "print(sub_df.shape)\n",
        "print(sub_df)"
      ],
      "execution_count": null,
      "outputs": [
        {
          "output_type": "stream",
          "text": [
            "(28000, 2)\n",
            "       ImageId  Label\n",
            "0            1      2\n",
            "1            2      0\n",
            "2            3      9\n",
            "3            4      9\n",
            "4            5      3\n",
            "...        ...    ...\n",
            "27995    27996      9\n",
            "27996    27997      7\n",
            "27997    27998      3\n",
            "27998    27999      9\n",
            "27999    28000      2\n",
            "\n",
            "[28000 rows x 2 columns]\n"
          ],
          "name": "stdout"
        }
      ]
    },
    {
      "cell_type": "code",
      "metadata": {
        "id": "tL8J1vNonz8U",
        "colab_type": "code",
        "colab": {}
      },
      "source": [
        ""
      ],
      "execution_count": null,
      "outputs": []
    }
  ]
}