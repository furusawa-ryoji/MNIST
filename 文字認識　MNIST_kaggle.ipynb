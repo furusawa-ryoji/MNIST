{
  "nbformat": 4,
  "nbformat_minor": 0,
  "metadata": {
    "colab": {
      "name": "文字認識　MNIST kaggle",
      "provenance": [],
      "collapsed_sections": [],
      "authorship_tag": "ABX9TyO4gqsf4YuRrGtlB+mXbzMR",
      "include_colab_link": true
    },
    "kernelspec": {
      "name": "python3",
      "display_name": "Python 3"
    },
    "accelerator": "GPU"
  },
  "cells": [
    {
      "cell_type": "markdown",
      "metadata": {
        "id": "view-in-github",
        "colab_type": "text"
      },
      "source": [
        "<a href=\"https://colab.research.google.com/github/furusawa-ryoji/MNIST/blob/develop/%E6%96%87%E5%AD%97%E8%AA%8D%E8%AD%98%E3%80%80MNIST_kaggle.ipynb\" target=\"_parent\"><img src=\"https://colab.research.google.com/assets/colab-badge.svg\" alt=\"Open In Colab\"/></a>"
      ]
    },
    {
      "cell_type": "markdown",
      "metadata": {
        "id": "vjdJaicQqmS3",
        "colab_type": "text"
      },
      "source": [
        "# kaggleの評価\n",
        "データセットは1枚の画像のピクセルが784(28*28)列で表現されている(0,1で白黒判定かどうかはまだ調べていないがおそらくそう)\n",
        "\n",
        "提出方法はIdとテストデータを予測した手書き文字の2列のCSVファイル\n",
        "\n",
        "評価方法はどれだけ予想した手書き文字が合っているかで判定(97%正答なら0.97と表示)\n",
        "一番いいのは1.00"
      ]
    },
    {
      "cell_type": "code",
      "metadata": {
        "id": "E4LhyGFVvGcJ",
        "colab_type": "code",
        "colab": {
          "base_uri": "https://localhost:8080/",
          "height": 89
        },
        "outputId": "90ce1744-e987-45b0-f354-e6188652577e"
      },
      "source": [
        "# ZIPファイル解凍\n",
        "!unzip digit*"
      ],
      "execution_count": 1,
      "outputs": [
        {
          "output_type": "stream",
          "text": [
            "Archive:  digit-recognizer.zip\n",
            "  inflating: sample_submission.csv   \n",
            "  inflating: test.csv                \n",
            "  inflating: train.csv               \n"
          ],
          "name": "stdout"
        }
      ]
    },
    {
      "cell_type": "code",
      "metadata": {
        "id": "ySvKYqff3obK",
        "colab_type": "code",
        "colab": {
          "base_uri": "https://localhost:8080/",
          "height": 53
        },
        "outputId": "28245809-cbd7-4fd4-de94-52235b5b53d4"
      },
      "source": [
        "import pandas as pd\n",
        "import numpy as np\n",
        "\n",
        "# データの読み込み\n",
        "train_df = pd.read_csv('train.csv')\n",
        "test_df = pd.read_csv('test.csv')\n",
        "print(train_df.shape)\n",
        "print(test_df.shape)"
      ],
      "execution_count": 2,
      "outputs": [
        {
          "output_type": "stream",
          "text": [
            "(42000, 785)\n",
            "(28000, 784)\n"
          ],
          "name": "stdout"
        }
      ]
    },
    {
      "cell_type": "code",
      "metadata": {
        "id": "FY83NCAjBPaC",
        "colab_type": "code",
        "colab": {
          "base_uri": "https://localhost:8080/",
          "height": 269
        },
        "outputId": "c3563ac0-94c9-40bc-f8af-fe3d4e62a4a0"
      },
      "source": [
        "# データの確認\n",
        "train_df.info"
      ],
      "execution_count": 3,
      "outputs": [
        {
          "output_type": "execute_result",
          "data": {
            "text/plain": [
              "<bound method DataFrame.info of        label  pixel0  pixel1  pixel2  ...  pixel780  pixel781  pixel782  pixel783\n",
              "0          1       0       0       0  ...         0         0         0         0\n",
              "1          0       0       0       0  ...         0         0         0         0\n",
              "2          1       0       0       0  ...         0         0         0         0\n",
              "3          4       0       0       0  ...         0         0         0         0\n",
              "4          0       0       0       0  ...         0         0         0         0\n",
              "...      ...     ...     ...     ...  ...       ...       ...       ...       ...\n",
              "41995      0       0       0       0  ...         0         0         0         0\n",
              "41996      1       0       0       0  ...         0         0         0         0\n",
              "41997      7       0       0       0  ...         0         0         0         0\n",
              "41998      6       0       0       0  ...         0         0         0         0\n",
              "41999      9       0       0       0  ...         0         0         0         0\n",
              "\n",
              "[42000 rows x 785 columns]>"
            ]
          },
          "metadata": {
            "tags": []
          },
          "execution_count": 3
        }
      ]
    },
    {
      "cell_type": "code",
      "metadata": {
        "id": "jH_Iq6OQBgLa",
        "colab_type": "code",
        "colab": {
          "base_uri": "https://localhost:8080/",
          "height": 269
        },
        "outputId": "4b02041a-dee7-4f20-9ca8-5619601f5d71"
      },
      "source": [
        "# データフレームを配列に出来ているか確認\n",
        "train_data = np.array(train_df)\n",
        "test = np.array(test_df)\n",
        "print(train_data)\n",
        "print(test)"
      ],
      "execution_count": 4,
      "outputs": [
        {
          "output_type": "stream",
          "text": [
            "[[1 0 0 ... 0 0 0]\n",
            " [0 0 0 ... 0 0 0]\n",
            " [1 0 0 ... 0 0 0]\n",
            " ...\n",
            " [7 0 0 ... 0 0 0]\n",
            " [6 0 0 ... 0 0 0]\n",
            " [9 0 0 ... 0 0 0]]\n",
            "[[0 0 0 ... 0 0 0]\n",
            " [0 0 0 ... 0 0 0]\n",
            " [0 0 0 ... 0 0 0]\n",
            " ...\n",
            " [0 0 0 ... 0 0 0]\n",
            " [0 0 0 ... 0 0 0]\n",
            " [0 0 0 ... 0 0 0]]\n"
          ],
          "name": "stdout"
        }
      ]
    },
    {
      "cell_type": "code",
      "metadata": {
        "id": "1LiJx_nUCl99",
        "colab_type": "code",
        "colab": {
          "base_uri": "https://localhost:8080/",
          "height": 143
        },
        "outputId": "df439654-0304-400f-90c1-e1c42c52cf3a"
      },
      "source": [
        "# ラベルと目的変数の定義\n",
        "label = train_data[:, 0]\n",
        "train = train_data[:,1:]\n",
        "print(train)"
      ],
      "execution_count": 5,
      "outputs": [
        {
          "output_type": "stream",
          "text": [
            "[[0 0 0 ... 0 0 0]\n",
            " [0 0 0 ... 0 0 0]\n",
            " [0 0 0 ... 0 0 0]\n",
            " ...\n",
            " [0 0 0 ... 0 0 0]\n",
            " [0 0 0 ... 0 0 0]\n",
            " [0 0 0 ... 0 0 0]]\n"
          ],
          "name": "stdout"
        }
      ]
    },
    {
      "cell_type": "code",
      "metadata": {
        "id": "7pb6o0wbazqj",
        "colab_type": "code",
        "colab": {}
      },
      "source": [
        "# 画像は1行→28*28にreshapeする必要がある\n",
        "train = train.reshape(len(train), 28, 28, 1)\n",
        "test = test.reshape(len(test), 28, 28, 1)\n",
        "X_train = train\n",
        "X_test = test\n",
        "# print(train)\n",
        "# print(test)\n",
        "# print(train.shape)\n",
        "# print(test.shape)"
      ],
      "execution_count": 6,
      "outputs": []
    },
    {
      "cell_type": "code",
      "metadata": {
        "id": "C5qWYUxvCyTS",
        "colab_type": "code",
        "colab": {}
      },
      "source": [
        "from sklearn.model_selection import KFold\n",
        "from sklearn.model_selection import train_test_split\n",
        "\n",
        "# クロスバリデーション(トレーニングデータを5つに分割)\n",
        "kf = KFold(n_splits=5, shuffle=True)\n",
        "\n",
        "# 多クラス分類のときにクラスのラベルをそのまま推論させない\n",
        "# One-Hot表現に変換し、各クラスに分類される確率を出す。\n",
        "# 0～9の数字のラベルに分類する？\n",
        "from keras.utils import to_categorical\n",
        "y_train = to_categorical(label, 10)\n",
        "\n",
        "for train_index, eval_index in kf.split(X_train):\n",
        "    X_tra, X_eval = X_train[train_index], X_train[eval_index]\n",
        "    y_tra, y_eval = y_train[train_index], y_train[eval_index]\n",
        "\n",
        "# データを正規化\n",
        "x_tra = X_tra / 255\n",
        "x_eval = X_eval / 255"
      ],
      "execution_count": 7,
      "outputs": []
    },
    {
      "cell_type": "code",
      "metadata": {
        "id": "1aQwlxquhrl5",
        "colab_type": "code",
        "colab": {
          "base_uri": "https://localhost:8080/",
          "height": 161
        },
        "outputId": "1d4a8d0b-af84-43d0-cbf3-d90f4c7faaa0"
      },
      "source": [
        "print(y_train)\n",
        "print(y_train.shape)"
      ],
      "execution_count": 8,
      "outputs": [
        {
          "output_type": "stream",
          "text": [
            "[[0. 1. 0. ... 0. 0. 0.]\n",
            " [1. 0. 0. ... 0. 0. 0.]\n",
            " [0. 1. 0. ... 0. 0. 0.]\n",
            " ...\n",
            " [0. 0. 0. ... 1. 0. 0.]\n",
            " [0. 0. 0. ... 0. 0. 0.]\n",
            " [0. 0. 0. ... 0. 0. 1.]]\n",
            "(42000, 10)\n"
          ],
          "name": "stdout"
        }
      ]
    },
    {
      "cell_type": "code",
      "metadata": {
        "id": "FrYqQTbXE2eH",
        "colab_type": "code",
        "colab": {}
      },
      "source": [
        "import matplotlib.pyplot as plt\n",
        "%matplotlib inline\n",
        "# 画像の表示:imshow(行)→28*28にすればいいのではないか？\n",
        "# plt.imshow(train[300])"
      ],
      "execution_count": 9,
      "outputs": []
    },
    {
      "cell_type": "code",
      "metadata": {
        "id": "Gnwh2KbxFG9s",
        "colab_type": "code",
        "colab": {}
      },
      "source": [
        "# 必要なライブラリをインポート\n",
        "from keras.models import Sequential\n",
        "from keras.layers import Dense, Dropout, Flatten\n",
        "from keras.layers import Conv2D, MaxPooling2D\n",
        "from keras.optimizers import SGD\n",
        "from keras.datasets import mnist\n",
        "from keras import backend as K\n",
        "from keras.preprocessing.image import ImageDataGenerator\n",
        "from keras.callbacks import LearningRateScheduler"
      ],
      "execution_count": 10,
      "outputs": []
    },
    {
      "cell_type": "code",
      "metadata": {
        "id": "GOJIcZ6_V-Nv",
        "colab_type": "code",
        "colab": {}
      },
      "source": [
        ""
      ],
      "execution_count": 11,
      "outputs": []
    },
    {
      "cell_type": "code",
      "metadata": {
        "id": "oAGAiqOHIQ_a",
        "colab_type": "code",
        "colab": {
          "base_uri": "https://localhost:8080/",
          "height": 449
        },
        "outputId": "4faebe8b-c8c5-4d34-a27c-18b13f292c01"
      },
      "source": [
        "# モデルを作成：精度を上げるためにはここが一番重要\n",
        "model = Sequential()\n",
        "model.add(Conv2D(32, kernel_size=(3, 3),\n",
        "                 activation='relu',\n",
        "                 input_shape=(28, 28, 1)))\n",
        "model.add(MaxPooling2D(pool_size=(2, 2)))\n",
        "\n",
        "model.add(Conv2D(64, (3, 3), activation='relu'))\n",
        "model.add(MaxPooling2D(pool_size=(2, 2)))\n",
        "model.add(Dropout(0.25))\n",
        "\n",
        "model.add(Flatten())\n",
        "model.add(Dense(512, activation='relu'))\n",
        "model.add(Dense(10, activation='softmax'))\n",
        "\n",
        "# 学習のためのモデルを設定\n",
        "model.compile(loss='categorical_crossentropy',\n",
        "              optimizer=SGD(lr=0.002),\n",
        "              metrics=['accuracy'])\n",
        "model.summary()"
      ],
      "execution_count": 12,
      "outputs": [
        {
          "output_type": "stream",
          "text": [
            "Model: \"sequential\"\n",
            "_________________________________________________________________\n",
            "Layer (type)                 Output Shape              Param #   \n",
            "=================================================================\n",
            "conv2d (Conv2D)              (None, 26, 26, 32)        320       \n",
            "_________________________________________________________________\n",
            "max_pooling2d (MaxPooling2D) (None, 13, 13, 32)        0         \n",
            "_________________________________________________________________\n",
            "conv2d_1 (Conv2D)            (None, 11, 11, 64)        18496     \n",
            "_________________________________________________________________\n",
            "max_pooling2d_1 (MaxPooling2 (None, 5, 5, 64)          0         \n",
            "_________________________________________________________________\n",
            "dropout (Dropout)            (None, 5, 5, 64)          0         \n",
            "_________________________________________________________________\n",
            "flatten (Flatten)            (None, 1600)              0         \n",
            "_________________________________________________________________\n",
            "dense (Dense)                (None, 512)               819712    \n",
            "_________________________________________________________________\n",
            "dense_1 (Dense)              (None, 10)                5130      \n",
            "=================================================================\n",
            "Total params: 843,658\n",
            "Trainable params: 843,658\n",
            "Non-trainable params: 0\n",
            "_________________________________________________________________\n"
          ],
          "name": "stdout"
        }
      ]
    },
    {
      "cell_type": "code",
      "metadata": {
        "id": "RI5wu9tctG2a",
        "colab_type": "code",
        "colab": {}
      },
      "source": [
        "# データ拡張により画像をさらに作成\n",
        "datagen = ImageDataGenerator(\n",
        "        # rotation_range: 整数．画像をランダムに回転する回転範囲．\n",
        "        rotation_range=10,  \n",
        "        # zoom_range: 浮動小数点数または[lower，upper]．ランダムにズームする範囲．浮動小数点数が与えられた場合，[lower, upper] = [1-zoom_range, 1+zoom_range]\n",
        "        zoom_range = 0.10,  \n",
        "        # width_shift_range: 浮動小数点数（横幅に対する割合）．ランダムに水平シフトする範囲．\n",
        "        width_shift_range=0.1, \n",
        "        # height_shift_range: 浮動小数点数（縦幅に対する割合）．ランダムに垂直シフトする範囲．\n",
        "        height_shift_range=0.1)"
      ],
      "execution_count": 13,
      "outputs": []
    },
    {
      "cell_type": "code",
      "metadata": {
        "id": "IzwekmpktMkS",
        "colab_type": "code",
        "colab": {}
      },
      "source": [
        "# 画像データをImageDataGeneratorに食わせることで画像の水増し\n",
        "datagen.fit(x_tra)"
      ],
      "execution_count": 14,
      "outputs": []
    },
    {
      "cell_type": "code",
      "metadata": {
        "id": "KwDuVLL2fncC",
        "colab_type": "code",
        "colab": {}
      },
      "source": [
        "# 学習率を返す関数を用意する\n",
        "def lr_schedul(epoch):\n",
        "    x = 0.002\n",
        "    if epoch >= 10:\n",
        "        x = 0.001\n",
        "    if epoch >= 30:\n",
        "        x = 0.0005\n",
        "      if epoch >= 80:\n",
        "        x = 0.0001\n",
        "    return x\n",
        "\n",
        "\n",
        "lr_decay = LearningRateScheduler(\n",
        "    lr_schedul,\n",
        "    # verbose=1で、更新メッセージ表示。0の場合は表示しない\n",
        "    verbose=1,\n",
        ")"
      ],
      "execution_count": null,
      "outputs": []
    },
    {
      "cell_type": "code",
      "metadata": {
        "id": "FGx_vz4ez6PX",
        "colab_type": "code",
        "colab": {
          "base_uri": "https://localhost:8080/",
          "height": 1000
        },
        "outputId": "48e88c3e-6e86-4f24-f9e4-3f61dbb92d72"
      },
      "source": [
        "# 学習\n",
        "result = model.fit_generator(datagen.flow(x_tra, y_tra),\n",
        "          epochs=100,\n",
        "          validation_data=(x_eval, y_eval),\n",
        "          callbacks=[lr_decay]\n",
        "           )\n",
        "\n",
        "print('')\n",
        "# 精度を検証\n",
        "model.evaluate(x_eval, y_eval)\n",
        "\n",
        "print('')\n",
        "# 学習状況のログを表示\n",
        "history = result.history\n",
        "# vars(model.history)['history']"
      ],
      "execution_count": 15,
      "outputs": [
        {
          "output_type": "stream",
          "text": [
            "WARNING:tensorflow:From <ipython-input-15-b7a9be6991e6>:5: Model.fit_generator (from tensorflow.python.keras.engine.training) is deprecated and will be removed in a future version.\n",
            "Instructions for updating:\n",
            "Please use Model.fit, which supports generators.\n",
            "\n",
            "Epoch 00001: LearningRateScheduler reducing learning rate to 0.002.\n",
            "Epoch 1/100\n",
            "1050/1050 [==============================] - 17s 16ms/step - loss: 2.1795 - accuracy: 0.2823 - val_loss: 1.6918 - val_accuracy: 0.6602\n",
            "\n",
            "Epoch 00002: LearningRateScheduler reducing learning rate to 0.002.\n",
            "Epoch 2/100\n",
            "1050/1050 [==============================] - 17s 16ms/step - loss: 1.4572 - accuracy: 0.5437 - val_loss: 0.6467 - val_accuracy: 0.8245\n",
            "\n",
            "Epoch 00003: LearningRateScheduler reducing learning rate to 0.002.\n",
            "Epoch 3/100\n",
            "1050/1050 [==============================] - 17s 16ms/step - loss: 1.0847 - accuracy: 0.6456 - val_loss: 0.4627 - val_accuracy: 0.8727\n",
            "\n",
            "Epoch 00004: LearningRateScheduler reducing learning rate to 0.001.\n",
            "Epoch 4/100\n",
            "1050/1050 [==============================] - 17s 16ms/step - loss: 0.9224 - accuracy: 0.7045 - val_loss: 0.3941 - val_accuracy: 0.8899\n",
            "\n",
            "Epoch 00005: LearningRateScheduler reducing learning rate to 0.001.\n",
            "Epoch 5/100\n",
            "1050/1050 [==============================] - 17s 16ms/step - loss: 0.8265 - accuracy: 0.7415 - val_loss: 0.3405 - val_accuracy: 0.9092\n",
            "\n",
            "Epoch 00006: LearningRateScheduler reducing learning rate to 0.0005.\n",
            "Epoch 6/100\n",
            "1050/1050 [==============================] - 17s 16ms/step - loss: 0.7486 - accuracy: 0.7681 - val_loss: 0.3132 - val_accuracy: 0.9187\n",
            "\n",
            "Epoch 00007: LearningRateScheduler reducing learning rate to 0.0005.\n",
            "Epoch 7/100\n",
            "1050/1050 [==============================] - 17s 16ms/step - loss: 0.7123 - accuracy: 0.7798 - val_loss: 0.2931 - val_accuracy: 0.9220\n",
            "\n",
            "Epoch 00008: LearningRateScheduler reducing learning rate to 0.0005.\n",
            "Epoch 8/100\n",
            "1050/1050 [==============================] - 16s 16ms/step - loss: 0.6726 - accuracy: 0.7920 - val_loss: 0.2763 - val_accuracy: 0.9280\n",
            "\n",
            "Epoch 00009: LearningRateScheduler reducing learning rate to 0.0005.\n",
            "Epoch 9/100\n",
            "1050/1050 [==============================] - 16s 16ms/step - loss: 0.6388 - accuracy: 0.8024 - val_loss: 0.2613 - val_accuracy: 0.9318\n",
            "\n",
            "Epoch 00010: LearningRateScheduler reducing learning rate to 0.0005.\n",
            "Epoch 10/100\n",
            "1050/1050 [==============================] - 16s 16ms/step - loss: 0.6052 - accuracy: 0.8137 - val_loss: 0.2489 - val_accuracy: 0.9321\n",
            "\n",
            "Epoch 00011: LearningRateScheduler reducing learning rate to 0.0005.\n",
            "Epoch 11/100\n",
            "1050/1050 [==============================] - 16s 15ms/step - loss: 0.5728 - accuracy: 0.8230 - val_loss: 0.2371 - val_accuracy: 0.9362\n",
            "\n",
            "Epoch 00012: LearningRateScheduler reducing learning rate to 0.0005.\n",
            "Epoch 12/100\n",
            "1050/1050 [==============================] - 16s 16ms/step - loss: 0.5495 - accuracy: 0.8291 - val_loss: 0.2271 - val_accuracy: 0.9388\n",
            "\n",
            "Epoch 00013: LearningRateScheduler reducing learning rate to 0.0005.\n",
            "Epoch 13/100\n",
            "1050/1050 [==============================] - 16s 15ms/step - loss: 0.5284 - accuracy: 0.8384 - val_loss: 0.2173 - val_accuracy: 0.9426\n",
            "\n",
            "Epoch 00014: LearningRateScheduler reducing learning rate to 0.0005.\n",
            "Epoch 14/100\n",
            "1050/1050 [==============================] - 16s 15ms/step - loss: 0.5003 - accuracy: 0.8477 - val_loss: 0.2098 - val_accuracy: 0.9443\n",
            "\n",
            "Epoch 00015: LearningRateScheduler reducing learning rate to 0.0005.\n",
            "Epoch 15/100\n",
            "1050/1050 [==============================] - 16s 15ms/step - loss: 0.4760 - accuracy: 0.8533 - val_loss: 0.2035 - val_accuracy: 0.9457\n",
            "\n",
            "Epoch 00016: LearningRateScheduler reducing learning rate to 0.0005.\n",
            "Epoch 16/100\n",
            "1050/1050 [==============================] - 16s 15ms/step - loss: 0.4667 - accuracy: 0.8591 - val_loss: 0.1971 - val_accuracy: 0.9452\n",
            "\n",
            "Epoch 00017: LearningRateScheduler reducing learning rate to 0.0005.\n",
            "Epoch 17/100\n",
            "1050/1050 [==============================] - 16s 15ms/step - loss: 0.4506 - accuracy: 0.8617 - val_loss: 0.1922 - val_accuracy: 0.9483\n",
            "\n",
            "Epoch 00018: LearningRateScheduler reducing learning rate to 0.0005.\n",
            "Epoch 18/100\n",
            "1050/1050 [==============================] - 17s 16ms/step - loss: 0.4345 - accuracy: 0.8684 - val_loss: 0.1850 - val_accuracy: 0.9498\n",
            "\n",
            "Epoch 00019: LearningRateScheduler reducing learning rate to 0.0005.\n",
            "Epoch 19/100\n",
            "1050/1050 [==============================] - 16s 16ms/step - loss: 0.4222 - accuracy: 0.8724 - val_loss: 0.1861 - val_accuracy: 0.9480\n",
            "\n",
            "Epoch 00020: LearningRateScheduler reducing learning rate to 0.0005.\n",
            "Epoch 20/100\n",
            "1050/1050 [==============================] - 16s 15ms/step - loss: 0.4043 - accuracy: 0.8762 - val_loss: 0.1777 - val_accuracy: 0.9502\n",
            "\n",
            "Epoch 00021: LearningRateScheduler reducing learning rate to 0.0005.\n",
            "Epoch 21/100\n",
            "1050/1050 [==============================] - 16s 15ms/step - loss: 0.3965 - accuracy: 0.8798 - val_loss: 0.1717 - val_accuracy: 0.9513\n",
            "\n",
            "Epoch 00022: LearningRateScheduler reducing learning rate to 0.0005.\n",
            "Epoch 22/100\n",
            "1050/1050 [==============================] - 16s 15ms/step - loss: 0.3854 - accuracy: 0.8822 - val_loss: 0.1707 - val_accuracy: 0.9521\n",
            "\n",
            "Epoch 00023: LearningRateScheduler reducing learning rate to 0.0005.\n",
            "Epoch 23/100\n",
            "1050/1050 [==============================] - 16s 16ms/step - loss: 0.3764 - accuracy: 0.8832 - val_loss: 0.1644 - val_accuracy: 0.9529\n",
            "\n",
            "Epoch 00024: LearningRateScheduler reducing learning rate to 0.0005.\n",
            "Epoch 24/100\n",
            "1050/1050 [==============================] - 16s 15ms/step - loss: 0.3658 - accuracy: 0.8893 - val_loss: 0.1608 - val_accuracy: 0.9552\n",
            "\n",
            "Epoch 00025: LearningRateScheduler reducing learning rate to 0.0005.\n",
            "Epoch 25/100\n",
            "1050/1050 [==============================] - 16s 15ms/step - loss: 0.3534 - accuracy: 0.8929 - val_loss: 0.1575 - val_accuracy: 0.9554\n",
            "\n",
            "Epoch 00026: LearningRateScheduler reducing learning rate to 0.0005.\n",
            "Epoch 26/100\n",
            "1050/1050 [==============================] - 17s 16ms/step - loss: 0.3509 - accuracy: 0.8935 - val_loss: 0.1544 - val_accuracy: 0.9575\n",
            "\n",
            "Epoch 00027: LearningRateScheduler reducing learning rate to 0.0005.\n",
            "Epoch 27/100\n",
            "1050/1050 [==============================] - 16s 15ms/step - loss: 0.3393 - accuracy: 0.8945 - val_loss: 0.1552 - val_accuracy: 0.9555\n",
            "\n",
            "Epoch 00028: LearningRateScheduler reducing learning rate to 0.0005.\n",
            "Epoch 28/100\n",
            "1050/1050 [==============================] - 16s 15ms/step - loss: 0.3366 - accuracy: 0.8987 - val_loss: 0.1489 - val_accuracy: 0.9574\n",
            "\n",
            "Epoch 00029: LearningRateScheduler reducing learning rate to 0.0005.\n",
            "Epoch 29/100\n",
            "1050/1050 [==============================] - 16s 16ms/step - loss: 0.3359 - accuracy: 0.8980 - val_loss: 0.1462 - val_accuracy: 0.9601\n",
            "\n",
            "Epoch 00030: LearningRateScheduler reducing learning rate to 0.0005.\n",
            "Epoch 30/100\n",
            "1050/1050 [==============================] - 16s 15ms/step - loss: 0.3257 - accuracy: 0.9013 - val_loss: 0.1465 - val_accuracy: 0.9582\n",
            "\n",
            "Epoch 00031: LearningRateScheduler reducing learning rate to 0.0005.\n",
            "Epoch 31/100\n",
            "1050/1050 [==============================] - 16s 15ms/step - loss: 0.3160 - accuracy: 0.9025 - val_loss: 0.1411 - val_accuracy: 0.9610\n",
            "\n",
            "Epoch 00032: LearningRateScheduler reducing learning rate to 0.0005.\n",
            "Epoch 32/100\n",
            "1050/1050 [==============================] - 17s 16ms/step - loss: 0.3147 - accuracy: 0.9041 - val_loss: 0.1442 - val_accuracy: 0.9588\n",
            "\n",
            "Epoch 00033: LearningRateScheduler reducing learning rate to 0.0005.\n",
            "Epoch 33/100\n",
            "1050/1050 [==============================] - 16s 16ms/step - loss: 0.3015 - accuracy: 0.9075 - val_loss: 0.1375 - val_accuracy: 0.9615\n",
            "\n",
            "Epoch 00034: LearningRateScheduler reducing learning rate to 0.0005.\n",
            "Epoch 34/100\n",
            "1050/1050 [==============================] - 19s 18ms/step - loss: 0.3003 - accuracy: 0.9082 - val_loss: 0.1366 - val_accuracy: 0.9614\n",
            "\n",
            "Epoch 00035: LearningRateScheduler reducing learning rate to 0.0005.\n",
            "Epoch 35/100\n",
            "1050/1050 [==============================] - 17s 16ms/step - loss: 0.3002 - accuracy: 0.9090 - val_loss: 0.1370 - val_accuracy: 0.9611\n",
            "\n",
            "Epoch 00036: LearningRateScheduler reducing learning rate to 0.0005.\n",
            "Epoch 36/100\n",
            "1050/1050 [==============================] - 17s 16ms/step - loss: 0.2950 - accuracy: 0.9101 - val_loss: 0.1347 - val_accuracy: 0.9613\n",
            "\n",
            "Epoch 00037: LearningRateScheduler reducing learning rate to 0.0005.\n",
            "Epoch 37/100\n",
            "1050/1050 [==============================] - 18s 17ms/step - loss: 0.2927 - accuracy: 0.9112 - val_loss: 0.1317 - val_accuracy: 0.9631\n",
            "\n",
            "Epoch 00038: LearningRateScheduler reducing learning rate to 0.0005.\n",
            "Epoch 38/100\n",
            "1050/1050 [==============================] - 17s 16ms/step - loss: 0.2820 - accuracy: 0.9121 - val_loss: 0.1300 - val_accuracy: 0.9620\n",
            "\n",
            "Epoch 00039: LearningRateScheduler reducing learning rate to 0.0005.\n",
            "Epoch 39/100\n",
            "1050/1050 [==============================] - 17s 16ms/step - loss: 0.2800 - accuracy: 0.9142 - val_loss: 0.1254 - val_accuracy: 0.9639\n",
            "\n",
            "Epoch 00040: LearningRateScheduler reducing learning rate to 0.0005.\n",
            "Epoch 40/100\n",
            "1050/1050 [==============================] - 17s 16ms/step - loss: 0.2748 - accuracy: 0.9154 - val_loss: 0.1233 - val_accuracy: 0.9648\n",
            "\n",
            "Epoch 00041: LearningRateScheduler reducing learning rate to 0.0005.\n",
            "Epoch 41/100\n",
            "1050/1050 [==============================] - 17s 16ms/step - loss: 0.2744 - accuracy: 0.9170 - val_loss: 0.1262 - val_accuracy: 0.9618\n",
            "\n",
            "Epoch 00042: LearningRateScheduler reducing learning rate to 0.0005.\n",
            "Epoch 42/100\n",
            "1050/1050 [==============================] - 17s 16ms/step - loss: 0.2723 - accuracy: 0.9163 - val_loss: 0.1245 - val_accuracy: 0.9640\n",
            "\n",
            "Epoch 00043: LearningRateScheduler reducing learning rate to 0.0005.\n",
            "Epoch 43/100\n",
            "1050/1050 [==============================] - 17s 17ms/step - loss: 0.2678 - accuracy: 0.9198 - val_loss: 0.1218 - val_accuracy: 0.9642\n",
            "\n",
            "Epoch 00044: LearningRateScheduler reducing learning rate to 0.0005.\n",
            "Epoch 44/100\n",
            "1050/1050 [==============================] - 17s 16ms/step - loss: 0.2655 - accuracy: 0.9184 - val_loss: 0.1219 - val_accuracy: 0.9640\n",
            "\n",
            "Epoch 00045: LearningRateScheduler reducing learning rate to 0.0005.\n",
            "Epoch 45/100\n",
            "1050/1050 [==============================] - 17s 16ms/step - loss: 0.2592 - accuracy: 0.9212 - val_loss: 0.1214 - val_accuracy: 0.9643\n",
            "\n",
            "Epoch 00046: LearningRateScheduler reducing learning rate to 0.0005.\n",
            "Epoch 46/100\n",
            "1050/1050 [==============================] - 17s 17ms/step - loss: 0.2602 - accuracy: 0.9212 - val_loss: 0.1215 - val_accuracy: 0.9637\n",
            "\n",
            "Epoch 00047: LearningRateScheduler reducing learning rate to 0.0005.\n",
            "Epoch 47/100\n",
            "1050/1050 [==============================] - 17s 16ms/step - loss: 0.2523 - accuracy: 0.9228 - val_loss: 0.1206 - val_accuracy: 0.9645\n",
            "\n",
            "Epoch 00048: LearningRateScheduler reducing learning rate to 0.0005.\n",
            "Epoch 48/100\n",
            "1050/1050 [==============================] - 17s 16ms/step - loss: 0.2498 - accuracy: 0.9234 - val_loss: 0.1150 - val_accuracy: 0.9663\n",
            "\n",
            "Epoch 00049: LearningRateScheduler reducing learning rate to 0.0005.\n",
            "Epoch 49/100\n",
            "1050/1050 [==============================] - 17s 16ms/step - loss: 0.2380 - accuracy: 0.9278 - val_loss: 0.1130 - val_accuracy: 0.9669\n",
            "\n",
            "Epoch 00050: LearningRateScheduler reducing learning rate to 0.0005.\n",
            "Epoch 50/100\n",
            "1050/1050 [==============================] - 17s 16ms/step - loss: 0.2492 - accuracy: 0.9238 - val_loss: 0.1158 - val_accuracy: 0.9660\n",
            "\n",
            "Epoch 00051: LearningRateScheduler reducing learning rate to 0.0005.\n",
            "Epoch 51/100\n",
            "1050/1050 [==============================] - 17s 16ms/step - loss: 0.2460 - accuracy: 0.9246 - val_loss: 0.1124 - val_accuracy: 0.9669\n",
            "\n",
            "Epoch 00052: LearningRateScheduler reducing learning rate to 0.0005.\n",
            "Epoch 52/100\n",
            "1050/1050 [==============================] - 17s 16ms/step - loss: 0.2416 - accuracy: 0.9257 - val_loss: 0.1110 - val_accuracy: 0.9681\n",
            "\n",
            "Epoch 00053: LearningRateScheduler reducing learning rate to 0.0005.\n",
            "Epoch 53/100\n",
            "1050/1050 [==============================] - 17s 16ms/step - loss: 0.2418 - accuracy: 0.9261 - val_loss: 0.1079 - val_accuracy: 0.9685\n",
            "\n",
            "Epoch 00054: LearningRateScheduler reducing learning rate to 0.0005.\n",
            "Epoch 54/100\n",
            "1050/1050 [==============================] - 17s 16ms/step - loss: 0.2393 - accuracy: 0.9265 - val_loss: 0.1183 - val_accuracy: 0.9658\n",
            "\n",
            "Epoch 00055: LearningRateScheduler reducing learning rate to 0.0005.\n",
            "Epoch 55/100\n",
            "1050/1050 [==============================] - 18s 17ms/step - loss: 0.2348 - accuracy: 0.9278 - val_loss: 0.1121 - val_accuracy: 0.9675\n",
            "\n",
            "Epoch 00056: LearningRateScheduler reducing learning rate to 0.0005.\n",
            "Epoch 56/100\n",
            "1050/1050 [==============================] - 17s 16ms/step - loss: 0.2313 - accuracy: 0.9292 - val_loss: 0.1052 - val_accuracy: 0.9698\n",
            "\n",
            "Epoch 00057: LearningRateScheduler reducing learning rate to 0.0005.\n",
            "Epoch 57/100\n",
            "1050/1050 [==============================] - 17s 16ms/step - loss: 0.2312 - accuracy: 0.9283 - val_loss: 0.1054 - val_accuracy: 0.9698\n",
            "\n",
            "Epoch 00058: LearningRateScheduler reducing learning rate to 0.0005.\n",
            "Epoch 58/100\n",
            "1050/1050 [==============================] - 17s 16ms/step - loss: 0.2206 - accuracy: 0.9321 - val_loss: 0.1059 - val_accuracy: 0.9690\n",
            "\n",
            "Epoch 00059: LearningRateScheduler reducing learning rate to 0.0005.\n",
            "Epoch 59/100\n",
            "1050/1050 [==============================] - 17s 16ms/step - loss: 0.2281 - accuracy: 0.9305 - val_loss: 0.1069 - val_accuracy: 0.9688\n",
            "\n",
            "Epoch 00060: LearningRateScheduler reducing learning rate to 0.0005.\n",
            "Epoch 60/100\n",
            "1050/1050 [==============================] - 17s 16ms/step - loss: 0.2238 - accuracy: 0.9319 - val_loss: 0.1045 - val_accuracy: 0.9704\n",
            "\n",
            "Epoch 00061: LearningRateScheduler reducing learning rate to 0.0005.\n",
            "Epoch 61/100\n",
            "1050/1050 [==============================] - 17s 16ms/step - loss: 0.2201 - accuracy: 0.9328 - val_loss: 0.1031 - val_accuracy: 0.9704\n",
            "\n",
            "Epoch 00062: LearningRateScheduler reducing learning rate to 0.0005.\n",
            "Epoch 62/100\n",
            "1050/1050 [==============================] - 17s 16ms/step - loss: 0.2229 - accuracy: 0.9325 - val_loss: 0.1017 - val_accuracy: 0.9708\n",
            "\n",
            "Epoch 00063: LearningRateScheduler reducing learning rate to 0.0005.\n",
            "Epoch 63/100\n",
            "1050/1050 [==============================] - 17s 16ms/step - loss: 0.2171 - accuracy: 0.9349 - val_loss: 0.1008 - val_accuracy: 0.9712\n",
            "\n",
            "Epoch 00064: LearningRateScheduler reducing learning rate to 0.0005.\n",
            "Epoch 64/100\n",
            "1050/1050 [==============================] - 17s 16ms/step - loss: 0.2137 - accuracy: 0.9347 - val_loss: 0.1003 - val_accuracy: 0.9710\n",
            "\n",
            "Epoch 00065: LearningRateScheduler reducing learning rate to 0.0005.\n",
            "Epoch 65/100\n",
            "1050/1050 [==============================] - 17s 16ms/step - loss: 0.2127 - accuracy: 0.9363 - val_loss: 0.0972 - val_accuracy: 0.9724\n",
            "\n",
            "Epoch 00066: LearningRateScheduler reducing learning rate to 0.0005.\n",
            "Epoch 66/100\n",
            "1050/1050 [==============================] - 17s 16ms/step - loss: 0.2113 - accuracy: 0.9352 - val_loss: 0.0974 - val_accuracy: 0.9711\n",
            "\n",
            "Epoch 00067: LearningRateScheduler reducing learning rate to 0.0005.\n",
            "Epoch 67/100\n",
            "1050/1050 [==============================] - 17s 16ms/step - loss: 0.2186 - accuracy: 0.9321 - val_loss: 0.0990 - val_accuracy: 0.9711\n",
            "\n",
            "Epoch 00068: LearningRateScheduler reducing learning rate to 0.0005.\n",
            "Epoch 68/100\n",
            "1050/1050 [==============================] - 17s 16ms/step - loss: 0.2117 - accuracy: 0.9355 - val_loss: 0.0979 - val_accuracy: 0.9727\n",
            "\n",
            "Epoch 00069: LearningRateScheduler reducing learning rate to 0.0005.\n",
            "Epoch 69/100\n",
            "1050/1050 [==============================] - 21s 20ms/step - loss: 0.2119 - accuracy: 0.9370 - val_loss: 0.0963 - val_accuracy: 0.9726\n",
            "\n",
            "Epoch 00070: LearningRateScheduler reducing learning rate to 0.0005.\n",
            "Epoch 70/100\n",
            "1050/1050 [==============================] - 17s 16ms/step - loss: 0.2124 - accuracy: 0.9340 - val_loss: 0.0943 - val_accuracy: 0.9717\n",
            "\n",
            "Epoch 00071: LearningRateScheduler reducing learning rate to 0.0005.\n",
            "Epoch 71/100\n",
            "1050/1050 [==============================] - 17s 16ms/step - loss: 0.2019 - accuracy: 0.9378 - val_loss: 0.0961 - val_accuracy: 0.9729\n",
            "\n",
            "Epoch 00072: LearningRateScheduler reducing learning rate to 0.0005.\n",
            "Epoch 72/100\n",
            "1050/1050 [==============================] - 17s 16ms/step - loss: 0.2035 - accuracy: 0.9374 - val_loss: 0.0916 - val_accuracy: 0.9733\n",
            "\n",
            "Epoch 00073: LearningRateScheduler reducing learning rate to 0.0005.\n",
            "Epoch 73/100\n",
            "1050/1050 [==============================] - 18s 17ms/step - loss: 0.2044 - accuracy: 0.9371 - val_loss: 0.0933 - val_accuracy: 0.9726\n",
            "\n",
            "Epoch 00074: LearningRateScheduler reducing learning rate to 0.0005.\n",
            "Epoch 74/100\n",
            "1050/1050 [==============================] - 17s 16ms/step - loss: 0.1983 - accuracy: 0.9385 - val_loss: 0.0942 - val_accuracy: 0.9730\n",
            "\n",
            "Epoch 00075: LearningRateScheduler reducing learning rate to 0.0005.\n",
            "Epoch 75/100\n",
            "1050/1050 [==============================] - 17s 16ms/step - loss: 0.1972 - accuracy: 0.9394 - val_loss: 0.0969 - val_accuracy: 0.9725\n",
            "\n",
            "Epoch 00076: LearningRateScheduler reducing learning rate to 0.0005.\n",
            "Epoch 76/100\n",
            "1050/1050 [==============================] - 18s 17ms/step - loss: 0.2015 - accuracy: 0.9375 - val_loss: 0.0956 - val_accuracy: 0.9720\n",
            "\n",
            "Epoch 00077: LearningRateScheduler reducing learning rate to 0.0005.\n",
            "Epoch 77/100\n",
            "1050/1050 [==============================] - 17s 16ms/step - loss: 0.1984 - accuracy: 0.9392 - val_loss: 0.0888 - val_accuracy: 0.9738\n",
            "\n",
            "Epoch 00078: LearningRateScheduler reducing learning rate to 0.0005.\n",
            "Epoch 78/100\n",
            "1050/1050 [==============================] - 17s 16ms/step - loss: 0.1947 - accuracy: 0.9399 - val_loss: 0.0904 - val_accuracy: 0.9731\n",
            "\n",
            "Epoch 00079: LearningRateScheduler reducing learning rate to 0.0005.\n",
            "Epoch 79/100\n",
            "1050/1050 [==============================] - 17s 16ms/step - loss: 0.1975 - accuracy: 0.9394 - val_loss: 0.0889 - val_accuracy: 0.9750\n",
            "\n",
            "Epoch 00080: LearningRateScheduler reducing learning rate to 0.0005.\n",
            "Epoch 80/100\n",
            "1050/1050 [==============================] - 17s 16ms/step - loss: 0.1936 - accuracy: 0.9412 - val_loss: 0.0900 - val_accuracy: 0.9735\n",
            "\n",
            "Epoch 00081: LearningRateScheduler reducing learning rate to 0.0005.\n",
            "Epoch 81/100\n",
            "1050/1050 [==============================] - 17s 16ms/step - loss: 0.1921 - accuracy: 0.9412 - val_loss: 0.0859 - val_accuracy: 0.9752\n",
            "\n",
            "Epoch 00082: LearningRateScheduler reducing learning rate to 0.0005.\n",
            "Epoch 82/100\n",
            "1050/1050 [==============================] - 17s 16ms/step - loss: 0.1896 - accuracy: 0.9422 - val_loss: 0.0859 - val_accuracy: 0.9749\n",
            "\n",
            "Epoch 00083: LearningRateScheduler reducing learning rate to 0.0005.\n",
            "Epoch 83/100\n",
            "1050/1050 [==============================] - 17s 16ms/step - loss: 0.1884 - accuracy: 0.9429 - val_loss: 0.0866 - val_accuracy: 0.9746\n",
            "\n",
            "Epoch 00084: LearningRateScheduler reducing learning rate to 0.0005.\n",
            "Epoch 84/100\n",
            "1050/1050 [==============================] - 17s 16ms/step - loss: 0.1859 - accuracy: 0.9434 - val_loss: 0.0855 - val_accuracy: 0.9757\n",
            "\n",
            "Epoch 00085: LearningRateScheduler reducing learning rate to 0.0005.\n",
            "Epoch 85/100\n",
            "1050/1050 [==============================] - 18s 17ms/step - loss: 0.1833 - accuracy: 0.9422 - val_loss: 0.0872 - val_accuracy: 0.9754\n",
            "\n",
            "Epoch 00086: LearningRateScheduler reducing learning rate to 0.0005.\n",
            "Epoch 86/100\n",
            "1050/1050 [==============================] - 17s 17ms/step - loss: 0.1854 - accuracy: 0.9431 - val_loss: 0.0837 - val_accuracy: 0.9764\n",
            "\n",
            "Epoch 00087: LearningRateScheduler reducing learning rate to 0.0005.\n",
            "Epoch 87/100\n",
            "1050/1050 [==============================] - 17s 16ms/step - loss: 0.1819 - accuracy: 0.9436 - val_loss: 0.0849 - val_accuracy: 0.9758\n",
            "\n",
            "Epoch 00088: LearningRateScheduler reducing learning rate to 0.0005.\n",
            "Epoch 88/100\n",
            "1050/1050 [==============================] - 17s 16ms/step - loss: 0.1818 - accuracy: 0.9451 - val_loss: 0.0856 - val_accuracy: 0.9746\n",
            "\n",
            "Epoch 00089: LearningRateScheduler reducing learning rate to 0.0005.\n",
            "Epoch 89/100\n",
            "1050/1050 [==============================] - 17s 16ms/step - loss: 0.1852 - accuracy: 0.9433 - val_loss: 0.0823 - val_accuracy: 0.9762\n",
            "\n",
            "Epoch 00090: LearningRateScheduler reducing learning rate to 0.0005.\n",
            "Epoch 90/100\n",
            "1050/1050 [==============================] - 17s 16ms/step - loss: 0.1839 - accuracy: 0.9447 - val_loss: 0.0852 - val_accuracy: 0.9765\n",
            "\n",
            "Epoch 00091: LearningRateScheduler reducing learning rate to 0.0005.\n",
            "Epoch 91/100\n",
            "1050/1050 [==============================] - 18s 17ms/step - loss: 0.1781 - accuracy: 0.9455 - val_loss: 0.0821 - val_accuracy: 0.9768\n",
            "\n",
            "Epoch 00092: LearningRateScheduler reducing learning rate to 0.0005.\n",
            "Epoch 92/100\n",
            "1050/1050 [==============================] - 17s 16ms/step - loss: 0.1822 - accuracy: 0.9451 - val_loss: 0.0830 - val_accuracy: 0.9763\n",
            "\n",
            "Epoch 00093: LearningRateScheduler reducing learning rate to 0.0005.\n",
            "Epoch 93/100\n",
            "1050/1050 [==============================] - 17s 16ms/step - loss: 0.1773 - accuracy: 0.9456 - val_loss: 0.0823 - val_accuracy: 0.9765\n",
            "\n",
            "Epoch 00094: LearningRateScheduler reducing learning rate to 0.0005.\n",
            "Epoch 94/100\n",
            "1050/1050 [==============================] - 17s 16ms/step - loss: 0.1785 - accuracy: 0.9455 - val_loss: 0.0827 - val_accuracy: 0.9764\n",
            "\n",
            "Epoch 00095: LearningRateScheduler reducing learning rate to 0.0005.\n",
            "Epoch 95/100\n",
            "1050/1050 [==============================] - 17s 16ms/step - loss: 0.1755 - accuracy: 0.9457 - val_loss: 0.0805 - val_accuracy: 0.9775\n",
            "\n",
            "Epoch 00096: LearningRateScheduler reducing learning rate to 0.0005.\n",
            "Epoch 96/100\n",
            "1050/1050 [==============================] - 17s 16ms/step - loss: 0.1730 - accuracy: 0.9464 - val_loss: 0.0819 - val_accuracy: 0.9760\n",
            "\n",
            "Epoch 00097: LearningRateScheduler reducing learning rate to 0.0005.\n",
            "Epoch 97/100\n",
            "1050/1050 [==============================] - 17s 16ms/step - loss: 0.1734 - accuracy: 0.9472 - val_loss: 0.0828 - val_accuracy: 0.9756\n",
            "\n",
            "Epoch 00098: LearningRateScheduler reducing learning rate to 0.0005.\n",
            "Epoch 98/100\n",
            "1050/1050 [==============================] - 18s 17ms/step - loss: 0.1740 - accuracy: 0.9471 - val_loss: 0.0799 - val_accuracy: 0.9767\n",
            "\n",
            "Epoch 00099: LearningRateScheduler reducing learning rate to 0.0005.\n",
            "Epoch 99/100\n",
            "1050/1050 [==============================] - 17s 16ms/step - loss: 0.1700 - accuracy: 0.9473 - val_loss: 0.0804 - val_accuracy: 0.9769\n",
            "\n",
            "Epoch 00100: LearningRateScheduler reducing learning rate to 0.0005.\n",
            "Epoch 100/100\n",
            "1050/1050 [==============================] - 17s 16ms/step - loss: 0.1681 - accuracy: 0.9478 - val_loss: 0.0792 - val_accuracy: 0.9762\n",
            "\n",
            "263/263 [==============================] - 1s 4ms/step - loss: 0.0792 - accuracy: 0.9762\n",
            "\n"
          ],
          "name": "stdout"
        }
      ]
    },
    {
      "cell_type": "code",
      "metadata": {
        "id": "cnazXPgGRX7k",
        "colab_type": "code",
        "colab": {
          "base_uri": "https://localhost:8080/",
          "height": 35
        },
        "outputId": "f7d7fd15-db5c-4f36-cca2-824742efd0d6"
      },
      "source": [
        "print(history.keys())"
      ],
      "execution_count": 16,
      "outputs": [
        {
          "output_type": "stream",
          "text": [
            "dict_keys(['loss', 'accuracy', 'val_loss', 'val_accuracy', 'lr'])\n"
          ],
          "name": "stdout"
        }
      ]
    },
    {
      "cell_type": "code",
      "metadata": {
        "id": "YLAevu4e1vsX",
        "colab_type": "code",
        "colab": {
          "base_uri": "https://localhost:8080/",
          "height": 280
        },
        "outputId": "86f40291-e3d1-4867-e36b-ddda335c8f53"
      },
      "source": [
        "import matplotlib.pyplot as plt\n",
        "%matplotlib inline\n",
        "\n",
        "# 学習曲線を表示する→どうやって表示させるんだっけ？historyをインスタンス化して列名取得じゃダメなの？\n",
        "fig = plt.figure()\n",
        "ax1 = fig.add_subplot(121)\n",
        "ax1.plot(history['loss'], label='loss')\n",
        "ax1.plot(history['val_loss'], label='val_loss')\n",
        "ax1.set_xlabel('epoch')\n",
        "ax1.set_ylabel('loss')\n",
        "ax1.legend()\n",
        "ax1.grid()\n",
        "\n",
        "ax2 = fig.add_subplot(122)\n",
        "ax2.plot(history['accuracy'], label='accuracy')\n",
        "ax2.plot(history['val_accuracy'], label='val_accuracy')\n",
        "ax2.set_xlabel('epoch')\n",
        "ax2.set_ylabel('accuracy')\n",
        "ax2.legend()\n",
        "ax2.grid()"
      ],
      "execution_count": 17,
      "outputs": [
        {
          "output_type": "display_data",
          "data": {
            "image/png": "[encoded data removed]",
            "text/plain": [
              "<Figure size 432x288 with 2 Axes>"
            ]
          },
          "metadata": {
            "tags": [],
            "needs_background": "light"
          }
        }
      ]
    },
    {
      "cell_type": "code",
      "metadata": {
        "id": "k2uzlaXb2dUR",
        "colab_type": "code",
        "colab": {
          "base_uri": "https://localhost:8080/",
          "height": 251
        },
        "outputId": "42b48fb8-1337-4d3a-ca7f-4cbfa5eae413"
      },
      "source": [
        "# テストデータの予測\n",
        "results = model.predict(test)\n",
        "# カテゴリー分類されたテストデータの最大値のインデックス(右から順に数えて何番目かを返す)\n",
        "results = np.argmax(results,axis = 1)\n",
        "# npの配列のままなので、データフレームの形に直して名前を付ける\n",
        "results = pd.Series(results, name=\"Label\")\n",
        "# 一応できているか確認\n",
        "print(results)\n",
        "print(results.shape)\n",
        "\n",
        "submission = pd.concat([pd.Series(range(1,28001),name = \"ImageId\"),results],axis = 1)\n",
        "submission.to_csv(\"CNN_submission.csv\",index=False)"
      ],
      "execution_count": 18,
      "outputs": [
        {
          "output_type": "stream",
          "text": [
            "0        2\n",
            "1        0\n",
            "2        9\n",
            "3        9\n",
            "4        3\n",
            "        ..\n",
            "27995    9\n",
            "27996    7\n",
            "27997    3\n",
            "27998    9\n",
            "27999    2\n",
            "Name: Label, Length: 28000, dtype: int64\n",
            "(28000,)\n"
          ],
          "name": "stdout"
        }
      ]
    },
    {
      "cell_type": "code",
      "metadata": {
        "id": "fXJtBVjwRjJ1",
        "colab_type": "code",
        "colab": {
          "base_uri": "https://localhost:8080/",
          "height": 287
        },
        "outputId": "76d10c03-c116-47a8-d58b-4483aed4a079"
      },
      "source": [
        "sub_df = pd.read_csv('CNN_submission.csv')\n",
        "print(sub_df.shape)\n",
        "print(sub_df)"
      ],
      "execution_count": 19,
      "outputs": [
        {
          "output_type": "stream",
          "text": [
            "(28000, 2)\n",
            "       ImageId  Label\n",
            "0            1      2\n",
            "1            2      0\n",
            "2            3      9\n",
            "3            4      9\n",
            "4            5      3\n",
            "...        ...    ...\n",
            "27995    27996      9\n",
            "27996    27997      7\n",
            "27997    27998      3\n",
            "27998    27999      9\n",
            "27999    28000      2\n",
            "\n",
            "[28000 rows x 2 columns]\n"
          ],
          "name": "stdout"
        }
      ]
    },
    {
      "cell_type": "code",
      "metadata": {
        "id": "tL8J1vNonz8U",
        "colab_type": "code",
        "colab": {}
      },
      "source": [
        ""
      ],
      "execution_count": 19,
      "outputs": []
    }
  ]
}