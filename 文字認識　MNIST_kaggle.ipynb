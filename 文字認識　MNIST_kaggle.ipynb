{
  "nbformat": 4,
  "nbformat_minor": 0,
  "metadata": {
    "colab": {
      "name": "文字認識　MNIST kaggle",
      "provenance": [],
      "collapsed_sections": [],
      "authorship_tag": "ABX9TyP5umNmrIGQpMx9rfq+qZD2",
      "include_colab_link": true
    },
    "kernelspec": {
      "name": "python3",
      "display_name": "Python 3"
    },
    "accelerator": "GPU"
  },
  "cells": [
    {
      "cell_type": "markdown",
      "metadata": {
        "id": "view-in-github",
        "colab_type": "text"
      },
      "source": [
        "<a href=\"https://colab.research.google.com/github/furusawa-ryoji/MNIST/blob/develop/%E6%96%87%E5%AD%97%E8%AA%8D%E8%AD%98%E3%80%80MNIST_kaggle.ipynb\" target=\"_parent\"><img src=\"https://colab.research.google.com/assets/colab-badge.svg\" alt=\"Open In Colab\"/></a>"
      ]
    },
    {
      "cell_type": "markdown",
      "metadata": {
        "id": "vjdJaicQqmS3",
        "colab_type": "text"
      },
      "source": [
        "# kaggleの評価\n",
        "データセットは1枚の画像のピクセルが784(28*28)列で表現されている(0,1で白黒判定かどうかはまだ調べていないがおそらくそう)\n",
        "\n",
        "提出方法はIdとテストデータを予測した手書き文字の2列のCSVファイル\n",
        "\n",
        "評価方法はどれだけ予想した手書き文字が合っているかで判定(97%正答なら0.97と表示)\n",
        "一番いいのは1.00"
      ]
    },
    {
      "cell_type": "code",
      "metadata": {
        "id": "E4LhyGFVvGcJ",
        "colab_type": "code",
        "colab": {
          "base_uri": "https://localhost:8080/",
          "height": 89
        },
        "outputId": "d9529ab6-b211-41b6-a31d-c9da568cc05a"
      },
      "source": [
        "# ZIPファイル解凍\n",
        "!unzip digit*"
      ],
      "execution_count": 1,
      "outputs": [
        {
          "output_type": "stream",
          "text": [
            "Archive:  digit-recognizer.zip\n",
            "  inflating: sample_submission.csv   \n",
            "  inflating: test.csv                \n",
            "  inflating: train.csv               \n"
          ],
          "name": "stdout"
        }
      ]
    },
    {
      "cell_type": "code",
      "metadata": {
        "id": "ySvKYqff3obK",
        "colab_type": "code",
        "colab": {
          "base_uri": "https://localhost:8080/",
          "height": 53
        },
        "outputId": "09bbc3d5-7cd0-48bc-ef77-9d30ca6ecfa4"
      },
      "source": [
        "import pandas as pd\n",
        "import numpy as np\n",
        "\n",
        "# データの読み込み\n",
        "train_df = pd.read_csv('train.csv')\n",
        "test_df = pd.read_csv('test.csv')\n",
        "print(train_df.shape)\n",
        "print(test_df.shape)"
      ],
      "execution_count": 2,
      "outputs": [
        {
          "output_type": "stream",
          "text": [
            "(42000, 785)\n",
            "(28000, 784)\n"
          ],
          "name": "stdout"
        }
      ]
    },
    {
      "cell_type": "code",
      "metadata": {
        "id": "FY83NCAjBPaC",
        "colab_type": "code",
        "colab": {
          "base_uri": "https://localhost:8080/",
          "height": 269
        },
        "outputId": "f7f60c7e-22ed-4759-e24d-1ea3754f3b8e"
      },
      "source": [
        "# データの確認\n",
        "train_df.info"
      ],
      "execution_count": 3,
      "outputs": [
        {
          "output_type": "execute_result",
          "data": {
            "text/plain": [
              "<bound method DataFrame.info of        label  pixel0  pixel1  pixel2  ...  pixel780  pixel781  pixel782  pixel783\n",
              "0          1       0       0       0  ...         0         0         0         0\n",
              "1          0       0       0       0  ...         0         0         0         0\n",
              "2          1       0       0       0  ...         0         0         0         0\n",
              "3          4       0       0       0  ...         0         0         0         0\n",
              "4          0       0       0       0  ...         0         0         0         0\n",
              "...      ...     ...     ...     ...  ...       ...       ...       ...       ...\n",
              "41995      0       0       0       0  ...         0         0         0         0\n",
              "41996      1       0       0       0  ...         0         0         0         0\n",
              "41997      7       0       0       0  ...         0         0         0         0\n",
              "41998      6       0       0       0  ...         0         0         0         0\n",
              "41999      9       0       0       0  ...         0         0         0         0\n",
              "\n",
              "[42000 rows x 785 columns]>"
            ]
          },
          "metadata": {
            "tags": []
          },
          "execution_count": 3
        }
      ]
    },
    {
      "cell_type": "code",
      "metadata": {
        "id": "jH_Iq6OQBgLa",
        "colab_type": "code",
        "colab": {
          "base_uri": "https://localhost:8080/",
          "height": 269
        },
        "outputId": "a8189e31-9e59-4ddd-da59-d8f0177edfd7"
      },
      "source": [
        "# データフレームを配列に出来ているか確認\n",
        "train_data = np.array(train_df)\n",
        "test = np.array(test_df)\n",
        "print(train_data)\n",
        "print(test)"
      ],
      "execution_count": 4,
      "outputs": [
        {
          "output_type": "stream",
          "text": [
            "[[1 0 0 ... 0 0 0]\n",
            " [0 0 0 ... 0 0 0]\n",
            " [1 0 0 ... 0 0 0]\n",
            " ...\n",
            " [7 0 0 ... 0 0 0]\n",
            " [6 0 0 ... 0 0 0]\n",
            " [9 0 0 ... 0 0 0]]\n",
            "[[0 0 0 ... 0 0 0]\n",
            " [0 0 0 ... 0 0 0]\n",
            " [0 0 0 ... 0 0 0]\n",
            " ...\n",
            " [0 0 0 ... 0 0 0]\n",
            " [0 0 0 ... 0 0 0]\n",
            " [0 0 0 ... 0 0 0]]\n"
          ],
          "name": "stdout"
        }
      ]
    },
    {
      "cell_type": "code",
      "metadata": {
        "id": "1LiJx_nUCl99",
        "colab_type": "code",
        "colab": {
          "base_uri": "https://localhost:8080/",
          "height": 143
        },
        "outputId": "1c3cb1ac-6117-4284-ca8d-6102d425c3db"
      },
      "source": [
        "# ラベルと目的変数の定義\n",
        "label = train_data[:, 0]\n",
        "train = train_data[:,1:]\n",
        "print(train)"
      ],
      "execution_count": 5,
      "outputs": [
        {
          "output_type": "stream",
          "text": [
            "[[0 0 0 ... 0 0 0]\n",
            " [0 0 0 ... 0 0 0]\n",
            " [0 0 0 ... 0 0 0]\n",
            " ...\n",
            " [0 0 0 ... 0 0 0]\n",
            " [0 0 0 ... 0 0 0]\n",
            " [0 0 0 ... 0 0 0]]\n"
          ],
          "name": "stdout"
        }
      ]
    },
    {
      "cell_type": "code",
      "metadata": {
        "id": "7pb6o0wbazqj",
        "colab_type": "code",
        "colab": {}
      },
      "source": [
        "# 画像は1行→28*28にreshapeする必要がある\n",
        "train = train.reshape(len(train), 28, 28, 1)\n",
        "test = test.reshape(len(test), 28, 28, 1)\n",
        "X_train = train\n",
        "X_test = test\n",
        "# print(train)\n",
        "# print(test)\n",
        "# print(train.shape)\n",
        "# print(test.shape)"
      ],
      "execution_count": 6,
      "outputs": []
    },
    {
      "cell_type": "code",
      "metadata": {
        "id": "C5qWYUxvCyTS",
        "colab_type": "code",
        "colab": {}
      },
      "source": [
        "from sklearn.model_selection import KFold\n",
        "from sklearn.model_selection import train_test_split\n",
        "\n",
        "# クロスバリデーション(トレーニングデータを5つに分割)\n",
        "kf = KFold(n_splits=5, shuffle=True)\n",
        "\n",
        "# 多クラス分類のときにクラスのラベルをそのまま推論させない\n",
        "# One-Hot表現に変換し、各クラスに分類される確率を出す。\n",
        "# 0～9の数字のラベルに分類する？\n",
        "from keras.utils import to_categorical\n",
        "y_train = to_categorical(label, 10)\n",
        "\n",
        "for train_index, eval_index in kf.split(X_train):\n",
        "    X_tra, X_eval = X_train[train_index], X_train[eval_index]\n",
        "    y_tra, y_eval = y_train[train_index], y_train[eval_index]\n",
        "\n",
        "# データを正規化\n",
        "x_tra = X_tra / 255\n",
        "x_eval = X_eval / 255"
      ],
      "execution_count": 7,
      "outputs": []
    },
    {
      "cell_type": "code",
      "metadata": {
        "id": "UkECkMDS4Fcf",
        "colab_type": "code",
        "colab": {
          "base_uri": "https://localhost:8080/",
          "height": 35
        },
        "outputId": "0218522b-51b5-4368-efa7-16d2db0e0a78"
      },
      "source": [
        "x_tra.shape"
      ],
      "execution_count": 8,
      "outputs": [
        {
          "output_type": "execute_result",
          "data": {
            "text/plain": [
              "(33600, 28, 28, 1)"
            ]
          },
          "metadata": {
            "tags": []
          },
          "execution_count": 8
        }
      ]
    },
    {
      "cell_type": "code",
      "metadata": {
        "id": "1aQwlxquhrl5",
        "colab_type": "code",
        "colab": {
          "base_uri": "https://localhost:8080/",
          "height": 161
        },
        "outputId": "3f796817-0ccc-465b-969b-a5605c5a4b9b"
      },
      "source": [
        "print(y_train)\n",
        "print(y_train.shape)"
      ],
      "execution_count": 9,
      "outputs": [
        {
          "output_type": "stream",
          "text": [
            "[[0. 1. 0. ... 0. 0. 0.]\n",
            " [1. 0. 0. ... 0. 0. 0.]\n",
            " [0. 1. 0. ... 0. 0. 0.]\n",
            " ...\n",
            " [0. 0. 0. ... 1. 0. 0.]\n",
            " [0. 0. 0. ... 0. 0. 0.]\n",
            " [0. 0. 0. ... 0. 0. 1.]]\n",
            "(42000, 10)\n"
          ],
          "name": "stdout"
        }
      ]
    },
    {
      "cell_type": "code",
      "metadata": {
        "id": "FrYqQTbXE2eH",
        "colab_type": "code",
        "colab": {}
      },
      "source": [
        "import matplotlib.pyplot as plt\n",
        "%matplotlib inline\n",
        "# 画像の表示:imshow(行)→28*28にすればいいのではないか？\n",
        "# plt.imshow(train[300])"
      ],
      "execution_count": 10,
      "outputs": []
    },
    {
      "cell_type": "code",
      "metadata": {
        "id": "Gnwh2KbxFG9s",
        "colab_type": "code",
        "colab": {}
      },
      "source": [
        "# 必要なライブラリをインポート\n",
        "from keras.models import Sequential\n",
        "from keras.layers import Dense, Dropout, Flatten\n",
        "from keras.layers import Conv2D, MaxPooling2D\n",
        "from keras.optimizers import SGD\n",
        "from keras.datasets import mnist\n",
        "from keras import backend as K\n",
        "from keras.preprocessing.image import ImageDataGenerator\n",
        "from keras.callbacks import LearningRateScheduler"
      ],
      "execution_count": 11,
      "outputs": []
    },
    {
      "cell_type": "code",
      "metadata": {
        "id": "GOJIcZ6_V-Nv",
        "colab_type": "code",
        "colab": {
          "base_uri": "https://localhost:8080/",
          "height": 449
        },
        "outputId": "c439686f-91e8-4e7b-c3fd-7ec967c490bd"
      },
      "source": [
        "nets = 3\n",
        "model = [0] *nets\n",
        "for j in range(nets):\n",
        "    # モデルを作成：精度を上げるためにはここが一番重要\n",
        "    # アンサンブルで2つのモデルを作成\n",
        "    model[j] = Sequential()\n",
        "    model[j].add(Conv2D(32, kernel_size=(3, 3),\n",
        "                    activation='relu',\n",
        "                    input_shape=(28, 28, 1)))\n",
        "    model[j].add(MaxPooling2D(pool_size=(2, 2)))\n",
        "\n",
        "    model[j].add(Conv2D(64, (3, 3), activation='relu'))\n",
        "    model[j].add(MaxPooling2D(pool_size=(2, 2)))\n",
        "    model[j].add(Dropout(0.25))\n",
        "\n",
        "    model[j].add(Flatten())\n",
        "    model[j].add(Dense(512, activation='relu'))\n",
        "    model[j].add(Dense(10, activation='softmax'))\n",
        "\n",
        "    # 学習のためのモデルを設定\n",
        "    model[j].compile(loss='categorical_crossentropy',\n",
        "                  optimizer=SGD(lr=0.002),\n",
        "                  metrics=['accuracy'])\n",
        "model[1].summary()"
      ],
      "execution_count": 12,
      "outputs": [
        {
          "output_type": "stream",
          "text": [
            "Model: \"sequential_1\"\n",
            "_________________________________________________________________\n",
            "Layer (type)                 Output Shape              Param #   \n",
            "=================================================================\n",
            "conv2d_2 (Conv2D)            (None, 26, 26, 32)        320       \n",
            "_________________________________________________________________\n",
            "max_pooling2d_2 (MaxPooling2 (None, 13, 13, 32)        0         \n",
            "_________________________________________________________________\n",
            "conv2d_3 (Conv2D)            (None, 11, 11, 64)        18496     \n",
            "_________________________________________________________________\n",
            "max_pooling2d_3 (MaxPooling2 (None, 5, 5, 64)          0         \n",
            "_________________________________________________________________\n",
            "dropout_1 (Dropout)          (None, 5, 5, 64)          0         \n",
            "_________________________________________________________________\n",
            "flatten_1 (Flatten)          (None, 1600)              0         \n",
            "_________________________________________________________________\n",
            "dense_2 (Dense)              (None, 512)               819712    \n",
            "_________________________________________________________________\n",
            "dense_3 (Dense)              (None, 10)                5130      \n",
            "=================================================================\n",
            "Total params: 843,658\n",
            "Trainable params: 843,658\n",
            "Non-trainable params: 0\n",
            "_________________________________________________________________\n"
          ],
          "name": "stdout"
        }
      ]
    },
    {
      "cell_type": "code",
      "metadata": {
        "id": "oAGAiqOHIQ_a",
        "colab_type": "code",
        "colab": {}
      },
      "source": [
        "# # モデルを作成：精度を上げるためにはここが一番重要\n",
        "# # アンサンブルで2つのモデルを作成\n",
        "# model = Sequential()\n",
        "# model.add(Conv2D(32, kernel_size=(3, 3),\n",
        "#                  activation='relu',\n",
        "#                  input_shape=(28, 28, 1)))\n",
        "# model.add(MaxPooling2D(pool_size=(2, 2)))\n",
        "\n",
        "# model.add(Conv2D(64, (3, 3), activation='relu'))\n",
        "# model.add(MaxPooling2D(pool_size=(2, 2)))\n",
        "# model.add(Dropout(0.25))\n",
        "\n",
        "# model.add(Flatten())\n",
        "# model.add(Dense(512, activation='relu'))\n",
        "# model.add(Dense(10, activation='softmax'))\n",
        "\n",
        "# # 学習のためのモデルを設定\n",
        "# model.compile(loss='categorical_crossentropy',\n",
        "#               optimizer=SGD(lr=0.002),\n",
        "#               metrics=['accuracy'])\n",
        "# model.summary()"
      ],
      "execution_count": 13,
      "outputs": []
    },
    {
      "cell_type": "code",
      "metadata": {
        "id": "RI5wu9tctG2a",
        "colab_type": "code",
        "colab": {}
      },
      "source": [
        "# データ拡張により画像をさらに作成\n",
        "datagen = ImageDataGenerator(\n",
        "        # rotation_range: 整数．画像をランダムに回転する回転範囲．\n",
        "        rotation_range=10,  \n",
        "        # zoom_range: 浮動小数点数または[lower，upper]．ランダムにズームする範囲．浮動小数点数が与えられた場合，[lower, upper] = [1-zoom_range, 1+zoom_range]\n",
        "        zoom_range = 0.10,  \n",
        "        # width_shift_range: 浮動小数点数（横幅に対する割合）．ランダムに水平シフトする範囲．\n",
        "        width_shift_range=0.1, \n",
        "        # height_shift_range: 浮動小数点数（縦幅に対する割合）．ランダムに垂直シフトする範囲．\n",
        "        height_shift_range=0.1)"
      ],
      "execution_count": 14,
      "outputs": []
    },
    {
      "cell_type": "code",
      "metadata": {
        "id": "IzwekmpktMkS",
        "colab_type": "code",
        "colab": {}
      },
      "source": [
        "# 画像データをImageDataGeneratorに食わせることで画像の水増し\n",
        "datagen.fit(x_tra)"
      ],
      "execution_count": 15,
      "outputs": []
    },
    {
      "cell_type": "code",
      "metadata": {
        "id": "KwDuVLL2fncC",
        "colab_type": "code",
        "colab": {}
      },
      "source": [
        "# 学習率を返す関数を用意する\n",
        "def lr_schedul(epoch):\n",
        "    x = 0.002\n",
        "    if epoch >= 10:\n",
        "        x = 0.001\n",
        "    if epoch >= 30:\n",
        "        x = 0.0005\n",
        "    return x\n",
        "\n",
        "\n",
        "lr_decay = LearningRateScheduler(\n",
        "    lr_schedul,\n",
        "    # verbose=1で、更新メッセージ表示。0の場合は表示しない\n",
        "    verbose=1,\n",
        ")"
      ],
      "execution_count": 16,
      "outputs": []
    },
    {
      "cell_type": "code",
      "metadata": {
        "id": "FGx_vz4ez6PX",
        "colab_type": "code",
        "colab": {
          "base_uri": "https://localhost:8080/",
          "height": 1000
        },
        "outputId": "11f0142a-107e-4ea1-8d1e-1567aeb89a3e"
      },
      "source": [
        "# 学習\n",
        "result = [0] * nets\n",
        "for j in range(nets):\n",
        "  result[j] = model[j].fit_generator(datagen.flow(x_tra, y_tra),\n",
        "            epochs=10,\n",
        "            validation_data=(x_eval, y_eval),\n",
        "            callbacks=[lr_decay]\n",
        "            )\n",
        "  # 精度を検証\n",
        "  model[j].evaluate(x_eval, y_eval)\n",
        "  print('')\n",
        "\n",
        "# 学習状況のログを表示\n",
        "# history = result.history\n",
        "# vars(model.history)['history']"
      ],
      "execution_count": 18,
      "outputs": [
        {
          "output_type": "stream",
          "text": [
            "\n",
            "Epoch 00001: LearningRateScheduler reducing learning rate to 0.002.\n",
            "Epoch 1/10\n",
            "1050/1050 [==============================] - 16s 16ms/step - loss: 0.2063 - accuracy: 0.9374 - val_loss: 0.0850 - val_accuracy: 0.9767\n",
            "\n",
            "Epoch 00002: LearningRateScheduler reducing learning rate to 0.002.\n",
            "Epoch 2/10\n",
            "1050/1050 [==============================] - 16s 16ms/step - loss: 0.1954 - accuracy: 0.9401 - val_loss: 0.0812 - val_accuracy: 0.9779\n",
            "\n",
            "Epoch 00003: LearningRateScheduler reducing learning rate to 0.002.\n",
            "Epoch 3/10\n",
            "1050/1050 [==============================] - 16s 16ms/step - loss: 0.1978 - accuracy: 0.9396 - val_loss: 0.0846 - val_accuracy: 0.9764\n",
            "\n",
            "Epoch 00004: LearningRateScheduler reducing learning rate to 0.002.\n",
            "Epoch 4/10\n",
            "1050/1050 [==============================] - 16s 16ms/step - loss: 0.1910 - accuracy: 0.9420 - val_loss: 0.0806 - val_accuracy: 0.9785\n",
            "\n",
            "Epoch 00005: LearningRateScheduler reducing learning rate to 0.002.\n",
            "Epoch 5/10\n",
            "1050/1050 [==============================] - 16s 16ms/step - loss: 0.1911 - accuracy: 0.9415 - val_loss: 0.0784 - val_accuracy: 0.9781\n",
            "\n",
            "Epoch 00006: LearningRateScheduler reducing learning rate to 0.002.\n",
            "Epoch 6/10\n",
            "1050/1050 [==============================] - 16s 16ms/step - loss: 0.1866 - accuracy: 0.9426 - val_loss: 0.0775 - val_accuracy: 0.9782\n",
            "\n",
            "Epoch 00007: LearningRateScheduler reducing learning rate to 0.002.\n",
            "Epoch 7/10\n",
            "1050/1050 [==============================] - 16s 15ms/step - loss: 0.1782 - accuracy: 0.9446 - val_loss: 0.0758 - val_accuracy: 0.9785\n",
            "\n",
            "Epoch 00008: LearningRateScheduler reducing learning rate to 0.002.\n",
            "Epoch 8/10\n",
            "1050/1050 [==============================] - 16s 16ms/step - loss: 0.1795 - accuracy: 0.9457 - val_loss: 0.0719 - val_accuracy: 0.9799\n",
            "\n",
            "Epoch 00009: LearningRateScheduler reducing learning rate to 0.002.\n",
            "Epoch 9/10\n",
            "1050/1050 [==============================] - 16s 15ms/step - loss: 0.1773 - accuracy: 0.9460 - val_loss: 0.0772 - val_accuracy: 0.9782\n",
            "\n",
            "Epoch 00010: LearningRateScheduler reducing learning rate to 0.002.\n",
            "Epoch 10/10\n",
            "1050/1050 [==============================] - 17s 16ms/step - loss: 0.1668 - accuracy: 0.9482 - val_loss: 0.0745 - val_accuracy: 0.9794\n",
            "263/263 [==============================] - 1s 4ms/step - loss: 0.0745 - accuracy: 0.9794\n",
            "\n",
            "\n",
            "Epoch 00001: LearningRateScheduler reducing learning rate to 0.002.\n",
            "Epoch 1/10\n",
            "1050/1050 [==============================] - 17s 16ms/step - loss: 0.2106 - accuracy: 0.9351 - val_loss: 0.0869 - val_accuracy: 0.9750\n",
            "\n",
            "Epoch 00002: LearningRateScheduler reducing learning rate to 0.002.\n",
            "Epoch 2/10\n",
            "1050/1050 [==============================] - 16s 16ms/step - loss: 0.2017 - accuracy: 0.9377 - val_loss: 0.0846 - val_accuracy: 0.9764\n",
            "\n",
            "Epoch 00003: LearningRateScheduler reducing learning rate to 0.002.\n",
            "Epoch 3/10\n",
            "1050/1050 [==============================] - 16s 16ms/step - loss: 0.1957 - accuracy: 0.9398 - val_loss: 0.0806 - val_accuracy: 0.9757\n",
            "\n",
            "Epoch 00004: LearningRateScheduler reducing learning rate to 0.002.\n",
            "Epoch 4/10\n",
            "1050/1050 [==============================] - 16s 16ms/step - loss: 0.1915 - accuracy: 0.9414 - val_loss: 0.0774 - val_accuracy: 0.9783\n",
            "\n",
            "Epoch 00005: LearningRateScheduler reducing learning rate to 0.002.\n",
            "Epoch 5/10\n",
            "1050/1050 [==============================] - 16s 16ms/step - loss: 0.1895 - accuracy: 0.9423 - val_loss: 0.0814 - val_accuracy: 0.9767\n",
            "\n",
            "Epoch 00006: LearningRateScheduler reducing learning rate to 0.002.\n",
            "Epoch 6/10\n",
            "1050/1050 [==============================] - 16s 15ms/step - loss: 0.1845 - accuracy: 0.9432 - val_loss: 0.0732 - val_accuracy: 0.9802\n",
            "\n",
            "Epoch 00007: LearningRateScheduler reducing learning rate to 0.002.\n",
            "Epoch 7/10\n",
            "1050/1050 [==============================] - 16s 15ms/step - loss: 0.1820 - accuracy: 0.9441 - val_loss: 0.0710 - val_accuracy: 0.9796\n",
            "\n",
            "Epoch 00008: LearningRateScheduler reducing learning rate to 0.002.\n",
            "Epoch 8/10\n",
            "1050/1050 [==============================] - 16s 16ms/step - loss: 0.1778 - accuracy: 0.9449 - val_loss: 0.0752 - val_accuracy: 0.9786\n",
            "\n",
            "Epoch 00009: LearningRateScheduler reducing learning rate to 0.002.\n",
            "Epoch 9/10\n",
            "1050/1050 [==============================] - 16s 16ms/step - loss: 0.1758 - accuracy: 0.9471 - val_loss: 0.0731 - val_accuracy: 0.9794\n",
            "\n",
            "Epoch 00010: LearningRateScheduler reducing learning rate to 0.002.\n",
            "Epoch 10/10\n",
            "1050/1050 [==============================] - 16s 16ms/step - loss: 0.1759 - accuracy: 0.9465 - val_loss: 0.0699 - val_accuracy: 0.9806\n",
            "263/263 [==============================] - 1s 4ms/step - loss: 0.0699 - accuracy: 0.9806\n",
            "\n",
            "\n",
            "Epoch 00001: LearningRateScheduler reducing learning rate to 0.002.\n",
            "Epoch 1/10\n",
            "1050/1050 [==============================] - 16s 15ms/step - loss: 0.2124 - accuracy: 0.9344 - val_loss: 0.0882 - val_accuracy: 0.9745\n",
            "\n",
            "Epoch 00002: LearningRateScheduler reducing learning rate to 0.002.\n",
            "Epoch 2/10\n",
            "1050/1050 [==============================] - 16s 16ms/step - loss: 0.2012 - accuracy: 0.9385 - val_loss: 0.0833 - val_accuracy: 0.9769\n",
            "\n",
            "Epoch 00003: LearningRateScheduler reducing learning rate to 0.002.\n",
            "Epoch 3/10\n",
            "1050/1050 [==============================] - 16s 16ms/step - loss: 0.1973 - accuracy: 0.9387 - val_loss: 0.0787 - val_accuracy: 0.9786\n",
            "\n",
            "Epoch 00004: LearningRateScheduler reducing learning rate to 0.002.\n",
            "Epoch 4/10\n",
            "1050/1050 [==============================] - 16s 16ms/step - loss: 0.1926 - accuracy: 0.9418 - val_loss: 0.0757 - val_accuracy: 0.9793\n",
            "\n",
            "Epoch 00005: LearningRateScheduler reducing learning rate to 0.002.\n",
            "Epoch 5/10\n",
            "1050/1050 [==============================] - 16s 16ms/step - loss: 0.1927 - accuracy: 0.9402 - val_loss: 0.0773 - val_accuracy: 0.9776\n",
            "\n",
            "Epoch 00006: LearningRateScheduler reducing learning rate to 0.002.\n",
            "Epoch 6/10\n",
            "1050/1050 [==============================] - 16s 16ms/step - loss: 0.1846 - accuracy: 0.9443 - val_loss: 0.0739 - val_accuracy: 0.9805\n",
            "\n",
            "Epoch 00007: LearningRateScheduler reducing learning rate to 0.002.\n",
            "Epoch 7/10\n",
            "1050/1050 [==============================] - 16s 16ms/step - loss: 0.1794 - accuracy: 0.9429 - val_loss: 0.0699 - val_accuracy: 0.9811\n",
            "\n",
            "Epoch 00008: LearningRateScheduler reducing learning rate to 0.002.\n",
            "Epoch 8/10\n",
            "1050/1050 [==============================] - 16s 16ms/step - loss: 0.1793 - accuracy: 0.9443 - val_loss: 0.0730 - val_accuracy: 0.9796\n",
            "\n",
            "Epoch 00009: LearningRateScheduler reducing learning rate to 0.002.\n",
            "Epoch 9/10\n",
            "1050/1050 [==============================] - 17s 16ms/step - loss: 0.1716 - accuracy: 0.9478 - val_loss: 0.0688 - val_accuracy: 0.9806\n",
            "\n",
            "Epoch 00010: LearningRateScheduler reducing learning rate to 0.002.\n",
            "Epoch 10/10\n",
            "1050/1050 [==============================] - 16s 16ms/step - loss: 0.1673 - accuracy: 0.9482 - val_loss: 0.0680 - val_accuracy: 0.9819\n",
            "263/263 [==============================] - 1s 4ms/step - loss: 0.0680 - accuracy: 0.9819\n",
            "\n"
          ],
          "name": "stdout"
        }
      ]
    },
    {
      "cell_type": "code",
      "metadata": {
        "id": "cnazXPgGRX7k",
        "colab_type": "code",
        "colab": {}
      },
      "source": [
        "# print(history.keys())"
      ],
      "execution_count": null,
      "outputs": []
    },
    {
      "cell_type": "code",
      "metadata": {
        "id": "YLAevu4e1vsX",
        "colab_type": "code",
        "colab": {}
      },
      "source": [
        "# import matplotlib.pyplot as plt\n",
        "# %matplotlib inline\n",
        "\n",
        "# # 学習曲線を表示する→どうやって表示させるんだっけ？historyをインスタンス化して列名取得じゃダメなの？\n",
        "# fig = plt.figure()\n",
        "# ax1 = fig.add_subplot(121)\n",
        "# ax1.plot(history['loss'], label='loss')\n",
        "# ax1.plot(history['val_loss'], label='val_loss')\n",
        "# ax1.set_xlabel('epoch')\n",
        "# ax1.set_ylabel('loss')\n",
        "# ax1.legend()\n",
        "# ax1.grid()\n",
        "\n",
        "# ax2 = fig.add_subplot(122)\n",
        "# ax2.plot(history['accuracy'], label='accuracy')\n",
        "# ax2.plot(history['val_accuracy'], label='val_accuracy')\n",
        "# ax2.set_xlabel('epoch')\n",
        "# ax2.set_ylabel('accuracy')\n",
        "# ax2.legend()\n",
        "# ax2.grid()"
      ],
      "execution_count": null,
      "outputs": []
    },
    {
      "cell_type": "code",
      "metadata": {
        "id": "k2uzlaXb2dUR",
        "colab_type": "code",
        "colab": {
          "base_uri": "https://localhost:8080/",
          "height": 251
        },
        "outputId": "dd588506-a36c-46d4-8ae3-7d6f7baa8fe4"
      },
      "source": [
        "# テストデータの予測\n",
        "results = np.zeros((test.shape[0],10)) \n",
        "for j in range(nets):\n",
        "    results = results + model[j].predict(test)\n",
        "# カテゴリー分類されたテストデータの最大値のインデックス(右から順に数えて何番目かを返す)\n",
        "results = np.argmax(results,axis = 1)\n",
        "# npの配列のままなので、データフレームの形に直して名前を付ける\n",
        "results = pd.Series(results, name=\"Label\")\n",
        "# 一応できているか確認\n",
        "print(results)\n",
        "print(results.shape)\n",
        "\n",
        "submission = pd.concat([pd.Series(range(1,28001),name = \"ImageId\"),results],axis = 1)\n",
        "submission.to_csv(\"CNN_submission.csv\",index=False)"
      ],
      "execution_count": 19,
      "outputs": [
        {
          "output_type": "stream",
          "text": [
            "0        2\n",
            "1        0\n",
            "2        9\n",
            "3        9\n",
            "4        3\n",
            "        ..\n",
            "27995    9\n",
            "27996    7\n",
            "27997    3\n",
            "27998    9\n",
            "27999    2\n",
            "Name: Label, Length: 28000, dtype: int64\n",
            "(28000,)\n"
          ],
          "name": "stdout"
        }
      ]
    },
    {
      "cell_type": "code",
      "metadata": {
        "id": "fXJtBVjwRjJ1",
        "colab_type": "code",
        "colab": {
          "base_uri": "https://localhost:8080/",
          "height": 287
        },
        "outputId": "d77293be-9e4e-4388-d871-5fac5a74b5a3"
      },
      "source": [
        "sub_df = pd.read_csv('CNN_submission.csv')\n",
        "print(sub_df.shape)\n",
        "print(sub_df)"
      ],
      "execution_count": 20,
      "outputs": [
        {
          "output_type": "stream",
          "text": [
            "(28000, 2)\n",
            "       ImageId  Label\n",
            "0            1      2\n",
            "1            2      0\n",
            "2            3      9\n",
            "3            4      9\n",
            "4            5      3\n",
            "...        ...    ...\n",
            "27995    27996      9\n",
            "27996    27997      7\n",
            "27997    27998      3\n",
            "27998    27999      9\n",
            "27999    28000      2\n",
            "\n",
            "[28000 rows x 2 columns]\n"
          ],
          "name": "stdout"
        }
      ]
    },
    {
      "cell_type": "code",
      "metadata": {
        "id": "tL8J1vNonz8U",
        "colab_type": "code",
        "colab": {}
      },
      "source": [
        ""
      ],
      "execution_count": null,
      "outputs": []
    }
  ]
}