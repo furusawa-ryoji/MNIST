{
  "nbformat": 4,
  "nbformat_minor": 0,
  "metadata": {
    "colab": {
      "name": "文字認識　MNIST kaggle",
      "provenance": [],
      "collapsed_sections": [],
      "authorship_tag": "ABX9TyPkeRNAvcjykA4Fx3xbJ8ye",
      "include_colab_link": true
    },
    "kernelspec": {
      "name": "python3",
      "display_name": "Python 3"
    },
    "accelerator": "GPU"
  },
  "cells": [
    {
      "cell_type": "markdown",
      "metadata": {
        "id": "view-in-github",
        "colab_type": "text"
      },
      "source": [
        "<a href=\"https://colab.research.google.com/github/furusawa-ryoji/MNIST/blob/develop/%E6%96%87%E5%AD%97%E8%AA%8D%E8%AD%98%E3%80%80MNIST_kaggle.ipynb\" target=\"_parent\"><img src=\"https://colab.research.google.com/assets/colab-badge.svg\" alt=\"Open In Colab\"/></a>"
      ]
    },
    {
      "cell_type": "markdown",
      "metadata": {
        "id": "vjdJaicQqmS3",
        "colab_type": "text"
      },
      "source": [
        "# kaggleの評価\n",
        "データセットは1枚の画像のピクセルが784(28*28)列で表現されている(0,1で白黒判定かどうかはまだ調べていないがおそらくそう)\n",
        "\n",
        "提出方法はIdとテストデータを予測した手書き文字の2列のCSVファイル\n",
        "\n",
        "評価方法はどれだけ予想した手書き文字が合っているかで判定(97%正答なら0.97と表示)\n",
        "一番いいのは1.00"
      ]
    },
    {
      "cell_type": "code",
      "metadata": {
        "id": "E4LhyGFVvGcJ",
        "colab_type": "code",
        "colab": {
          "base_uri": "https://localhost:8080/",
          "height": 85
        },
        "outputId": "cb6f18f9-f965-4d79-b839-6c79067ca597"
      },
      "source": [
        "# ZIPファイル解凍\n",
        "!unzip digit*"
      ],
      "execution_count": 1,
      "outputs": [
        {
          "output_type": "stream",
          "text": [
            "Archive:  digit-recognizer.zip\n",
            "  inflating: sample_submission.csv   \n",
            "  inflating: test.csv                \n",
            "  inflating: train.csv               \n"
          ],
          "name": "stdout"
        }
      ]
    },
    {
      "cell_type": "code",
      "metadata": {
        "id": "ySvKYqff3obK",
        "colab_type": "code",
        "colab": {
          "base_uri": "https://localhost:8080/",
          "height": 51
        },
        "outputId": "20e37860-df13-4971-96ed-8216d0e7894f"
      },
      "source": [
        "import pandas as pd\n",
        "import numpy as np\n",
        "\n",
        "# データの読み込み\n",
        "train_df = pd.read_csv('train.csv')\n",
        "test_df = pd.read_csv('test.csv')\n",
        "print(train_df.shape)\n",
        "print(test_df.shape)"
      ],
      "execution_count": 2,
      "outputs": [
        {
          "output_type": "stream",
          "text": [
            "(42000, 785)\n",
            "(28000, 784)\n"
          ],
          "name": "stdout"
        }
      ]
    },
    {
      "cell_type": "code",
      "metadata": {
        "id": "FY83NCAjBPaC",
        "colab_type": "code",
        "colab": {
          "base_uri": "https://localhost:8080/",
          "height": 255
        },
        "outputId": "4f6613a7-9b33-439e-8bfa-d4a08b6fbbb9"
      },
      "source": [
        "# データの確認\n",
        "train_df.info"
      ],
      "execution_count": 3,
      "outputs": [
        {
          "output_type": "execute_result",
          "data": {
            "text/plain": [
              "<bound method DataFrame.info of        label  pixel0  pixel1  pixel2  ...  pixel780  pixel781  pixel782  pixel783\n",
              "0          1       0       0       0  ...         0         0         0         0\n",
              "1          0       0       0       0  ...         0         0         0         0\n",
              "2          1       0       0       0  ...         0         0         0         0\n",
              "3          4       0       0       0  ...         0         0         0         0\n",
              "4          0       0       0       0  ...         0         0         0         0\n",
              "...      ...     ...     ...     ...  ...       ...       ...       ...       ...\n",
              "41995      0       0       0       0  ...         0         0         0         0\n",
              "41996      1       0       0       0  ...         0         0         0         0\n",
              "41997      7       0       0       0  ...         0         0         0         0\n",
              "41998      6       0       0       0  ...         0         0         0         0\n",
              "41999      9       0       0       0  ...         0         0         0         0\n",
              "\n",
              "[42000 rows x 785 columns]>"
            ]
          },
          "metadata": {
            "tags": []
          },
          "execution_count": 3
        }
      ]
    },
    {
      "cell_type": "code",
      "metadata": {
        "id": "jH_Iq6OQBgLa",
        "colab_type": "code",
        "colab": {
          "base_uri": "https://localhost:8080/",
          "height": 255
        },
        "outputId": "0a2cc16d-2c7e-4253-8fce-a8fed73edfb2"
      },
      "source": [
        "# データフレームを配列に出来ているか確認\n",
        "train_data = np.array(train_df)\n",
        "test = np.array(test_df)\n",
        "print(train_data)\n",
        "print(test)"
      ],
      "execution_count": 4,
      "outputs": [
        {
          "output_type": "stream",
          "text": [
            "[[1 0 0 ... 0 0 0]\n",
            " [0 0 0 ... 0 0 0]\n",
            " [1 0 0 ... 0 0 0]\n",
            " ...\n",
            " [7 0 0 ... 0 0 0]\n",
            " [6 0 0 ... 0 0 0]\n",
            " [9 0 0 ... 0 0 0]]\n",
            "[[0 0 0 ... 0 0 0]\n",
            " [0 0 0 ... 0 0 0]\n",
            " [0 0 0 ... 0 0 0]\n",
            " ...\n",
            " [0 0 0 ... 0 0 0]\n",
            " [0 0 0 ... 0 0 0]\n",
            " [0 0 0 ... 0 0 0]]\n"
          ],
          "name": "stdout"
        }
      ]
    },
    {
      "cell_type": "code",
      "metadata": {
        "id": "1LiJx_nUCl99",
        "colab_type": "code",
        "colab": {
          "base_uri": "https://localhost:8080/",
          "height": 136
        },
        "outputId": "bccf32bd-5f1d-4788-c4e2-c6bad17427dd"
      },
      "source": [
        "# ラベルと目的変数の定義\n",
        "label = train_data[:, 0]\n",
        "train = train_data[:,1:]\n",
        "del train_data\n",
        "print(train)"
      ],
      "execution_count": 5,
      "outputs": [
        {
          "output_type": "stream",
          "text": [
            "[[0 0 0 ... 0 0 0]\n",
            " [0 0 0 ... 0 0 0]\n",
            " [0 0 0 ... 0 0 0]\n",
            " ...\n",
            " [0 0 0 ... 0 0 0]\n",
            " [0 0 0 ... 0 0 0]\n",
            " [0 0 0 ... 0 0 0]]\n"
          ],
          "name": "stdout"
        }
      ]
    },
    {
      "cell_type": "code",
      "metadata": {
        "id": "Jm0wpyg-tYWH",
        "colab_type": "code",
        "colab": {
          "base_uri": "https://localhost:8080/",
          "height": 282
        },
        "outputId": "c1cc31fd-b6f6-4407-ae8f-1f3934084e35"
      },
      "source": [
        "import matplotlib.pyplot as plt\n",
        "%matplotlib inline\n",
        "plt.imshow(train[0].reshape(28,28))"
      ],
      "execution_count": 6,
      "outputs": [
        {
          "output_type": "execute_result",
          "data": {
            "text/plain": [
              "<matplotlib.image.AxesImage at 0x7f1f86fff748>"
            ]
          },
          "metadata": {
            "tags": []
          },
          "execution_count": 6
        },
        {
          "output_type": "display_data",
          "data": {
            "image/png": "[encoded data removed]",
            "text/plain": [
              "<Figure size 432x288 with 1 Axes>"
            ]
          },
          "metadata": {
            "tags": [],
            "needs_background": "light"
          }
        }
      ]
    },
    {
      "cell_type": "code",
      "metadata": {
        "id": "7pb6o0wbazqj",
        "colab_type": "code",
        "colab": {
          "base_uri": "https://localhost:8080/",
          "height": 51
        },
        "outputId": "5dafd2f0-e4de-435a-dba2-809c5c0182c6"
      },
      "source": [
        "# 画像は1行→28*28*1(3次元)にreshapeする必要がある\n",
        "train = train.reshape(-1, 28, 28, 1).astype('float32')\n",
        "test = test.reshape(-1, 28, 28, 1).astype('float32')\n",
        "# print(train)\n",
        "# print(test)\n",
        "print(train.shape)\n",
        "print(test.shape)"
      ],
      "execution_count": 7,
      "outputs": [
        {
          "output_type": "stream",
          "text": [
            "(42000, 28, 28, 1)\n",
            "(28000, 28, 28, 1)\n"
          ],
          "name": "stdout"
        }
      ]
    },
    {
      "cell_type": "code",
      "metadata": {
        "id": "-hGsQ54atotN",
        "colab_type": "code",
        "colab": {}
      },
      "source": [
        "# plt.imshow(train[0])"
      ],
      "execution_count": 8,
      "outputs": []
    },
    {
      "cell_type": "code",
      "metadata": {
        "id": "ihQKjifzcynS",
        "colab_type": "code",
        "colab": {}
      },
      "source": [
        "# 同じ画像を3枚重ねて学習データとテストデータ共に3次元にする\n",
        "# X_train = np.dstack([train, train, train])\n",
        "# X_test = np.dstack([test, test, test])\n",
        "# X_train.shape, X_test.shape"
      ],
      "execution_count": 9,
      "outputs": []
    },
    {
      "cell_type": "code",
      "metadata": {
        "id": "vWVHSS2YaMHk",
        "colab_type": "code",
        "colab": {
          "base_uri": "https://localhost:8080/",
          "height": 51
        },
        "outputId": "f788d315-7ba0-48d1-b943-fe59f213920d"
      },
      "source": [
        "# 画像を32x32x3に拡大させる\n",
        "import cv2\n",
        "# データのサイズを 28x28x3 -> 32x32x3 に\n",
        "x_train = []\n",
        "SIZE = 32\n",
        "for t_data in train:\n",
        "  dst = np.dstack((t_data, t_data, t_data))\n",
        "  dst = cv2.resize(dst,(SIZE, SIZE),interpolation=cv2.INTER_CUBIC)\n",
        "  x_train.append(dst)\n",
        "\n",
        "x_test = []\n",
        "for t_data in test:\n",
        "  dst = np.dstack((t_data, t_data, t_data))\n",
        "  dst = cv2.resize(dst,(SIZE, SIZE), interpolation=cv2.INTER_CUBIC)\n",
        "  x_test.append(dst)\n",
        "x_train = np.array(x_train)\n",
        "x_test = np.array(x_test)\n",
        "\n",
        "print(x_train.shape)\n",
        "print(x_test.shape)"
      ],
      "execution_count": 10,
      "outputs": [
        {
          "output_type": "stream",
          "text": [
            "(42000, 32, 32, 3)\n",
            "(28000, 32, 32, 3)\n"
          ],
          "name": "stdout"
        }
      ]
    },
    {
      "cell_type": "code",
      "metadata": {
        "id": "3Sr1LufkuJoQ",
        "colab_type": "code",
        "colab": {
          "base_uri": "https://localhost:8080/",
          "height": 1000
        },
        "outputId": "b6b38ae8-4cca-49bf-e23c-58e79a230af1"
      },
      "source": [
        "plt.imshow(x_train[0])\n",
        "x_train[0, 15:20]"
      ],
      "execution_count": 11,
      "outputs": [
        {
          "output_type": "stream",
          "text": [
            "Clipping input data to the valid range for imshow with RGB data ([0..1] for floats or [0..255] for integers).\n"
          ],
          "name": "stderr"
        },
        {
          "output_type": "execute_result",
          "data": {
            "text/plain": [
              "array([[[ 0.0000000e+00,  0.0000000e+00,  0.0000000e+00],\n",
              "        [ 0.0000000e+00,  0.0000000e+00,  0.0000000e+00],\n",
              "        [ 0.0000000e+00,  0.0000000e+00,  0.0000000e+00],\n",
              "        [ 0.0000000e+00,  0.0000000e+00,  0.0000000e+00],\n",
              "        [ 0.0000000e+00,  0.0000000e+00,  0.0000000e+00],\n",
              "        [ 0.0000000e+00,  0.0000000e+00,  0.0000000e+00],\n",
              "        [ 0.0000000e+00,  0.0000000e+00,  0.0000000e+00],\n",
              "        [ 0.0000000e+00,  0.0000000e+00,  0.0000000e+00],\n",
              "        [ 0.0000000e+00,  0.0000000e+00,  0.0000000e+00],\n",
              "        [ 0.0000000e+00,  0.0000000e+00,  0.0000000e+00],\n",
              "        [ 0.0000000e+00,  0.0000000e+00,  0.0000000e+00],\n",
              "        [-6.0959235e-02, -6.0959235e-02, -6.0959235e-02],\n",
              "        [-2.6247492e+00, -2.6247492e+00, -2.6247492e+00],\n",
              "        [ 5.9173271e-02,  5.9173271e-02,  5.9173271e-02],\n",
              "        [ 7.5352318e+01,  7.5352318e+01,  7.5352318e+01],\n",
              "        [ 2.6379492e+02,  2.6379492e+02,  2.6379492e+02],\n",
              "        [ 2.5395224e+02,  2.5395224e+02,  2.5395224e+02],\n",
              "        [ 2.7500458e+02,  2.7500458e+02,  2.7500458e+02],\n",
              "        [ 7.6652100e+01,  7.6652100e+01,  7.6652100e+01],\n",
              "        [-2.0857231e+01, -2.0857231e+01, -2.0857231e+01],\n",
              "        [-2.5990152e+00, -2.5990152e+00, -2.5990152e+00],\n",
              "        [ 3.6967966e-01,  3.6967966e-01,  3.6967966e-01],\n",
              "        [ 0.0000000e+00,  0.0000000e+00,  0.0000000e+00],\n",
              "        [ 0.0000000e+00,  0.0000000e+00,  0.0000000e+00],\n",
              "        [ 0.0000000e+00,  0.0000000e+00,  0.0000000e+00],\n",
              "        [ 0.0000000e+00,  0.0000000e+00,  0.0000000e+00],\n",
              "        [ 0.0000000e+00,  0.0000000e+00,  0.0000000e+00],\n",
              "        [ 0.0000000e+00,  0.0000000e+00,  0.0000000e+00],\n",
              "        [ 0.0000000e+00,  0.0000000e+00,  0.0000000e+00],\n",
              "        [ 0.0000000e+00,  0.0000000e+00,  0.0000000e+00],\n",
              "        [ 0.0000000e+00,  0.0000000e+00,  0.0000000e+00],\n",
              "        [ 0.0000000e+00,  0.0000000e+00,  0.0000000e+00]],\n",
              "\n",
              "       [[ 0.0000000e+00,  0.0000000e+00,  0.0000000e+00],\n",
              "        [ 0.0000000e+00,  0.0000000e+00,  0.0000000e+00],\n",
              "        [ 0.0000000e+00,  0.0000000e+00,  0.0000000e+00],\n",
              "        [ 0.0000000e+00,  0.0000000e+00,  0.0000000e+00],\n",
              "        [ 0.0000000e+00,  0.0000000e+00,  0.0000000e+00],\n",
              "        [ 0.0000000e+00,  0.0000000e+00,  0.0000000e+00],\n",
              "        [ 0.0000000e+00,  0.0000000e+00,  0.0000000e+00],\n",
              "        [ 0.0000000e+00,  0.0000000e+00,  0.0000000e+00],\n",
              "        [ 0.0000000e+00,  0.0000000e+00,  0.0000000e+00],\n",
              "        [ 0.0000000e+00,  0.0000000e+00,  0.0000000e+00],\n",
              "        [ 0.0000000e+00,  0.0000000e+00,  0.0000000e+00],\n",
              "        [-1.3402160e+00, -1.3402160e+00, -1.3402160e+00],\n",
              "        [-9.1715860e+00, -9.1715860e+00, -9.1715860e+00],\n",
              "        [ 6.4667061e+01,  6.4667061e+01,  6.4667061e+01],\n",
              "        [ 2.2171954e+02,  2.2171954e+02,  2.2171954e+02],\n",
              "        [ 2.5678110e+02,  2.5678110e+02,  2.5678110e+02],\n",
              "        [ 2.5835571e+02,  2.5835571e+02,  2.5835571e+02],\n",
              "        [ 2.3522899e+02,  2.3522899e+02,  2.3522899e+02],\n",
              "        [ 6.4322929e+01,  6.4322929e+01,  6.4322929e+01],\n",
              "        [-1.3443401e+01, -1.3443401e+01, -1.3443401e+01],\n",
              "        [-8.7285495e-01, -8.7285495e-01, -8.7285495e-01],\n",
              "        [ 2.4645310e-02,  2.4645310e-02,  2.4645310e-02],\n",
              "        [ 0.0000000e+00,  0.0000000e+00,  0.0000000e+00],\n",
              "        [ 0.0000000e+00,  0.0000000e+00,  0.0000000e+00],\n",
              "        [ 0.0000000e+00,  0.0000000e+00,  0.0000000e+00],\n",
              "        [ 0.0000000e+00,  0.0000000e+00,  0.0000000e+00],\n",
              "        [ 0.0000000e+00,  0.0000000e+00,  0.0000000e+00],\n",
              "        [ 0.0000000e+00,  0.0000000e+00,  0.0000000e+00],\n",
              "        [ 0.0000000e+00,  0.0000000e+00,  0.0000000e+00],\n",
              "        [ 0.0000000e+00,  0.0000000e+00,  0.0000000e+00],\n",
              "        [ 0.0000000e+00,  0.0000000e+00,  0.0000000e+00],\n",
              "        [ 0.0000000e+00,  0.0000000e+00,  0.0000000e+00]],\n",
              "\n",
              "       [[ 0.0000000e+00,  0.0000000e+00,  0.0000000e+00],\n",
              "        [ 0.0000000e+00,  0.0000000e+00,  0.0000000e+00],\n",
              "        [ 0.0000000e+00,  0.0000000e+00,  0.0000000e+00],\n",
              "        [ 0.0000000e+00,  0.0000000e+00,  0.0000000e+00],\n",
              "        [ 0.0000000e+00,  0.0000000e+00,  0.0000000e+00],\n",
              "        [ 0.0000000e+00,  0.0000000e+00,  0.0000000e+00],\n",
              "        [ 0.0000000e+00,  0.0000000e+00,  0.0000000e+00],\n",
              "        [ 0.0000000e+00,  0.0000000e+00,  0.0000000e+00],\n",
              "        [ 0.0000000e+00,  0.0000000e+00,  0.0000000e+00],\n",
              "        [ 0.0000000e+00,  0.0000000e+00,  0.0000000e+00],\n",
              "        [ 2.0568185e-01,  2.0568185e-01,  2.0568185e-01],\n",
              "        [-1.5885201e+01, -1.5885201e+01, -1.5885201e+01],\n",
              "        [ 5.0594978e+01,  5.0594978e+01,  5.0594978e+01],\n",
              "        [ 1.8817532e+02,  1.8817532e+02,  1.8817532e+02],\n",
              "        [ 2.6071521e+02,  2.6071521e+02,  2.6071521e+02],\n",
              "        [ 2.5248857e+02,  2.5248857e+02,  2.5248857e+02],\n",
              "        [ 2.2587836e+02,  2.2587836e+02,  2.2587836e+02],\n",
              "        [ 6.9622299e+01,  6.9622299e+01,  6.9622299e+01],\n",
              "        [ 2.8488965e+00,  2.8488965e+00,  2.8488965e+00],\n",
              "        [-2.5261497e+00, -2.5261497e+00, -2.5261497e+00],\n",
              "        [-1.0562043e-01, -1.0562043e-01, -1.0562043e-01],\n",
              "        [ 0.0000000e+00,  0.0000000e+00,  0.0000000e+00],\n",
              "        [ 0.0000000e+00,  0.0000000e+00,  0.0000000e+00],\n",
              "        [ 0.0000000e+00,  0.0000000e+00,  0.0000000e+00],\n",
              "        [ 0.0000000e+00,  0.0000000e+00,  0.0000000e+00],\n",
              "        [ 0.0000000e+00,  0.0000000e+00,  0.0000000e+00],\n",
              "        [ 0.0000000e+00,  0.0000000e+00,  0.0000000e+00],\n",
              "        [ 0.0000000e+00,  0.0000000e+00,  0.0000000e+00],\n",
              "        [ 0.0000000e+00,  0.0000000e+00,  0.0000000e+00],\n",
              "        [ 0.0000000e+00,  0.0000000e+00,  0.0000000e+00],\n",
              "        [ 0.0000000e+00,  0.0000000e+00,  0.0000000e+00],\n",
              "        [ 0.0000000e+00,  0.0000000e+00,  0.0000000e+00]],\n",
              "\n",
              "       [[ 0.0000000e+00,  0.0000000e+00,  0.0000000e+00],\n",
              "        [ 0.0000000e+00,  0.0000000e+00,  0.0000000e+00],\n",
              "        [ 0.0000000e+00,  0.0000000e+00,  0.0000000e+00],\n",
              "        [ 0.0000000e+00,  0.0000000e+00,  0.0000000e+00],\n",
              "        [ 0.0000000e+00,  0.0000000e+00,  0.0000000e+00],\n",
              "        [ 0.0000000e+00,  0.0000000e+00,  0.0000000e+00],\n",
              "        [ 0.0000000e+00,  0.0000000e+00,  0.0000000e+00],\n",
              "        [ 0.0000000e+00,  0.0000000e+00,  0.0000000e+00],\n",
              "        [ 0.0000000e+00,  0.0000000e+00,  0.0000000e+00],\n",
              "        [ 2.2625002e-01,  2.2625002e-01,  2.2625002e-01],\n",
              "        [-1.5007472e+00, -1.5007472e+00, -1.5007472e+00],\n",
              "        [-2.4460978e+01, -2.4460978e+01, -2.4460978e+01],\n",
              "        [ 7.5952095e+01,  7.5952095e+01,  7.5952095e+01],\n",
              "        [ 2.3422224e+02,  2.3422224e+02,  2.3422224e+02],\n",
              "        [ 2.6687323e+02,  2.6687323e+02,  2.6687323e+02],\n",
              "        [ 2.5989627e+02,  2.5989627e+02,  2.5989627e+02],\n",
              "        [ 1.2917738e+02,  1.2917738e+02,  1.2917738e+02],\n",
              "        [ 8.8685932e+00,  8.8685932e+00,  8.8685932e+00],\n",
              "        [-8.7535410e+00, -8.7535410e+00, -8.7535410e+00],\n",
              "        [ 4.3140227e-01,  4.3140227e-01,  4.3140227e-01],\n",
              "        [ 3.6594551e-02,  3.6594551e-02,  3.6594551e-02],\n",
              "        [ 0.0000000e+00,  0.0000000e+00,  0.0000000e+00],\n",
              "        [ 0.0000000e+00,  0.0000000e+00,  0.0000000e+00],\n",
              "        [ 0.0000000e+00,  0.0000000e+00,  0.0000000e+00],\n",
              "        [ 0.0000000e+00,  0.0000000e+00,  0.0000000e+00],\n",
              "        [ 0.0000000e+00,  0.0000000e+00,  0.0000000e+00],\n",
              "        [ 0.0000000e+00,  0.0000000e+00,  0.0000000e+00],\n",
              "        [ 0.0000000e+00,  0.0000000e+00,  0.0000000e+00],\n",
              "        [ 0.0000000e+00,  0.0000000e+00,  0.0000000e+00],\n",
              "        [ 0.0000000e+00,  0.0000000e+00,  0.0000000e+00],\n",
              "        [ 0.0000000e+00,  0.0000000e+00,  0.0000000e+00],\n",
              "        [ 0.0000000e+00,  0.0000000e+00,  0.0000000e+00]],\n",
              "\n",
              "       [[ 0.0000000e+00,  0.0000000e+00,  0.0000000e+00],\n",
              "        [ 0.0000000e+00,  0.0000000e+00,  0.0000000e+00],\n",
              "        [ 0.0000000e+00,  0.0000000e+00,  0.0000000e+00],\n",
              "        [ 0.0000000e+00,  0.0000000e+00,  0.0000000e+00],\n",
              "        [ 0.0000000e+00,  0.0000000e+00,  0.0000000e+00],\n",
              "        [ 0.0000000e+00,  0.0000000e+00,  0.0000000e+00],\n",
              "        [ 0.0000000e+00,  0.0000000e+00,  0.0000000e+00],\n",
              "        [ 0.0000000e+00,  0.0000000e+00,  0.0000000e+00],\n",
              "        [ 0.0000000e+00,  0.0000000e+00,  0.0000000e+00],\n",
              "        [-3.8384312e-01, -3.8384312e-01, -3.8384312e-01],\n",
              "        [-8.8747044e+00, -8.8747044e+00, -8.8747044e+00],\n",
              "        [ 5.2367249e+01,  5.2367249e+01,  5.2367249e+01],\n",
              "        [ 1.7328415e+02,  1.7328415e+02,  1.7328415e+02],\n",
              "        [ 2.5808743e+02,  2.5808743e+02,  2.5808743e+02],\n",
              "        [ 2.4505760e+02,  2.4505760e+02,  2.4505760e+02],\n",
              "        [ 1.5817920e+02,  1.5817920e+02,  1.5817920e+02],\n",
              "        [ 3.0960026e+01,  3.0960026e+01,  3.0960026e+01],\n",
              "        [ 1.1023593e-01,  1.1023593e-01,  1.1023593e-01],\n",
              "        [-1.3506298e+00, -1.3506298e+00, -1.3506298e+00],\n",
              "        [ 4.5643385e-02,  4.5643385e-02,  4.5643385e-02],\n",
              "        [ 0.0000000e+00,  0.0000000e+00,  0.0000000e+00],\n",
              "        [ 0.0000000e+00,  0.0000000e+00,  0.0000000e+00],\n",
              "        [ 0.0000000e+00,  0.0000000e+00,  0.0000000e+00],\n",
              "        [ 0.0000000e+00,  0.0000000e+00,  0.0000000e+00],\n",
              "        [ 0.0000000e+00,  0.0000000e+00,  0.0000000e+00],\n",
              "        [ 0.0000000e+00,  0.0000000e+00,  0.0000000e+00],\n",
              "        [ 0.0000000e+00,  0.0000000e+00,  0.0000000e+00],\n",
              "        [ 0.0000000e+00,  0.0000000e+00,  0.0000000e+00],\n",
              "        [ 0.0000000e+00,  0.0000000e+00,  0.0000000e+00],\n",
              "        [ 0.0000000e+00,  0.0000000e+00,  0.0000000e+00],\n",
              "        [ 0.0000000e+00,  0.0000000e+00,  0.0000000e+00],\n",
              "        [ 0.0000000e+00,  0.0000000e+00,  0.0000000e+00]]], dtype=float32)"
            ]
          },
          "metadata": {
            "tags": []
          },
          "execution_count": 11
        },
        {
          "output_type": "display_data",
          "data": {
            "image/png": "[encoded data removed]",
            "text/plain": [
              "<Figure size 432x288 with 1 Axes>"
            ]
          },
          "metadata": {
            "tags": [],
            "needs_background": "light"
          }
        }
      ]
    },
    {
      "cell_type": "code",
      "metadata": {
        "id": "C5qWYUxvCyTS",
        "colab_type": "code",
        "colab": {}
      },
      "source": [
        "from sklearn.model_selection import KFold\n",
        "from sklearn.model_selection import train_test_split\n",
        "\n",
        "# クロスバリデーション(トレーニングデータを5つに分割)\n",
        "kf = KFold(n_splits=5, shuffle=True)\n",
        "\n",
        "# 多クラス分類のときにクラスのラベルをそのまま推論させない\n",
        "# One-Hot表現に変換し、各クラスに分類される確率を出す。\n",
        "# 0～9の数字のラベルに分類する？\n",
        "from keras.utils import to_categorical\n",
        "y_train = to_categorical(label, 10)\n",
        "\n",
        "for train_index, eval_index in kf.split(x_train):\n",
        "    X_tra, X_eval = x_train[train_index], x_train[eval_index]\n",
        "    y_tra, y_eval = y_train[train_index], y_train[eval_index]\n",
        "\n",
        "# データを正規化\n",
        "x_tra = X_tra / 255\n",
        "x_eval = X_eval / 255"
      ],
      "execution_count": 12,
      "outputs": []
    },
    {
      "cell_type": "code",
      "metadata": {
        "id": "UkECkMDS4Fcf",
        "colab_type": "code",
        "colab": {
          "base_uri": "https://localhost:8080/",
          "height": 34
        },
        "outputId": "219375b0-f9fc-4243-80a3-7fca4ce48302"
      },
      "source": [
        "x_tra.shape"
      ],
      "execution_count": 13,
      "outputs": [
        {
          "output_type": "execute_result",
          "data": {
            "text/plain": [
              "(33600, 32, 32, 3)"
            ]
          },
          "metadata": {
            "tags": []
          },
          "execution_count": 13
        }
      ]
    },
    {
      "cell_type": "code",
      "metadata": {
        "id": "1aQwlxquhrl5",
        "colab_type": "code",
        "colab": {
          "base_uri": "https://localhost:8080/",
          "height": 153
        },
        "outputId": "b32d3b9c-c440-42e6-843e-97d76cbd5b3e"
      },
      "source": [
        "print(y_train)\n",
        "print(y_train.shape)"
      ],
      "execution_count": 14,
      "outputs": [
        {
          "output_type": "stream",
          "text": [
            "[[0. 1. 0. ... 0. 0. 0.]\n",
            " [1. 0. 0. ... 0. 0. 0.]\n",
            " [0. 1. 0. ... 0. 0. 0.]\n",
            " ...\n",
            " [0. 0. 0. ... 1. 0. 0.]\n",
            " [0. 0. 0. ... 0. 0. 0.]\n",
            " [0. 0. 0. ... 0. 0. 1.]]\n",
            "(42000, 10)\n"
          ],
          "name": "stdout"
        }
      ]
    },
    {
      "cell_type": "code",
      "metadata": {
        "id": "FrYqQTbXE2eH",
        "colab_type": "code",
        "colab": {}
      },
      "source": [
        "import matplotlib.pyplot as plt\n",
        "%matplotlib inline\n",
        "# 画像の表示:imshow(行)→28*28にすればいいのではないか？\n",
        "# plt.imshow(train[300])"
      ],
      "execution_count": 15,
      "outputs": []
    },
    {
      "cell_type": "code",
      "metadata": {
        "id": "Gnwh2KbxFG9s",
        "colab_type": "code",
        "colab": {}
      },
      "source": [
        "# 必要なライブラリをインポート\n",
        "from keras.models import Sequential\n",
        "from keras.layers import Dense, Dropout, Flatten\n",
        "from keras.layers import Conv2D, MaxPooling2D\n",
        "from keras.optimizers import SGD\n",
        "from keras.datasets import mnist\n",
        "from keras import backend as K\n",
        "from keras.preprocessing.image import ImageDataGenerator\n",
        "from keras.callbacks import LearningRateScheduler\n",
        "from tensorflow.keras.applications import EfficientNetB7"
      ],
      "execution_count": 16,
      "outputs": []
    },
    {
      "cell_type": "code",
      "metadata": {
        "id": "GOJIcZ6_V-Nv",
        "colab_type": "code",
        "colab": {
          "base_uri": "https://localhost:8080/",
          "height": 425
        },
        "outputId": "07d4fb9e-1c11-4d5f-e777-5bb110ba1505"
      },
      "source": [
        "# 3つのアンサンブルを作成する\n",
        "NETS = 3\n",
        "NET = NETS -1\n",
        "model = [0] *NETS\n",
        "for j in range(NET):\n",
        "    # モデルを作成：精度を上げるためにはここが一番重要\n",
        "    # アンサンブルで同じモデルを複数作成\n",
        "    model[j] = Sequential()\n",
        "    model[j].add(Conv2D(32, kernel_size=(3, 3),\n",
        "                    activation='relu',\n",
        "                    input_shape=(SIZE, SIZE, 3)))\n",
        "    model[j].add(MaxPooling2D(pool_size=(2, 2)))\n",
        "\n",
        "    model[j].add(Conv2D(64, (3, 3), activation='relu'))\n",
        "    model[j].add(MaxPooling2D(pool_size=(2, 2)))\n",
        "    model[j].add(Dropout(0.25))\n",
        "\n",
        "    model[j].add(Flatten())\n",
        "    model[j].add(Dense(512, activation='relu'))\n",
        "    model[j].add(Dense(10, activation='softmax'))\n",
        "\n",
        "    # 学習のためのモデルを設定\n",
        "    model[j].compile(loss='categorical_crossentropy',\n",
        "                  optimizer=SGD(lr=0.002),\n",
        "                  metrics=['accuracy'])\n",
        "\n",
        "model[0].summary()"
      ],
      "execution_count": 17,
      "outputs": [
        {
          "output_type": "stream",
          "text": [
            "Model: \"sequential\"\n",
            "_________________________________________________________________\n",
            "Layer (type)                 Output Shape              Param #   \n",
            "=================================================================\n",
            "conv2d (Conv2D)              (None, 30, 30, 32)        896       \n",
            "_________________________________________________________________\n",
            "max_pooling2d (MaxPooling2D) (None, 15, 15, 32)        0         \n",
            "_________________________________________________________________\n",
            "conv2d_1 (Conv2D)            (None, 13, 13, 64)        18496     \n",
            "_________________________________________________________________\n",
            "max_pooling2d_1 (MaxPooling2 (None, 6, 6, 64)          0         \n",
            "_________________________________________________________________\n",
            "dropout (Dropout)            (None, 6, 6, 64)          0         \n",
            "_________________________________________________________________\n",
            "flatten (Flatten)            (None, 2304)              0         \n",
            "_________________________________________________________________\n",
            "dense (Dense)                (None, 512)               1180160   \n",
            "_________________________________________________________________\n",
            "dense_1 (Dense)              (None, 10)                5130      \n",
            "=================================================================\n",
            "Total params: 1,204,682\n",
            "Trainable params: 1,204,682\n",
            "Non-trainable params: 0\n",
            "_________________________________________________________________\n"
          ],
          "name": "stdout"
        }
      ]
    },
    {
      "cell_type": "code",
      "metadata": {
        "id": "san6CgG5vXX2",
        "colab_type": "code",
        "colab": {
          "base_uri": "https://localhost:8080/",
          "height": 357
        },
        "outputId": "a1a6ba5c-e0b4-4ec9-9e99-fd278edca6fb"
      },
      "source": [
        "# 転移学習でEfficientNetB7のモデルを作成\n",
        "base_model = EfficientNetB7(\n",
        "    include_top=False,\n",
        "    weights=\"imagenet\",\n",
        "    input_shape=(SIZE, SIZE, 3),\n",
        "    classes=10\n",
        ")\n",
        "\n",
        "model[NET] = Sequential()\n",
        "model[NET].add(base_model)\n",
        "model[NET].add(Dropout(0.25))\n",
        "\n",
        "model[NET].add(Flatten())\n",
        "model[NET].add(Dense(512, activation='relu'))\n",
        "model[NET].add(Dense(10, activation='softmax'))\n",
        "\n",
        "# 学習のためのモデルを設定\n",
        "model[NET].compile(loss='categorical_crossentropy',\n",
        "              optimizer=SGD(lr=0.002),\n",
        "              metrics=['accuracy'])\n",
        "\n",
        "model[NET].summary()"
      ],
      "execution_count": 18,
      "outputs": [
        {
          "output_type": "stream",
          "text": [
            "Downloading data from https://storage.googleapis.com/keras-applications/efficientnetb7_notop.h5\n",
            "258080768/258076736 [==============================] - 11s 0us/step\n",
            "Model: \"sequential_2\"\n",
            "_________________________________________________________________\n",
            "Layer (type)                 Output Shape              Param #   \n",
            "=================================================================\n",
            "efficientnetb7 (Functional)  (None, 1, 1, 2560)        64097687  \n",
            "_________________________________________________________________\n",
            "dropout_2 (Dropout)          (None, 1, 1, 2560)        0         \n",
            "_________________________________________________________________\n",
            "flatten_2 (Flatten)          (None, 2560)              0         \n",
            "_________________________________________________________________\n",
            "dense_4 (Dense)              (None, 512)               1311232   \n",
            "_________________________________________________________________\n",
            "dense_5 (Dense)              (None, 10)                5130      \n",
            "=================================================================\n",
            "Total params: 65,414,049\n",
            "Trainable params: 65,103,322\n",
            "Non-trainable params: 310,727\n",
            "_________________________________________________________________\n"
          ],
          "name": "stdout"
        }
      ]
    },
    {
      "cell_type": "code",
      "metadata": {
        "id": "RI5wu9tctG2a",
        "colab_type": "code",
        "colab": {}
      },
      "source": [
        "# データ拡張により画像をさらに作成\n",
        "datagen = ImageDataGenerator(\n",
        "        # rotation_range: 整数．画像をランダムに回転する回転範囲．\n",
        "        rotation_range=10,  \n",
        "        # zoom_range: 浮動小数点数または[lower，upper]．ランダムにズームする範囲．浮動小数点数が与えられた場合，[lower, upper] = [1-zoom_range, 1+zoom_range]\n",
        "        zoom_range = 0.10,  \n",
        "        # width_shift_range: 浮動小数点数（横幅に対する割合）．ランダムに水平シフトする範囲．\n",
        "        width_shift_range=0.1, \n",
        "        # height_shift_range: 浮動小数点数（縦幅に対する割合）．ランダムに垂直シフトする範囲．\n",
        "        height_shift_range=0.1)"
      ],
      "execution_count": 19,
      "outputs": []
    },
    {
      "cell_type": "code",
      "metadata": {
        "id": "IzwekmpktMkS",
        "colab_type": "code",
        "colab": {}
      },
      "source": [
        "# 画像データをImageDataGeneratorに食わせることで画像の水増し\n",
        "datagen.fit(x_tra)"
      ],
      "execution_count": 20,
      "outputs": []
    },
    {
      "cell_type": "code",
      "metadata": {
        "id": "KwDuVLL2fncC",
        "colab_type": "code",
        "colab": {}
      },
      "source": [
        "# 学習率減衰：学習率を返す関数を用意する\n",
        "def lr_schedul(epoch):\n",
        "    x = 0.002\n",
        "    if epoch >= 10:\n",
        "        x = 0.001\n",
        "    if epoch >= 30:\n",
        "        x = 0.0005\n",
        "    return x\n",
        "\n",
        "lr_decay = LearningRateScheduler(\n",
        "    lr_schedul,\n",
        "    # verbose=1で、更新メッセージ表示。0の場合は表示しない\n",
        "    verbose=1,\n",
        ")"
      ],
      "execution_count": 21,
      "outputs": []
    },
    {
      "cell_type": "code",
      "metadata": {
        "id": "FGx_vz4ez6PX",
        "colab_type": "code",
        "colab": {
          "base_uri": "https://localhost:8080/",
          "height": 1000
        },
        "outputId": "e94f3904-498c-424e-9e62-447e661091b5"
      },
      "source": [
        "# 学習\n",
        "result = [0] * NETS\n",
        "for j in range(NETS):\n",
        "  result[j] = model[j].fit_generator(datagen.flow(x_tra, y_tra),\n",
        "            epochs=8,\n",
        "            validation_data=(x_eval, y_eval),\n",
        "            callbacks=[lr_decay]\n",
        "            )\n",
        "  # 精度を検証\n",
        "  model[j].evaluate(x_eval, y_eval)\n",
        "  print('')\n",
        "\n",
        "# 学習状況のログを表示\n",
        "history = result[NET].history\n",
        "print(history.keys())"
      ],
      "execution_count": 22,
      "outputs": [
        {
          "output_type": "stream",
          "text": [
            "WARNING:tensorflow:From <ipython-input-22-adfa668c072e>:7: Model.fit_generator (from tensorflow.python.keras.engine.training) is deprecated and will be removed in a future version.\n",
            "Instructions for updating:\n",
            "Please use Model.fit, which supports generators.\n",
            "\n",
            "Epoch 00001: LearningRateScheduler reducing learning rate to 0.002.\n",
            "Epoch 1/8\n",
            "1050/1050 [==============================] - 27s 26ms/step - loss: 2.0249 - accuracy: 0.3145 - val_loss: 0.9229 - val_accuracy: 0.7494\n",
            "\n",
            "Epoch 00002: LearningRateScheduler reducing learning rate to 0.002.\n",
            "Epoch 2/8\n",
            "1050/1050 [==============================] - 27s 26ms/step - loss: 1.1856 - accuracy: 0.6080 - val_loss: 0.4742 - val_accuracy: 0.8686\n",
            "\n",
            "Epoch 00003: LearningRateScheduler reducing learning rate to 0.002.\n",
            "Epoch 3/8\n",
            "1050/1050 [==============================] - 27s 25ms/step - loss: 0.8719 - accuracy: 0.7198 - val_loss: 0.3021 - val_accuracy: 0.9239\n",
            "\n",
            "Epoch 00004: LearningRateScheduler reducing learning rate to 0.002.\n",
            "Epoch 4/8\n",
            "1050/1050 [==============================] - 26s 25ms/step - loss: 0.6265 - accuracy: 0.8048 - val_loss: 0.2199 - val_accuracy: 0.9448\n",
            "\n",
            "Epoch 00005: LearningRateScheduler reducing learning rate to 0.002.\n",
            "Epoch 5/8\n",
            "1050/1050 [==============================] - 26s 25ms/step - loss: 0.4741 - accuracy: 0.8536 - val_loss: 0.1768 - val_accuracy: 0.9520\n",
            "\n",
            "Epoch 00006: LearningRateScheduler reducing learning rate to 0.002.\n",
            "Epoch 6/8\n",
            "1050/1050 [==============================] - 26s 25ms/step - loss: 0.3933 - accuracy: 0.8766 - val_loss: 0.1503 - val_accuracy: 0.9618\n",
            "\n",
            "Epoch 00007: LearningRateScheduler reducing learning rate to 0.002.\n",
            "Epoch 7/8\n",
            "1050/1050 [==============================] - 26s 24ms/step - loss: 0.3463 - accuracy: 0.8918 - val_loss: 0.1324 - val_accuracy: 0.9607\n",
            "\n",
            "Epoch 00008: LearningRateScheduler reducing learning rate to 0.002.\n",
            "Epoch 8/8\n",
            "1050/1050 [==============================] - 26s 25ms/step - loss: 0.3121 - accuracy: 0.9041 - val_loss: 0.1303 - val_accuracy: 0.9649\n",
            "263/263 [==============================] - 1s 4ms/step - loss: 0.1303 - accuracy: 0.9649\n",
            "\n",
            "\n",
            "Epoch 00001: LearningRateScheduler reducing learning rate to 0.002.\n",
            "Epoch 1/8\n",
            "1050/1050 [==============================] - 25s 24ms/step - loss: 1.8988 - accuracy: 0.3700 - val_loss: 0.7615 - val_accuracy: 0.7915\n",
            "\n",
            "Epoch 00002: LearningRateScheduler reducing learning rate to 0.002.\n",
            "Epoch 2/8\n",
            "1050/1050 [==============================] - 25s 24ms/step - loss: 1.1409 - accuracy: 0.6248 - val_loss: 0.4618 - val_accuracy: 0.8745\n",
            "\n",
            "Epoch 00003: LearningRateScheduler reducing learning rate to 0.002.\n",
            "Epoch 3/8\n",
            "1050/1050 [==============================] - 26s 25ms/step - loss: 0.8445 - accuracy: 0.7343 - val_loss: 0.2948 - val_accuracy: 0.9219\n",
            "\n",
            "Epoch 00004: LearningRateScheduler reducing learning rate to 0.002.\n",
            "Epoch 4/8\n",
            "1050/1050 [==============================] - 26s 25ms/step - loss: 0.5953 - accuracy: 0.8173 - val_loss: 0.2254 - val_accuracy: 0.9369\n",
            "\n",
            "Epoch 00005: LearningRateScheduler reducing learning rate to 0.002.\n",
            "Epoch 5/8\n",
            "1050/1050 [==============================] - 26s 25ms/step - loss: 0.4532 - accuracy: 0.8615 - val_loss: 0.1626 - val_accuracy: 0.9568\n",
            "\n",
            "Epoch 00006: LearningRateScheduler reducing learning rate to 0.002.\n",
            "Epoch 6/8\n",
            "1050/1050 [==============================] - 26s 24ms/step - loss: 0.3824 - accuracy: 0.8833 - val_loss: 0.1336 - val_accuracy: 0.9631\n",
            "\n",
            "Epoch 00007: LearningRateScheduler reducing learning rate to 0.002.\n",
            "Epoch 7/8\n",
            "1050/1050 [==============================] - 25s 24ms/step - loss: 0.3289 - accuracy: 0.8982 - val_loss: 0.1288 - val_accuracy: 0.9655\n",
            "\n",
            "Epoch 00008: LearningRateScheduler reducing learning rate to 0.002.\n",
            "Epoch 8/8\n",
            "1050/1050 [==============================] - 25s 23ms/step - loss: 0.2963 - accuracy: 0.9096 - val_loss: 0.1230 - val_accuracy: 0.9655\n",
            "263/263 [==============================] - 1s 4ms/step - loss: 0.1230 - accuracy: 0.9655\n",
            "\n",
            "\n",
            "Epoch 00001: LearningRateScheduler reducing learning rate to 0.002.\n",
            "Epoch 1/8\n",
            "1050/1050 [==============================] - 333s 317ms/step - loss: 1.8244 - accuracy: 0.3599 - val_loss: 1.5781 - val_accuracy: 0.4662\n",
            "\n",
            "Epoch 00002: LearningRateScheduler reducing learning rate to 0.002.\n",
            "Epoch 2/8\n",
            "1050/1050 [==============================] - 325s 309ms/step - loss: 0.8310 - accuracy: 0.7494 - val_loss: 0.4008 - val_accuracy: 0.8993\n",
            "\n",
            "Epoch 00003: LearningRateScheduler reducing learning rate to 0.002.\n",
            "Epoch 3/8\n",
            "1050/1050 [==============================] - 324s 308ms/step - loss: 0.4311 - accuracy: 0.8768 - val_loss: 0.2315 - val_accuracy: 0.9373\n",
            "\n",
            "Epoch 00004: LearningRateScheduler reducing learning rate to 0.002.\n",
            "Epoch 4/8\n",
            "1050/1050 [==============================] - 323s 308ms/step - loss: 0.3198 - accuracy: 0.9087 - val_loss: 0.1274 - val_accuracy: 0.9663\n",
            "\n",
            "Epoch 00005: LearningRateScheduler reducing learning rate to 0.002.\n",
            "Epoch 5/8\n",
            "1050/1050 [==============================] - 325s 309ms/step - loss: 0.2442 - accuracy: 0.9293 - val_loss: 0.1068 - val_accuracy: 0.9711\n",
            "\n",
            "Epoch 00006: LearningRateScheduler reducing learning rate to 0.002.\n",
            "Epoch 6/8\n",
            "1050/1050 [==============================] - 323s 308ms/step - loss: 0.2116 - accuracy: 0.9387 - val_loss: 0.1235 - val_accuracy: 0.9668\n",
            "\n",
            "Epoch 00007: LearningRateScheduler reducing learning rate to 0.002.\n",
            "Epoch 7/8\n",
            "1050/1050 [==============================] - 322s 307ms/step - loss: 0.1801 - accuracy: 0.9485 - val_loss: 0.0851 - val_accuracy: 0.9758\n",
            "\n",
            "Epoch 00008: LearningRateScheduler reducing learning rate to 0.002.\n",
            "Epoch 8/8\n",
            "1050/1050 [==============================] - 324s 308ms/step - loss: 0.1653 - accuracy: 0.9520 - val_loss: 0.0518 - val_accuracy: 0.9852\n",
            "263/263 [==============================] - 27s 103ms/step - loss: 0.0518 - accuracy: 0.9852\n",
            "\n",
            "dict_keys(['loss', 'accuracy', 'val_loss', 'val_accuracy', 'lr'])\n"
          ],
          "name": "stdout"
        }
      ]
    },
    {
      "cell_type": "code",
      "metadata": {
        "id": "YLAevu4e1vsX",
        "colab_type": "code",
        "colab": {
          "base_uri": "https://localhost:8080/",
          "height": 279
        },
        "outputId": "15562454-ee9c-4c57-b6fc-e0b2c9cc1b04"
      },
      "source": [
        "import matplotlib.pyplot as plt\n",
        "%matplotlib inline\n",
        "\n",
        "# 学習曲線を表示する→どうやって表示させるんだっけ？historyをインスタンス化して列名取得じゃダメなの？\n",
        "fig = plt.figure()\n",
        "ax1 = fig.add_subplot(121)\n",
        "ax1.plot(history['loss'], label='loss')\n",
        "ax1.plot(history['val_loss'], label='val_loss')\n",
        "ax1.set_xlabel('epoch')\n",
        "ax1.set_ylabel('loss')\n",
        "ax1.legend()\n",
        "ax1.grid()\n",
        "\n",
        "ax2 = fig.add_subplot(122)\n",
        "ax2.plot(history['accuracy'], label='accuracy')\n",
        "ax2.plot(history['val_accuracy'], label='val_accuracy')\n",
        "ax2.set_xlabel('epoch')\n",
        "ax2.set_ylabel('accuracy')\n",
        "ax2.legend()\n",
        "ax2.grid()"
      ],
      "execution_count": 23,
      "outputs": [
        {
          "output_type": "display_data",
          "data": {
            "image/png": "[encoded data removed]",
            "text/plain": [
              "<Figure size 432x288 with 2 Axes>"
            ]
          },
          "metadata": {
            "tags": [],
            "needs_background": "light"
          }
        }
      ]
    },
    {
      "cell_type": "code",
      "metadata": {
        "id": "UdSC_lzRQAjw",
        "colab_type": "code",
        "colab": {
          "base_uri": "https://localhost:8080/",
          "height": 34
        },
        "outputId": "d5aeba78-0aa0-424b-f029-5c0d156ace15"
      },
      "source": [
        "# model[0].predict(test)\n",
        "test.shape"
      ],
      "execution_count": 45,
      "outputs": [
        {
          "output_type": "execute_result",
          "data": {
            "text/plain": [
              "(28000, 28, 28, 1)"
            ]
          },
          "metadata": {
            "tags": []
          },
          "execution_count": 45
        }
      ]
    },
    {
      "cell_type": "code",
      "metadata": {
        "id": "0V0eTSFYRc4o",
        "colab_type": "code",
        "colab": {
          "base_uri": "https://localhost:8080/",
          "height": 34
        },
        "outputId": "4b57d2e9-3881-49b8-d526-df3479f5f066"
      },
      "source": [
        "x_test.shape"
      ],
      "execution_count": 46,
      "outputs": [
        {
          "output_type": "execute_result",
          "data": {
            "text/plain": [
              "(28000, 32, 32, 3)"
            ]
          },
          "metadata": {
            "tags": []
          },
          "execution_count": 46
        }
      ]
    },
    {
      "cell_type": "code",
      "metadata": {
        "id": "k2uzlaXb2dUR",
        "colab_type": "code",
        "colab": {
          "base_uri": "https://localhost:8080/",
          "height": 238
        },
        "outputId": "4d9e7bc9-f4b1-4aa4-950b-c2d444dc4f20"
      },
      "source": [
        "# テストデータの予測\n",
        "results = np.zeros((test.shape[0],10)) \n",
        "for j in range(NETS):\n",
        "    results = results + model[j].predict(x_test)\n",
        "# カテゴリー分類されたテストデータの最大値のインデックス(右から順に数えて何番目かを返す)\n",
        "results = np.argmax(results,axis = 1)\n",
        "# npの配列のままなので、データフレームの形に直して名前を付ける\n",
        "results = pd.Series(results, name=\"Label\")\n",
        "# 一応できているか確認\n",
        "print(results)\n",
        "print(results.shape)\n",
        "\n",
        "submission = pd.concat([pd.Series(range(1,28001),name = \"ImageId\"),results],axis = 1)\n",
        "submission.to_csv(\"CNN_submission.csv\",index=False)"
      ],
      "execution_count": 47,
      "outputs": [
        {
          "output_type": "stream",
          "text": [
            "0        2\n",
            "1        0\n",
            "2        9\n",
            "3        9\n",
            "4        3\n",
            "        ..\n",
            "27995    9\n",
            "27996    7\n",
            "27997    3\n",
            "27998    9\n",
            "27999    2\n",
            "Name: Label, Length: 28000, dtype: int64\n",
            "(28000,)\n"
          ],
          "name": "stdout"
        }
      ]
    },
    {
      "cell_type": "code",
      "metadata": {
        "id": "fXJtBVjwRjJ1",
        "colab_type": "code",
        "colab": {
          "base_uri": "https://localhost:8080/",
          "height": 272
        },
        "outputId": "71ddfda4-c983-4451-9681-7e6a8e1964b3"
      },
      "source": [
        "sub_df = pd.read_csv('CNN_submission.csv')\n",
        "print(sub_df.shape)\n",
        "print(sub_df)"
      ],
      "execution_count": 48,
      "outputs": [
        {
          "output_type": "stream",
          "text": [
            "(28000, 2)\n",
            "       ImageId  Label\n",
            "0            1      2\n",
            "1            2      0\n",
            "2            3      9\n",
            "3            4      9\n",
            "4            5      3\n",
            "...        ...    ...\n",
            "27995    27996      9\n",
            "27996    27997      7\n",
            "27997    27998      3\n",
            "27998    27999      9\n",
            "27999    28000      2\n",
            "\n",
            "[28000 rows x 2 columns]\n"
          ],
          "name": "stdout"
        }
      ]
    },
    {
      "cell_type": "code",
      "metadata": {
        "id": "tL8J1vNonz8U",
        "colab_type": "code",
        "colab": {}
      },
      "source": [
        ""
      ],
      "execution_count": 48,
      "outputs": []
    }
  ]
}